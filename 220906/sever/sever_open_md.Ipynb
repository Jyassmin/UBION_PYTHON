{
 "cells": [
  {
   "cell_type": "markdown",
   "metadata": {},
   "source": [
    "# Flask\n",
    "---\n",
    "- 웹서버를 열기위한 가장 쉬운 라이브러리 \"Flask\"\n",
    "- 터미널에서 아래와 같이 실행"
   ]
  },
  {
   "cell_type": "code",
   "execution_count": null,
   "metadata": {},
   "outputs": [],
   "source": [
    "#경로 지정. cd : change directory\n",
    "cd /Users/kyle/UBION_python/220906/sever\n",
    "\n",
    "#Flask 실행\n",
    "export FLASK_APP=main\n",
    "flask run"
   ]
  },
  {
   "cell_type": "markdown",
   "metadata": {},
   "source": [
    "#### 또는 작성해놓은 main.py를 터미널에서 실행하면 서버 열림"
   ]
  },
  {
   "cell_type": "code",
   "execution_count": null,
   "metadata": {},
   "outputs": [],
   "source": []
  },
  {
   "cell_type": "code",
   "execution_count": null,
   "metadata": {},
   "outputs": [],
   "source": []
  }
 ],
 "metadata": {
  "language_info": {
   "name": "python"
  },
  "orig_nbformat": 4
 },
 "nbformat": 4,
 "nbformat_minor": 2
}
