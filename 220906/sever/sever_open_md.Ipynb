{
 "cells": [
  {
   "cell_type": "markdown",
   "metadata": {},
   "source": [
    "# Flask\n",
    "---\n",
    "- 웹서버를 열기위한 가장 쉬운 라이브러리 \"Flask\"\n",
    "- 터미널에서 아래와 같이 실행"
   ]
  },
  {
   "cell_type": "code",
   "execution_count": null,
   "metadata": {},
   "outputs": [],
   "source": [
    "#경로 지정. cd : change directory\n",
    "cd /Users/kyle/UBION_python/220906/sever\n",
    "\n",
    "#Flask 실행\n",
    "export FLASK_APP=main\n",
    "flask run"
   ]
  },
  {
   "cell_type": "markdown",
   "metadata": {},
   "source": [
    "#### 또는 작성해놓은 main.py를 터미널에서 실행하면 서버 열림"
   ]
  },
  {
   "cell_type": "code",
   "execution_count": null,
   "metadata": {},
   "outputs": [],
   "source": [
    "# body에 적으면 우리가 보는 곳에 나옴\n",
    "## 하이퍼링크를 넣으려면 아래같이. <a> </a> 사이에는 우리가 보려는 글자 삽입!\n",
    "<a href=\"http://www.google.com\"> 구글</a>\n",
    "\n",
    "## /second 페이지로 넘어가려면 상대경로를 지정.\n",
    "<a href=\"/second\">Second Page</a>\n",
    "\n",
    "## 여기서 ID/password를 통해 가게 하려면 form을 사용해서 사용자로부터 input을 받음\n",
    "## input을 main.py에서 변수로 받아서 if문을 통해 "
   ]
  },
  {
   "cell_type": "code",
   "execution_count": null,
   "metadata": {},
   "outputs": [],
   "source": [
    "\"\"\"body\"\"\"\n",
    "\n",
    "# 1.페이지 제목(Second Page)    \n",
    "    <h3>Second Page</h3>\n",
    "    \n",
    "# 2.페이지 이동 버튼( \"/\"으로 )\n",
    "    <a href=\"/\">index page</a>\n",
    "    \n",
    "# 3.입력받고 action(이동) 하는 형식 제작\n",
    "## text는 일반 box, password는 일반 box에서 마스킹처리된, submit은 제출버튼\n",
    "### index페이지에서 input된 ID와 password는 이동할 \"/second\"의 app.route()에서 받을 수 있는 함수를 만들어\n",
    "### 그 끝에는 return을 통해 second로 이동할 수 있도록한다.\n",
    "        <form action=\"/second\" method=\"get\">\n",
    "        <input type=\"text\" name=\"ID\"><br>\n",
    "        <input type=\"password\" name=\"password\"><br>\n",
    "        <input type=\"submit\">\n",
    "\n",
    "\n",
    "# post형식으로 form을 만들면(second/html에서) third로 넘어갈 때 오직 호출을 통해서만 갈 수 있음.(단순 주소입력x)\n",
    "    <!-- 기본은 method가 get형식인데 이번에는 post형식으로! -->\n",
    "    <form action=\"/third\" method=\"post\">\n",
    "        <input type=\"text\" name=\"title\"><br>\n",
    "        <input type=\"text\" name=\"content\"><br>\n",
    "        <input type=\"submit\">\n"
   ]
  },
  {
   "cell_type": "code",
   "execution_count": null,
   "metadata": {},
   "outputs": [],
   "source": [
    "# second페이지에서 입력된 title과 content가 app.third에서 저장되어 페이지이동과 같이 리턴되며\n",
    "##  아래와 같이 {{}} 를 안에 사용하여 페이지에 표시 가능!\n",
    "    <p>입력한 title</p>\n",
    "    <p>{{title}}</p>\n",
    "    <p>입력한 content</p>\n",
    "    <p>{{content}}</p>"
   ]
  },
  {
   "cell_type": "code",
   "execution_count": null,
   "metadata": {},
   "outputs": [],
   "source": [
    "<tr>은 행지정\n",
    "<th>는 볼드로 출력\n",
    "<td>는 출력"
   ]
  },
  {
   "cell_type": "code",
   "execution_count": null,
   "metadata": {},
   "outputs": [],
   "source": []
  },
  {
   "cell_type": "code",
   "execution_count": null,
   "metadata": {},
   "outputs": [],
   "source": []
  },
  {
   "cell_type": "markdown",
   "metadata": {},
   "source": [
    "## 터미널 커맨드\n",
    "---\n",
    "- 이동 : cd ~\n",
    "- 상위폴더 이동 : cd ../\n",
    "- 현재위치 확인 : ls\n",
    "- 파일이름 자동완성 : tab"
   ]
  },
  {
   "cell_type": "code",
   "execution_count": null,
   "metadata": {},
   "outputs": [],
   "source": []
  }
 ],
 "metadata": {
  "language_info": {
   "name": "python"
  },
  "orig_nbformat": 4
 },
 "nbformat": 4,
 "nbformat_minor": 2
}
