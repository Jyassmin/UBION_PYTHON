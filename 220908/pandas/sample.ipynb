{
 "cells": [
  {
   "cell_type": "markdown",
   "metadata": {},
   "source": [
    "#### 라이브러리 설치하는 명령어\n",
    "- pip install 라이브러리명\n",
    "- 쥬피터 환경에서 명령어 입력 앞에 ! 붙여서 사용하는걸 추천(위아래줄 관섭x)\n",
    "\n",
    "#### 라이브러리 로드\n",
    "- import 라이브러리명 as 별칭\n",
    "- from 라이브러리명 import 함수나 클래스명(라이브러리 내부)<br>\n",
    "ex) import pandas as pd, from flask import Flask"
   ]
  },
  {
   "cell_type": "markdown",
   "metadata": {},
   "source": [
    "### pandas\n",
    "1. 컬럼의 이름 변경하는 방법<Br>\n",
    "   - 데이터프레임명.columns -> list형태로 컬럼을 추출. 함수라고 ()을 붙히면 x<br>\n",
    "   - 데이터프레임명.columns = [\"\",\"\",\"\"] 으로 컬럼명 변경\n",
    "2. 특정 컬럼을 추출하는 방법\n",
    "- "
   ]
  },
  {
   "cell_type": "code",
   "execution_count": null,
   "metadata": {},
   "outputs": [],
   "source": []
  },
  {
   "cell_type": "code",
   "execution_count": null,
   "metadata": {},
   "outputs": [],
   "source": []
  },
  {
   "cell_type": "code",
   "execution_count": null,
   "metadata": {},
   "outputs": [],
   "source": []
  },
  {
   "cell_type": "code",
   "execution_count": null,
   "metadata": {},
   "outputs": [],
   "source": []
  }
 ],
 "metadata": {
  "language_info": {
   "name": "python"
  },
  "orig_nbformat": 4
 },
 "nbformat": 4,
 "nbformat_minor": 2
}
