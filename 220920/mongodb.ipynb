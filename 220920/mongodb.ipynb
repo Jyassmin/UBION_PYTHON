{
 "cells": [
  {
   "cell_type": "markdown",
   "metadata": {},
   "source": [
    "# Mongodb\n",
    "---"
   ]
  },
  {
   "cell_type": "code",
   "execution_count": null,
   "metadata": {},
   "outputs": [],
   "source": [
    "\"\"\"\n",
    "[MongoDB 실행]\n",
    "brew services start mongodb-community\n",
    "\n",
    "[MongoDB 중지]\n",
    "brew services stop mongodb-community\n",
    "\n",
    "[실행확인]\n",
    "http://localhost:27017 에서 한 줄 뜨면 됌\n",
    "\n",
    "[mongo shell 오픈]\n",
    "> mongosh\n",
    "\"\"\""
   ]
  },
  {
   "cell_type": "code",
   "execution_count": 1,
   "metadata": {},
   "outputs": [
    {
     "name": "stdout",
     "output_type": "stream",
     "text": [
      "Collecting pymongo\n",
      "  Downloading pymongo-4.2.0-cp38-cp38-macosx_10_9_x86_64.whl (373 kB)\n",
      "\u001b[2K     \u001b[90m━━━━━━━━━━━━━━━━━━━━━━━━━━━━━━━━━━━━━━━\u001b[0m \u001b[32m373.6/373.6 kB\u001b[0m \u001b[31m6.4 MB/s\u001b[0m eta \u001b[36m0:00:00\u001b[0m00:01\u001b[0m\n",
      "\u001b[?25hInstalling collected packages: pymongo\n",
      "Successfully installed pymongo-4.2.0\n"
     ]
    }
   ],
   "source": [
    "# mongodb 연결시키는 라이브러리 설치\n",
    "# !pip install pymongo"
   ]
  },
  {
   "cell_type": "code",
   "execution_count": 15,
   "metadata": {},
   "outputs": [],
   "source": [
    "from pymongo import MongoClient\n",
    "\n",
    "#어느 DB로 연결할지 경로 설정\n",
    "client = MongoClient(\n",
    "    host = \"localhost\",\n",
    "    port = 27017\n",
    ")"
   ]
  },
  {
   "cell_type": "code",
   "execution_count": 16,
   "metadata": {},
   "outputs": [
    {
     "data": {
      "text/plain": [
       "['admin', 'config', 'local']"
      ]
     },
     "execution_count": 16,
     "metadata": {},
     "output_type": "execute_result"
    }
   ],
   "source": [
    "## mongDB에 있는 데이터베이스들을 출력\n",
    "client.list_database_names()"
   ]
  },
  {
   "cell_type": "code",
   "execution_count": 17,
   "metadata": {},
   "outputs": [],
   "source": [
    "# 데이터베이스 접근\n",
    "db = client[\"ubion\"]"
   ]
  },
  {
   "cell_type": "code",
   "execution_count": 18,
   "metadata": {},
   "outputs": [],
   "source": [
    "# collection(테이블) 접근\n",
    "collection = db[\"test\"]"
   ]
  },
  {
   "cell_type": "code",
   "execution_count": 26,
   "metadata": {},
   "outputs": [
    {
     "data": {
      "text/plain": [
       "<pymongo.results.InsertOneResult at 0x7ff64ae05df0>"
      ]
     },
     "execution_count": 26,
     "metadata": {},
     "output_type": "execute_result"
    }
   ],
   "source": [
    "data = {\"id\" : \"test\",\n",
    "        \"password\" : \"1234\"\n",
    "        }\n",
    "collection.insert_one(data)"
   ]
  },
  {
   "cell_type": "code",
   "execution_count": 27,
   "metadata": {},
   "outputs": [
    {
     "data": {
      "text/plain": [
       "{'_id': ObjectId('63296cea8ea087017972b969'), 'id': 'test', 'password': '1234'}"
      ]
     },
     "execution_count": 27,
     "metadata": {},
     "output_type": "execute_result"
    }
   ],
   "source": [
    "collection.find_one()"
   ]
  },
  {
   "cell_type": "code",
   "execution_count": 28,
   "metadata": {},
   "outputs": [
    {
     "data": {
      "text/plain": [
       "<pymongo.results.InsertManyResult at 0x7ff64a286fd0>"
      ]
     },
     "execution_count": 28,
     "metadata": {},
     "output_type": "execute_result"
    }
   ],
   "source": [
    "## 여러개의 데이터를 추가\n",
    "data = [\n",
    "        {\n",
    "            \"name\" : \"test\",\n",
    "            \"phone\" : \"01012345678\",\n",
    "            \"gender\" : \"male\"\n",
    "        },\n",
    "        {\n",
    "            \"loc\" : \"seoul\"\n",
    "        }\n",
    "    ]\n",
    "collection.insert_many(data)"
   ]
  },
  {
   "cell_type": "code",
   "execution_count": 29,
   "metadata": {},
   "outputs": [
    {
     "data": {
      "text/plain": [
       "[{'_id': ObjectId('63296cea8ea087017972b969'),\n",
       "  'id': 'test',\n",
       "  'password': '1234'},\n",
       " {'_id': ObjectId('632971b38ea087017972b96a'),\n",
       "  'name': 'test',\n",
       "  'phone': '01012345678',\n",
       "  'gender': 'male'},\n",
       " {'_id': ObjectId('632971b38ea087017972b96b'), 'loc': 'seoul'}]"
      ]
     },
     "execution_count": 29,
     "metadata": {},
     "output_type": "execute_result"
    }
   ],
   "source": [
    "list(collection.find())"
   ]
  },
  {
   "cell_type": "code",
   "execution_count": 30,
   "metadata": {},
   "outputs": [
    {
     "data": {
      "text/plain": [
       "[{'_id': ObjectId('63296cea8ea087017972b969'),\n",
       "  'id': 'test',\n",
       "  'password': '0000'},\n",
       " {'_id': ObjectId('632971b38ea087017972b96a'),\n",
       "  'name': 'test',\n",
       "  'phone': '01012345678',\n",
       "  'gender': 'male'},\n",
       " {'_id': ObjectId('632971b38ea087017972b96b'), 'loc': 'seoul'}]"
      ]
     },
     "execution_count": 30,
     "metadata": {},
     "output_type": "execute_result"
    }
   ],
   "source": [
    "# data 수정\n",
    "collection.update_one(\n",
    "    {\n",
    "        \"id\" : \"test\"\n",
    "    },\n",
    "    {\n",
    "        \n",
    "        \"$set\" : {\n",
    "            \"password\" : \"0000\"\n",
    "        }\n",
    "    }\n",
    ")\n",
    "\n",
    "# 수정 확인\n",
    "list(collection.find())"
   ]
  },
  {
   "cell_type": "code",
   "execution_count": 31,
   "metadata": {},
   "outputs": [
    {
     "data": {
      "text/plain": [
       "[{'_id': ObjectId('632971b38ea087017972b96a'),\n",
       "  'name': 'test',\n",
       "  'phone': '01012345678',\n",
       "  'gender': 'male'},\n",
       " {'_id': ObjectId('632971b38ea087017972b96b'), 'loc': 'seoul'}]"
      ]
     },
     "execution_count": 31,
     "metadata": {},
     "output_type": "execute_result"
    }
   ],
   "source": [
    "# data 삭제\n",
    "collection.delete_one(\n",
    "    {\n",
    "        \"id\" : \"test\"\n",
    "    }\n",
    ")\n",
    "\n",
    "list(collection.find())"
   ]
  },
  {
   "cell_type": "code",
   "execution_count": null,
   "metadata": {},
   "outputs": [],
   "source": [
    "### mongoDB\n",
    "find(조건1, 조건2, 조건3, 어떤 컬럼을 보여줄지)\n",
    "{}의 의미는 조건없이 모든데이터를 출력하겠다.\n",
    "\n",
    "#select\n",
    "1. db.collection.find()\n",
    "    ->  SELECT * FROM TABLE\n",
    "2. db.collection.find({}, {\"id\" : 1, \"password\" : 1})\n",
    "    -> SELECT _id, id, password FROM TABLE\n",
    "3. db.collection.find({}, {\"id\" : 1, \"password\" : 1, \"_id\" : 0}) # 0이면 해당 변수 출력x\n",
    "    -> SELECT id, password, FROM TABLE\n",
    "# where\n",
    "4. db.collection.find({}, {\"id\" : \"test\"})\n",
    "    -> SELECT * FROM TABLE WHERE id = \"test\"\n",
    "# and,or\n",
    "5. db.collection.find({}, {\"id\" : \"test\", \"password\" : \"1234\"})\n",
    "    -> SELECT * FROM TABLE WHERE id = \"test\" and password = \"1234\"\n",
    "6. db.collection.find({}, {\"id\" : \"test\"}, {\"password\" : \"1234\"})\n",
    "    -> SELECT * FROM TABLE WHERE id = \"test\" or password = \"1234\"\n",
    "# >,<\n",
    "7. db.collection.find({\"age\" : {\"$gt : 25\"} })\n",
    "    -> SELECT * FROM WHERE age > 25\n",
    "8. db.collection.find({\"age\" : {\"$lt : 25\"} })\n",
    "    -> SELECT * FROM WHERE age < 25\n",
    "# like\n",
    "9. db.collection.find({\"id\" : { /bc/ } })\n",
    "    -> SELECT * FROM TABLE WHERE id LIKE \"%bc%\"\n",
    "#order by\n",
    "10. db.collection.find().sort({\"id\" : 1})\n",
    "    -> SELECT * FROM TABLE ORDER BY id ASC\n",
    "11. db.collection.find().sort({\"id\" : -1})\n",
    "    -> SELECT * FROM TABLE ORDER BY id DESC\n",
    "#limit\n",
    "12. db.collection.find().limit(10)\n",
    "    -> SELECT * FROM TABLE LIMIT 10"
   ]
  },
  {
   "cell_type": "code",
   "execution_count": null,
   "metadata": {},
   "outputs": [],
   "source": []
  },
  {
   "cell_type": "code",
   "execution_count": null,
   "metadata": {},
   "outputs": [],
   "source": []
  },
  {
   "cell_type": "code",
   "execution_count": null,
   "metadata": {},
   "outputs": [],
   "source": []
  },
  {
   "cell_type": "code",
   "execution_count": null,
   "metadata": {},
   "outputs": [],
   "source": []
  },
  {
   "cell_type": "code",
   "execution_count": null,
   "metadata": {},
   "outputs": [],
   "source": []
  },
  {
   "cell_type": "code",
   "execution_count": null,
   "metadata": {},
   "outputs": [],
   "source": []
  },
  {
   "cell_type": "code",
   "execution_count": null,
   "metadata": {},
   "outputs": [],
   "source": []
  },
  {
   "cell_type": "code",
   "execution_count": null,
   "metadata": {},
   "outputs": [],
   "source": []
  },
  {
   "cell_type": "code",
   "execution_count": null,
   "metadata": {},
   "outputs": [],
   "source": []
  }
 ],
 "metadata": {
  "kernelspec": {
   "display_name": "Python 3.8.5 ('base')",
   "language": "python",
   "name": "python3"
  },
  "language_info": {
   "codemirror_mode": {
    "name": "ipython",
    "version": 3
   },
   "file_extension": ".py",
   "mimetype": "text/x-python",
   "name": "python",
   "nbconvert_exporter": "python",
   "pygments_lexer": "ipython3",
   "version": "3.8.5"
  },
  "orig_nbformat": 4,
  "vscode": {
   "interpreter": {
    "hash": "c97f18ea1c0f4969cf594a5df9f14ba2a838cf106fc5300ddecce29d9d6f0c71"
   }
  }
 },
 "nbformat": 4,
 "nbformat_minor": 2
}
