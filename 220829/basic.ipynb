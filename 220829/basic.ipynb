{
 "cells": [
  {
   "cell_type": "markdown",
   "metadata": {},
   "source": [
    "## Start"
   ]
  },
  {
   "cell_type": "code",
   "execution_count": 1,
   "metadata": {},
   "outputs": [
    {
     "name": "stdout",
     "output_type": "stream",
     "text": [
      "10\n",
      "Hello World\n"
     ]
    }
   ],
   "source": [
    "a = 10\n",
    "b = \"Hello World\"\n",
    "print(a)\n",
    "print(b)"
   ]
  },
  {
   "cell_type": "code",
   "execution_count": 3,
   "metadata": {},
   "outputs": [
    {
     "name": "stdout",
     "output_type": "stream",
     "text": [
      "<class 'int'>\n",
      "<class 'str'>\n"
     ]
    }
   ],
   "source": [
    "print(type(a))\n",
    "print(type(b))"
   ]
  },
  {
   "cell_type": "markdown",
   "metadata": {},
   "source": [
    "## 1. 연산자\n",
    "### {+ - * / // % **}"
   ]
  },
  {
   "cell_type": "code",
   "execution_count": 7,
   "metadata": {},
   "outputs": [
    {
     "name": "stdout",
     "output_type": "stream",
     "text": [
      "8 2 15 1.67 1 2 125\n"
     ]
    }
   ],
   "source": [
    "x=5\n",
    "y=3\n",
    "print(x+y, x-y, x*y, round(x/y,2), x//y, x%y, x**y)"
   ]
  },
  {
   "cell_type": "code",
   "execution_count": 8,
   "metadata": {},
   "outputs": [
    {
     "name": "stdout",
     "output_type": "stream",
     "text": [
      "6\n"
     ]
    }
   ],
   "source": [
    "x = 5\n",
    "x += 1\n",
    "print(x)\n"
   ]
  },
  {
   "cell_type": "markdown",
   "metadata": {},
   "source": [
    "## 비교연산자\n",
    "### -> bool(True, False) 형태의 데이터 출력"
   ]
  },
  {
   "cell_type": "code",
   "execution_count": 9,
   "metadata": {},
   "outputs": [
    {
     "name": "stdout",
     "output_type": "stream",
     "text": [
      "False True True False True False\n"
     ]
    }
   ],
   "source": [
    "a = 5\n",
    "b = 3\n",
    "print(a == b, a != b, a > b, a < b, a >= b, a <= b)"
   ]
  },
  {
   "cell_type": "code",
   "execution_count": 14,
   "metadata": {},
   "outputs": [
    {
     "name": "stdout",
     "output_type": "stream",
     "text": [
      "True\n",
      "False\n",
      "True\n"
     ]
    }
   ],
   "source": [
    "## and(참참)), or(최소 하나 참), not(반대로 출력)\n",
    "a= 10\n",
    "print( (a>5) and (a<15))\n",
    "print( (a>5) and (a>15))\n",
    "print( (a>5) or (a>15))\n"
   ]
  },
  {
   "cell_type": "code",
   "execution_count": 17,
   "metadata": {},
   "outputs": [
    {
     "name": "stdout",
     "output_type": "stream",
     "text": [
      "False\n"
     ]
    }
   ],
   "source": [
    "print(not(True))"
   ]
  },
  {
   "cell_type": "markdown",
   "metadata": {},
   "source": [
    "## IF문"
   ]
  },
  {
   "cell_type": "markdown",
   "metadata": {},
   "source": [
    "1. 조건문이 참인 경우 코드가 실행(들여쓰기 한 코드가 실행)\n",
    "2. 조건식이 거짓인 경우 코드가 실행이 되지 않는다.\n",
    "3. 거짓일 떄의 코드를 실행하려면 else문을 사용해야한다."
   ]
  },
  {
   "cell_type": "code",
   "execution_count": 27,
   "metadata": {},
   "outputs": [
    {
     "name": "stdout",
     "output_type": "stream",
     "text": [
      "a는 10보다 같거나 크다\n"
     ]
    }
   ],
   "source": [
    "a=15\n",
    "\n",
    "if a<10:\n",
    "    print(\"a는 10보다 작다\")  #a가 10보다 작은 경우 실행\n",
    "else:\n",
    "    print(\"a는 10보다 같거나 크다\")  #그 외의 경우에 실행"
   ]
  },
  {
   "cell_type": "markdown",
   "metadata": {},
   "source": [
    "> 입력값-input"
   ]
  },
  {
   "cell_type": "code",
   "execution_count": 6,
   "metadata": {},
   "outputs": [
    {
     "name": "stdout",
     "output_type": "stream",
     "text": [
      "A\n"
     ]
    }
   ],
   "source": [
    "score = int(input(\"점수를 입력해주세요:\"))\n",
    "\n",
    "if score >= 90:\n",
    "    print(\"A\")      #score 90이상인 경우\n",
    "elif score >= 80:\n",
    "    print(\"B\")      #score 80이상, 90미만\n",
    "elif score >= 70:\n",
    "    print(\"C\")      #score 70이상, 80미만\n",
    "else:\n",
    "    print(\"F\")      #score 70미만"
   ]
  },
  {
   "cell_type": "markdown",
   "metadata": {},
   "source": [
    "## While문"
   ]
  },
  {
   "cell_type": "code",
   "execution_count": 11,
   "metadata": {},
   "outputs": [
    {
     "name": "stdout",
     "output_type": "stream",
     "text": [
      "0 0\n",
      "0 1\n",
      "0 2\n",
      "1 0\n",
      "1 1\n",
      "1 2\n",
      "2 0\n",
      "2 1\n",
      "2 2\n"
     ]
    }
   ],
   "source": [
    "## for문\n",
    "## for 변수명 in range(시작값, 종료값, 증가값):\n",
    "\n",
    "for i in range(0, 3, 1):\n",
    "    for j in range(0, 3, 1):\n",
    "        print(i,j)"
   ]
  },
  {
   "cell_type": "code",
   "execution_count": 12,
   "metadata": {},
   "outputs": [
    {
     "name": "stdout",
     "output_type": "stream",
     "text": [
      "10\n",
      "9\n",
      "8\n",
      "7\n",
      "6\n",
      "5\n",
      "4\n",
      "3\n",
      "2\n"
     ]
    }
   ],
   "source": [
    "for i in range(10, 1, -1):\n",
    "    print(i)"
   ]
  },
  {
   "cell_type": "code",
   "execution_count": 22,
   "metadata": {},
   "outputs": [
    {
     "name": "stdout",
     "output_type": "stream",
     "text": [
      "55\n"
     ]
    }
   ],
   "source": [
    "# 1. for문을 이용해서 1부터 10까지의 합계를 출력하시오\n",
    "sum=0\n",
    "for i in range(1, 11, 1):\n",
    "    sum += i\n",
    "print(sum)"
   ]
  },
  {
   "cell_type": "code",
   "execution_count": 29,
   "metadata": {},
   "outputs": [
    {
     "name": "stdout",
     "output_type": "stream",
     "text": [
      "2 4 6 8 10 12 14 16 18 20 22 24 26 28 30 32 34 36 38 40 42 44 46 48 50 650\n"
     ]
    }
   ],
   "source": [
    "# 2. 1부터 50까지의 짝수의 합계를 구하는 식\n",
    "\n",
    "sum=0\n",
    "for i in range(1, 51, 1):\n",
    "    if (i%2 == 0):\n",
    "        print(i, end=' ')\n",
    "        sum += i\n",
    "        \n",
    "print(sum)"
   ]
  },
  {
   "cell_type": "code",
   "execution_count": 31,
   "metadata": {},
   "outputs": [
    {
     "name": "stdout",
     "output_type": "stream",
     "text": [
      "{ 4 ,  6 }\n",
      "{ 5 ,  5 }\n",
      "{ 6 ,  4 }\n",
      "3 번\n"
     ]
    }
   ],
   "source": [
    "# 3. 주사위 2개를 굴려서 합이 10이 되는 경우의 수를 출력하시오\n",
    "\n",
    "count=0\n",
    "for i in range(1, 7, 1):\n",
    "    for j in range(1, 7, 1):\n",
    "        if (i+j == 10):\n",
    "            print(\"{\",i,\", \", j,\"}\")\n",
    "            count += 1\n",
    "\n",
    "print(count,\"번\")"
   ]
  },
  {
   "cell_type": "markdown",
   "metadata": {},
   "source": [
    "## While문\n",
    "- 초기값을 미리 지정\n",
    "- while에 조건식을 넣어줌"
   ]
  },
  {
   "cell_type": "code",
   "execution_count": 38,
   "metadata": {},
   "outputs": [
    {
     "name": "stdout",
     "output_type": "stream",
     "text": [
      "0 1 2 3 4 5 6 7 8 9 "
     ]
    }
   ],
   "source": [
    "i = 0\n",
    "while i<10:     # for i in range(0, 10, 1)\n",
    "     print(i, end=\" \")\n",
    "     i+=1"
   ]
  },
  {
   "cell_type": "code",
   "execution_count": 42,
   "metadata": {},
   "outputs": [
    {
     "name": "stdout",
     "output_type": "stream",
     "text": [
      "0 1 2 3 4 5 6 "
     ]
    }
   ],
   "source": [
    "#break문 : 반복문을 종료\n",
    "for i in range(0, 100, 1):\n",
    "    if i==7:\n",
    "        break\n",
    "    print(i, end=\" \")\n",
    "    "
   ]
  },
  {
   "cell_type": "code",
   "execution_count": 41,
   "metadata": {},
   "outputs": [
    {
     "name": "stdout",
     "output_type": "stream",
     "text": [
      "0 1 2 3 4 5 6 7 "
     ]
    }
   ],
   "source": [
    "for i in range(0, 100, 1):\n",
    "    print(i, end=\" \")  # print의 위치에 따라 출력이 달라짐.\n",
    "    if i == 7:\n",
    "        break\n"
   ]
  },
  {
   "cell_type": "markdown",
   "metadata": {},
   "source": [
    "## Test"
   ]
  },
  {
   "cell_type": "code",
   "execution_count": 44,
   "metadata": {},
   "outputs": [
    {
     "name": "stdout",
     "output_type": "stream",
     "text": [
      "42\n"
     ]
    }
   ],
   "source": [
    "# 1부터 1000까지의 합을 구하는데 합계가 900이 넘어가는 최초의 숫자는 무엇인가\n",
    "\n",
    "sum = 0\n",
    "for i in range(1, 1001, 1):\n",
    "    sum += i\n",
    "    if sum > 900:\n",
    "        print(i)\n",
    "        break\n"
   ]
  },
  {
   "cell_type": "code",
   "execution_count": 46,
   "metadata": {},
   "outputs": [
    {
     "name": "stdout",
     "output_type": "stream",
     "text": [
      "42\n"
     ]
    }
   ],
   "source": [
    "# 1부터 1000까지의 합을 구하는데 합계가 900이 넘어가는 최초의 숫자는 무엇인가\n",
    "\n",
    "sum = 0\n",
    "i = 0\n",
    "while i <= 1000:\n",
    "    sum += i\n",
    "    if sum > 900:\n",
    "        print(i)\n",
    "        break\n",
    "    i += 1\n"
   ]
  },
  {
   "cell_type": "markdown",
   "metadata": {},
   "source": [
    "## Tuple-튜플"
   ]
  },
  {
   "cell_type": "code",
   "execution_count": 47,
   "metadata": {},
   "outputs": [
    {
     "name": "stdout",
     "output_type": "stream",
     "text": [
      "(20, 'test') (3, 3.14) (20, 'test', 3, 3.14) (20, 'test', 20, 'test', 20, 'test')\n"
     ]
    }
   ],
   "source": [
    "#tuple 데이터형태\n",
    "a = (20, \"test\")\n",
    "b = (3, 3.14)\n",
    "c= a+b\n",
    "d = a*3\n",
    "\n",
    "print(a,b,c,d)"
   ]
  },
  {
   "cell_type": "code",
   "execution_count": 50,
   "metadata": {},
   "outputs": [
    {
     "name": "stdout",
     "output_type": "stream",
     "text": [
      "20\n"
     ]
    }
   ],
   "source": [
    "#20이라는 숫자를 출력하려면\n",
    "# a[0]\n",
    "print(a[0])"
   ]
  },
  {
   "cell_type": "code",
   "execution_count": 53,
   "metadata": {},
   "outputs": [
    {
     "name": "stdout",
     "output_type": "stream",
     "text": [
      "(20, 30)\n",
      "(30, 40)\n",
      "(30, 40)\n"
     ]
    }
   ],
   "source": [
    "a=(10,20,30,40)\n",
    "print(a[1:3])\n",
    "print(a[2:4])\n",
    "print(a[2:])"
   ]
  },
  {
   "cell_type": "code",
   "execution_count": 71,
   "metadata": {},
   "outputs": [
    {
     "name": "stdout",
     "output_type": "stream",
     "text": [
      "[20, 10, 50, 20]\n"
     ]
    }
   ],
   "source": [
    "a=[20, 10, 50, 20]\n",
    "print(a)"
   ]
  },
  {
   "cell_type": "code",
   "execution_count": 73,
   "metadata": {},
   "outputs": [
    {
     "name": "stdout",
     "output_type": "stream",
     "text": [
      "[50, 20, 20, 10]\n"
     ]
    }
   ],
   "source": [
    "\"\"\"정렬(sort)\"\"\"\n",
    "#클래스가 아니라 내장함수라서 변수 뒤에 \".함수명()\" 붙혀쓴다\n",
    "# a.sort()\n",
    "a.reverse()\n",
    "print(a)"
   ]
  },
  {
   "cell_type": "code",
   "execution_count": null,
   "metadata": {},
   "outputs": [],
   "source": [
    "\"\"\"리스트삽입(append)\"\"\"\n",
    "a.append(22)\n",
    "print(a)"
   ]
  },
  {
   "cell_type": "code",
   "execution_count": 69,
   "metadata": {},
   "outputs": [
    {
     "name": "stdout",
     "output_type": "stream",
     "text": [
      "[3, 6, 9, 12, 15, 18, 21, 24, 27, 30, 33, 36, 39, 42, 45, 48, 51, 54, 57, 60, 63, 66, 69]\n"
     ]
    }
   ],
   "source": [
    "\"\"\"Q\"\"\"\n",
    "# 1부터 70까지 3의 배수를 리스트로 만들어서 출력하시오.\n",
    "\n",
    "a = []\n",
    "for i in range(1, 71, 1):\n",
    "    if (i % 3 == 0):\n",
    "        a.append(i)\n",
    "\n",
    "print(a)\n"
   ]
  },
  {
   "cell_type": "markdown",
   "metadata": {},
   "source": [
    "## 딕셔너리 데이터형"
   ]
  },
  {
   "cell_type": "markdown",
   "metadata": {},
   "source": [
    "{ key1 : value1, key2 : value2 }"
   ]
  },
  {
   "cell_type": "code",
   "execution_count": 76,
   "metadata": {},
   "outputs": [
    {
     "name": "stdout",
     "output_type": "stream",
     "text": [
      "test\n"
     ]
    }
   ],
   "source": [
    "dict = { \"name\" : \"test\"\n",
    "        , \"age\" : 20\n",
    "        , \"phone\" : \"01012345678\" }\n",
    "\n",
    "print(dict[\"name\"])"
   ]
  },
  {
   "cell_type": "code",
   "execution_count": 78,
   "metadata": {},
   "outputs": [
    {
     "name": "stdout",
     "output_type": "stream",
     "text": [
      "{'name': 'test', 'age': 20, 'phone': '01012345678', 'area': 'seoul'}\n"
     ]
    }
   ],
   "source": [
    "\"\"\"삽입\"\"\"\n",
    "dict[\"area\"] = \"seoul\"      #기존에 없는 key를 입력하여 삽입. 저장순서가 상관이 없음\n",
    "print(dict)"
   ]
  },
  {
   "cell_type": "code",
   "execution_count": 81,
   "metadata": {},
   "outputs": [],
   "source": [
    "\"\"\"리스트안, 다수의 딕셔너리\"\"\"\n",
    "#데이터의 형태 [ { }, { }, { } ]\n",
    "test_data = [\n",
    "    {\"name\" : \"test\",\n",
    "     \"age\" : 20},\n",
    "    {\"name\" : \"test2\",\n",
    "     \"age\" : 25},\n",
    "    {\"name\" : \"test3\",\n",
    "     \"age\" : 15}\n",
    "]"
   ]
  },
  {
   "cell_type": "code",
   "execution_count": 80,
   "metadata": {},
   "outputs": [
    {
     "name": "stdout",
     "output_type": "stream",
     "text": [
      "[{'name': 'test', 'age': 20}, {'name': 'test2', 'age': 25}, {'name': 'test3', 'age': 15}]\n"
     ]
    }
   ],
   "source": [
    "print(test_data)"
   ]
  },
  {
   "cell_type": "code",
   "execution_count": 83,
   "metadata": {},
   "outputs": [
    {
     "name": "stdout",
     "output_type": "stream",
     "text": [
      "test\n"
     ]
    }
   ],
   "source": [
    "print(test_data[0][\"name\"])"
   ]
  },
  {
   "cell_type": "markdown",
   "metadata": {},
   "source": [
    "### 대소문자 변환 - upper(), lower(), title()"
   ]
  },
  {
   "cell_type": "code",
   "execution_count": 85,
   "metadata": {},
   "outputs": [
    {
     "name": "stdout",
     "output_type": "stream",
     "text": [
      "HELLO WORLD\n",
      "hello world\n",
      "Hello World\n"
     ]
    }
   ],
   "source": [
    "a=\"Hello world\"\n",
    "print(a.upper())        #대문자\n",
    "print(a.lower())        #소문자\n",
    "print(a.title())        #각 단어 첫글자만 대문자"
   ]
  },
  {
   "cell_type": "markdown",
   "metadata": {},
   "source": [
    "### 공백제거 - strip(), lstrip(), rstrip()"
   ]
  },
  {
   "cell_type": "code",
   "execution_count": 93,
   "metadata": {},
   "outputs": [
    {
     "name": "stdout",
     "output_type": "stream",
     "text": [
      " Hello world \n",
      "Hello world\n",
      "Hello world \n",
      " Hello world\n"
     ]
    }
   ],
   "source": [
    "a = \" Hello world \"\n",
    "print(a)\n",
    "print(a.strip())        #좌우공백 제거\n",
    "print(a.lstrip())       #좌공백 제거\n",
    "print(a.rstrip())       #우공백 제거"
   ]
  },
  {
   "cell_type": "markdown",
   "metadata": {},
   "source": [
    "### 대체 - replace()"
   ]
  },
  {
   "cell_type": "code",
   "execution_count": 97,
   "metadata": {},
   "outputs": [
    {
     "data": {
      "text/plain": [
       "'Helloworld'"
      ]
     },
     "execution_count": 97,
     "metadata": {},
     "output_type": "execute_result"
    }
   ],
   "source": [
    "a = \"Hello world\"\n",
    "# a.replace(\"Hello\", \"Hi\")\n",
    "a.replace(\" \", \"\")      #공백제거로도 가능"
   ]
  },
  {
   "cell_type": "markdown",
   "metadata": {},
   "source": [
    "### 분할 - split()"
   ]
  },
  {
   "cell_type": "code",
   "execution_count": 98,
   "metadata": {},
   "outputs": [
    {
     "data": {
      "text/plain": [
       "['a', 'b', 'c', 'd', 'e']"
      ]
     },
     "execution_count": 98,
     "metadata": {},
     "output_type": "execute_result"
    }
   ],
   "source": [
    "a = \"a,b,c,d,e\"\n",
    "a.split(\",\")        #콤마(,)를 기준으로 분할하여 리스트에 문자열(str)로 저장"
   ]
  },
  {
   "cell_type": "markdown",
   "metadata": {},
   "source": [
    "## 함수, funtion"
   ]
  },
  {
   "cell_type": "markdown",
   "metadata": {},
   "source": [
    "- 함수 => 뭔가 행동, 데이터를 변환\n",
    "- def 함수명(매개변수):"
   ]
  },
  {
   "cell_type": "code",
   "execution_count": 104,
   "metadata": {},
   "outputs": [
    {
     "name": "stdout",
     "output_type": "stream",
     "text": [
      "Hello world\n",
      "Hello world\n"
     ]
    }
   ],
   "source": [
    "\"\"\"매개변수가 없을 때의 함수\"\"\"\n",
    "def func_1():\n",
    "    print(\"Hello world\")\n",
    "    \n",
    "func_1()        #함수호출 하여 print!\n",
    "func_1()"
   ]
  },
  {
   "cell_type": "code",
   "execution_count": 107,
   "metadata": {},
   "outputs": [
    {
     "name": "stdout",
     "output_type": "stream",
     "text": [
      "15\n"
     ]
    }
   ],
   "source": [
    "def func_2(a):\n",
    "    result = a*3\n",
    "    return result\n",
    "\n",
    "print(func_2(5))\n",
    "\n",
    "\n",
    "\"\"\" 함수 안에 있는 result라는 변수는 지역변수. 함수 안에서만 사용되고 사라짐. -> 살리려면 return으로 내보내라\"\"\"\n",
    "\"\"\" 함수 밖에 있는 x라는 변수는 전역변수. 어디서나 항상 사용가능\"\"\""
   ]
  },
  {
   "cell_type": "code",
   "execution_count": 111,
   "metadata": {},
   "outputs": [
    {
     "name": "stdout",
     "output_type": "stream",
     "text": [
      "6\n"
     ]
    }
   ],
   "source": [
    "def func_3(a, b, c):\n",
    "    result = a+b+c\n",
    "    return result\n",
    "\n",
    "print(func_3(1,3,2))        #인자가 3개가 아니면 작동x -> 그래서 default값 지정이 필요."
   ]
  },
  {
   "cell_type": "code",
   "execution_count": 112,
   "metadata": {},
   "outputs": [
    {
     "name": "stdout",
     "output_type": "stream",
     "text": [
      "2\n"
     ]
    }
   ],
   "source": [
    "def func_4(a,b,c=5):\n",
    "    result = a+b-c\n",
    "    return result\n",
    "\n",
    "print(func_4(5,2))"
   ]
  },
  {
   "cell_type": "code",
   "execution_count": null,
   "metadata": {},
   "outputs": [],
   "source": []
  },
  {
   "cell_type": "code",
   "execution_count": null,
   "metadata": {},
   "outputs": [],
   "source": []
  },
  {
   "cell_type": "markdown",
   "metadata": {},
   "source": [
    "## Mark Down"
   ]
  },
  {
   "cell_type": "markdown",
   "metadata": {},
   "source": [
    "[블럭]\n",
    "> 인용문블럭\n",
    "\n",
    "[리스트]\n",
    "- ㅇㅇㅇ\n",
    "* ㅇㅇㅇ\n",
    "+ ㅇㅇㅇ\n",
    "\n",
    "[수평선]\n",
    "---"
   ]
  },
  {
   "cell_type": "markdown",
   "metadata": {},
   "source": []
  },
  {
   "cell_type": "markdown",
   "metadata": {},
   "source": [
    "> ## 제목\n",
    "> * list\n",
    "\n",
    "* 1\n",
    "   * 2\n",
    "       * 3"
   ]
  },
  {
   "cell_type": "markdown",
   "metadata": {},
   "source": [
    "## 단축키, ShortCut|"
   ]
  },
  {
   "cell_type": "markdown",
   "metadata": {},
   "source": [
    "[화면창분할]\n",
    "Ctrl + \\\n",
    "\n",
    "[분할된 창으로 이동]\n",
    " Ctrl + (숫자)\n",
    "\n",
    "[왼쪽바 숨김/등장]\n",
    "Ctrl + b\n",
    "[하단바 숨김/등장]\n",
    "Ctrl + j\n",
    "\n",
    "[행이동]\n",
    "Option + 위아래방향키\n",
    "\n",
    "[자동정렬]**\n",
    "Ctrl + a 해서 전체 선택 후 Ctrl + k + f"
   ]
  },
  {
   "cell_type": "markdown",
   "metadata": {},
   "source": [
    "[파이썬 수정] option + e\n",
    "\n",
    "[스크립트어 수정, html/css] option + r"
   ]
  },
  {
   "cell_type": "markdown",
   "metadata": {},
   "source": []
  }
 ],
 "metadata": {
  "kernelspec": {
   "display_name": "Python 3.8.5 ('base': conda)",
   "language": "python",
   "name": "python3"
  },
  "language_info": {
   "codemirror_mode": {
    "name": "ipython",
    "version": 3
   },
   "file_extension": ".py",
   "mimetype": "text/x-python",
   "name": "python",
   "nbconvert_exporter": "python",
   "pygments_lexer": "ipython3",
   "version": "3.8.5"
  },
  "orig_nbformat": 4,
  "vscode": {
   "interpreter": {
    "hash": "c97f18ea1c0f4969cf594a5df9f14ba2a838cf106fc5300ddecce29d9d6f0c71"
   }
  }
 },
 "nbformat": 4,
 "nbformat_minor": 2
}
