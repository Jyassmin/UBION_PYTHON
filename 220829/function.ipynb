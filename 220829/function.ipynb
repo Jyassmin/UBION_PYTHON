{
 "cells": [
  {
   "cell_type": "markdown",
   "metadata": {},
   "source": [
    "# 22.08.30(Tue)"
   ]
  },
  {
   "cell_type": "code",
   "execution_count": 5,
   "metadata": {},
   "outputs": [
    {
     "name": "stdout",
     "output_type": "stream",
     "text": [
      "1 2 3 4\n",
      "None\n",
      "1 4 3 4\n",
      "None\n",
      "1 2 10 4\n",
      "None\n"
     ]
    }
   ],
   "source": [
    "def func_1(a, b=2, c=3, d=4):\n",
    "    print(a, b, c, d)\n",
    "\n",
    "\n",
    "print(func_1(1))\n",
    "#인자의 값은 매개변수의 순서대로 대입이 된다.(매개변수 이름 지정 안할 시)\n",
    "print(func_1(1, 4))\n",
    "#매개변수 b의 값은 기본값을 사용하고 매개변수 c의 값을 변경을 하는 경우\n",
    "print(func_1(1, c=10))\n"
   ]
  },
  {
   "cell_type": "markdown",
   "metadata": {},
   "source": [
    "## Q1\n",
    "- 함수가 하는 생성 매개변수 2개 (a,b)\n",
    "1. 함수가 하는 행동(a부터 b까지의 합을 리턴)\n",
    "2. a보다 b가 작은 경우에는 b부터 a까지의 합을 리턴, 반대인 경우 a에서 b까지의 합을 구해서 리턴"
   ]
  },
  {
   "cell_type": "code",
   "execution_count": 12,
   "metadata": {},
   "outputs": [],
   "source": [
    "#1-1 (b가 a보다 무조건 커야 연산가능)\n",
    "def func_q11(a,b):\n",
    "    sum=0\n",
    "    for i in range(a, b+1, 1):\n",
    "        sum += i\n",
    "    return sum\n",
    "\n",
    "#1-2\n",
    "def func_q12(a,b):\n",
    "    sum=0\n",
    "    if a>b:\n",
    "        for i in range(b, a+1, 1):\n",
    "            sum += i\n",
    "    else:\n",
    "        for j in range(a, b+1, 1):\n",
    "            sum += j\n",
    "    return sum\n",
    "        "
   ]
  },
  {
   "cell_type": "code",
   "execution_count": 15,
   "metadata": {},
   "outputs": [
    {
     "name": "stdout",
     "output_type": "stream",
     "text": [
      "55\n"
     ]
    }
   ],
   "source": [
    "def func_q13(a, b):\n",
    "    sum = 0\n",
    "    for i in range(min(a, b), max(a, b)+1, 1):\n",
    "        sum += i\n",
    "    return sum\n",
    "\n",
    "\n",
    "print(func_q13(10, 1))\n"
   ]
  },
  {
   "cell_type": "markdown",
   "metadata": {},
   "source": [
    "## Q2\n",
    "- 함수생성(매개변수 3개 a,b,c)\n",
    "1. c의 값이 '합'이면 a+b\n",
    "2. c의 값이 '차'이면 a-b\n",
    "3. c의 값이 '곱'이면 a*b\n",
    "4. c의 값이 위의 세가지가 포함이 안되면 '연산식이 잘못되었습니다' 리턴"
   ]
  },
  {
   "cell_type": "code",
   "execution_count": 1,
   "metadata": {},
   "outputs": [
    {
     "ename": "NameError",
     "evalue": "name 'result' is not defined",
     "output_type": "error",
     "traceback": [
      "\u001b[0;31m---------------------------------------------------------------------------\u001b[0m",
      "\u001b[0;31mNameError\u001b[0m                                 Traceback (most recent call last)",
      "\u001b[0;32m/var/folders/x3/lny9bbwx64b561c29r4y4z400000gn/T/ipykernel_32048/2720577330.py\u001b[0m in \u001b[0;36m<module>\u001b[0;34m\u001b[0m\n\u001b[1;32m     10\u001b[0m         \u001b[0;32mreturn\u001b[0m \u001b[0;34m\"연산식이 잘못되었습니다\"\u001b[0m\u001b[0;34m\u001b[0m\u001b[0;34m\u001b[0m\u001b[0m\n\u001b[1;32m     11\u001b[0m \u001b[0;34m\u001b[0m\u001b[0m\n\u001b[0;32m---> 12\u001b[0;31m \u001b[0mprint\u001b[0m\u001b[0;34m(\u001b[0m\u001b[0mresult\u001b[0m\u001b[0;34m)\u001b[0m\u001b[0;34m\u001b[0m\u001b[0;34m\u001b[0m\u001b[0m\n\u001b[0m\u001b[1;32m     13\u001b[0m \u001b[0;34m\u001b[0m\u001b[0m\n\u001b[1;32m     14\u001b[0m \u001b[0mprint\u001b[0m\u001b[0;34m(\u001b[0m\u001b[0mfunc_q2\u001b[0m\u001b[0;34m(\u001b[0m\u001b[0;36m1\u001b[0m\u001b[0;34m,\u001b[0m\u001b[0;36m5\u001b[0m\u001b[0;34m,\u001b[0m\u001b[0;34m'합'\u001b[0m\u001b[0;34m)\u001b[0m\u001b[0;34m)\u001b[0m\u001b[0;34m\u001b[0m\u001b[0;34m\u001b[0m\u001b[0m\n",
      "\u001b[0;31mNameError\u001b[0m: name 'result' is not defined"
     ]
    }
   ],
   "source": [
    "result=10\n",
    "\n",
    "def func_q2(a,b,c):\n",
    "    if c == '합':\n",
    "        return a+b\n",
    "    elif c=='차':\n",
    "        return a-b\n",
    "    elif c=='곱':\n",
    "        result = a*b\n",
    "        return result\n",
    "    else:\n",
    "        return \"연산식이 잘못되었습니다\"\n",
    "    \n",
    "print(result)   \n",
    "    \n",
    "print(func_q2(1,5,'합'))\n",
    "print(func_q2(1,5,'차'))\n",
    "print(func_q2(1,5,'곱'))\n",
    "print(func_q2(1,5,'나누기'))"
   ]
  },
  {
   "cell_type": "markdown",
   "metadata": {},
   "source": [
    "## MAP함수 - 함수다수호출시"
   ]
  },
  {
   "cell_type": "code",
   "execution_count": 1,
   "metadata": {},
   "outputs": [
    {
     "name": "stdout",
     "output_type": "stream",
     "text": [
      "25\n"
     ]
    }
   ],
   "source": [
    "def func_7(a):\n",
    "    result = a**2\n",
    "    return result\n",
    "\n",
    "print(func_7(5))"
   ]
  },
  {
   "cell_type": "code",
   "execution_count": 3,
   "metadata": {},
   "outputs": [
    {
     "name": "stdout",
     "output_type": "stream",
     "text": [
      "[1, 4, 9, 16]\n"
     ]
    }
   ],
   "source": [
    "a = list(map(func_7, [1,2,3,4])) #map함수는 list와 같이 사용해야한다.\n",
    "print(a)"
   ]
  },
  {
   "cell_type": "markdown",
   "metadata": {},
   "source": [
    "## lambda함수 - 선언과 동시에 호출(함수 간단히 작성 가능)"
   ]
  },
  {
   "cell_type": "code",
   "execution_count": 7,
   "metadata": {},
   "outputs": [
    {
     "data": {
      "text/plain": [
       "16"
      ]
     },
     "execution_count": 7,
     "metadata": {},
     "output_type": "execute_result"
    }
   ],
   "source": [
    "변수를 :(세미콜론)기준 오른쪽으로 대입하여 연산후 리턴\n",
    "lamb = lambda x : x**2\n",
    "lamb(4)"
   ]
  },
  {
   "cell_type": "markdown",
   "metadata": {},
   "source": [
    "---"
   ]
  }
 ],
 "metadata": {
  "kernelspec": {
   "display_name": "Python 3.8.5 ('base')",
   "language": "python",
   "name": "python3"
  },
  "language_info": {
   "codemirror_mode": {
    "name": "ipython",
    "version": 3
   },
   "file_extension": ".py",
   "mimetype": "text/x-python",
   "name": "python",
   "nbconvert_exporter": "python",
   "pygments_lexer": "ipython3",
   "version": "3.8.5"
  },
  "orig_nbformat": 4,
  "vscode": {
   "interpreter": {
    "hash": "c97f18ea1c0f4969cf594a5df9f14ba2a838cf106fc5300ddecce29d9d6f0c71"
   }
  }
 },
 "nbformat": 4,
 "nbformat_minor": 2
}
