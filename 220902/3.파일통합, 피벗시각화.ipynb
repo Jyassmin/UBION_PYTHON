{
 "cells": [
  {
   "cell_type": "markdown",
   "metadata": {},
   "source": [
    "# csv/2017 의 12개 파일 통합\n",
    "---\n",
    "- 단순하게 concat해도 되지만 한 번에 하는 법!\n",
    "- 파일목록을 불러와 for문으로 읽어들인 후 concat으로 합친다."
   ]
  },
  {
   "cell_type": "code",
   "execution_count": 126,
   "metadata": {},
   "outputs": [],
   "source": [
    "import pandas as pd\n",
    "import os"
   ]
  },
  {
   "cell_type": "code",
   "execution_count": 127,
   "metadata": {},
   "outputs": [
    {
     "data": {
      "text/html": [
       "<div>\n",
       "<style scoped>\n",
       "    .dataframe tbody tr th:only-of-type {\n",
       "        vertical-align: middle;\n",
       "    }\n",
       "\n",
       "    .dataframe tbody tr th {\n",
       "        vertical-align: top;\n",
       "    }\n",
       "\n",
       "    .dataframe thead th {\n",
       "        text-align: right;\n",
       "    }\n",
       "</style>\n",
       "<table border=\"1\" class=\"dataframe\">\n",
       "  <thead>\n",
       "    <tr style=\"text-align: right;\">\n",
       "      <th></th>\n",
       "      <th>nid</th>\n",
       "      <th>title</th>\n",
       "      <th>url</th>\n",
       "      <th>dept_nm_lvl_1</th>\n",
       "      <th>dept_nm_lvl_2</th>\n",
       "      <th>dept_nm_lvl_3</th>\n",
       "      <th>dept_nm_lvl_4</th>\n",
       "      <th>dept_nm_lvl_5</th>\n",
       "      <th>exec_yr</th>\n",
       "      <th>exec_month</th>\n",
       "      <th>expense_budget</th>\n",
       "      <th>expense_execution</th>\n",
       "      <th>category</th>\n",
       "      <th>dept_nm_full</th>\n",
       "      <th>exec_dt</th>\n",
       "      <th>exec_loc</th>\n",
       "      <th>exec_purpose</th>\n",
       "      <th>target_nm</th>\n",
       "      <th>payment_method</th>\n",
       "      <th>exec_amount</th>\n",
       "    </tr>\n",
       "  </thead>\n",
       "  <tbody>\n",
       "    <tr>\n",
       "      <th>0</th>\n",
       "      <td>11430252</td>\n",
       "      <td>2017년 1월 장애인복지정책과 업무추진비 집행내역</td>\n",
       "      <td>http://opengov.seoul.go.kr/public/11430252</td>\n",
       "      <td>서울시본청</td>\n",
       "      <td>복지본부</td>\n",
       "      <td>장애인복지정책과</td>\n",
       "      <td>NaN</td>\n",
       "      <td>NaN</td>\n",
       "      <td>2017</td>\n",
       "      <td>1</td>\n",
       "      <td>NaN</td>\n",
       "      <td>NaN</td>\n",
       "      <td>NaN</td>\n",
       "      <td>복지본부 장애인복지정책과</td>\n",
       "      <td>2017-01-26 13:10</td>\n",
       "      <td>동해일식 (중구 무교동)</td>\n",
       "      <td>기본소득과 장애인복지 논의간담회</td>\n",
       "      <td>장애인복지정책팀장 외 2명</td>\n",
       "      <td>카드</td>\n",
       "      <td>76000</td>\n",
       "    </tr>\n",
       "    <tr>\n",
       "      <th>1</th>\n",
       "      <td>11430252</td>\n",
       "      <td>2017년 1월 장애인복지정책과 업무추진비 집행내역</td>\n",
       "      <td>http://opengov.seoul.go.kr/public/11430252</td>\n",
       "      <td>서울시본청</td>\n",
       "      <td>복지본부</td>\n",
       "      <td>장애인복지정책과</td>\n",
       "      <td>NaN</td>\n",
       "      <td>NaN</td>\n",
       "      <td>2017</td>\n",
       "      <td>1</td>\n",
       "      <td>NaN</td>\n",
       "      <td>NaN</td>\n",
       "      <td>NaN</td>\n",
       "      <td>복지본부 장애인복지정책과</td>\n",
       "      <td>2017-01-25 22:41</td>\n",
       "      <td>김앤장 (중구 무교로)</td>\n",
       "      <td>장애인단체 활동지원 논의간담회</td>\n",
       "      <td>장애인복지정책과장 외 3명</td>\n",
       "      <td>카드</td>\n",
       "      <td>102000</td>\n",
       "    </tr>\n",
       "    <tr>\n",
       "      <th>2</th>\n",
       "      <td>11430252</td>\n",
       "      <td>2017년 1월 장애인복지정책과 업무추진비 집행내역</td>\n",
       "      <td>http://opengov.seoul.go.kr/public/11430252</td>\n",
       "      <td>서울시본청</td>\n",
       "      <td>복지본부</td>\n",
       "      <td>장애인복지정책과</td>\n",
       "      <td>NaN</td>\n",
       "      <td>NaN</td>\n",
       "      <td>2017</td>\n",
       "      <td>1</td>\n",
       "      <td>NaN</td>\n",
       "      <td>NaN</td>\n",
       "      <td>NaN</td>\n",
       "      <td>복지본부 장애인복지정책과</td>\n",
       "      <td>2017-01-24 12:35</td>\n",
       "      <td>왕왕생고기 (중구 을지로)</td>\n",
       "      <td>장애인 기본돌봄 복지시책 논의간담회</td>\n",
       "      <td>장애인복지정책팀장외7명</td>\n",
       "      <td>카드</td>\n",
       "      <td>80000</td>\n",
       "    </tr>\n",
       "    <tr>\n",
       "      <th>3</th>\n",
       "      <td>11430252</td>\n",
       "      <td>2017년 1월 장애인복지정책과 업무추진비 집행내역</td>\n",
       "      <td>http://opengov.seoul.go.kr/public/11430252</td>\n",
       "      <td>서울시본청</td>\n",
       "      <td>복지본부</td>\n",
       "      <td>장애인복지정책과</td>\n",
       "      <td>NaN</td>\n",
       "      <td>NaN</td>\n",
       "      <td>2017</td>\n",
       "      <td>1</td>\n",
       "      <td>NaN</td>\n",
       "      <td>NaN</td>\n",
       "      <td>NaN</td>\n",
       "      <td>복지본부 장애인복지정책과</td>\n",
       "      <td>2017-01-24 12:23</td>\n",
       "      <td>서울불고기 (중구 남대문로)</td>\n",
       "      <td>서울시일자리통합지원센터 운영개선 논의간담회</td>\n",
       "      <td>장애인복지정책과장외5명</td>\n",
       "      <td>카드</td>\n",
       "      <td>112000</td>\n",
       "    </tr>\n",
       "    <tr>\n",
       "      <th>4</th>\n",
       "      <td>11430252</td>\n",
       "      <td>2017년 1월 장애인복지정책과 업무추진비 집행내역</td>\n",
       "      <td>http://opengov.seoul.go.kr/public/11430252</td>\n",
       "      <td>서울시본청</td>\n",
       "      <td>복지본부</td>\n",
       "      <td>장애인복지정책과</td>\n",
       "      <td>NaN</td>\n",
       "      <td>NaN</td>\n",
       "      <td>2017</td>\n",
       "      <td>1</td>\n",
       "      <td>NaN</td>\n",
       "      <td>NaN</td>\n",
       "      <td>NaN</td>\n",
       "      <td>복지본부 장애인복지정책과</td>\n",
       "      <td>2017-01-23 15:10</td>\n",
       "      <td>서울시청신매점</td>\n",
       "      <td>부서운영에 필요한 음료수 구매</td>\n",
       "      <td>장애인복지정책과직원</td>\n",
       "      <td>카드</td>\n",
       "      <td>16000</td>\n",
       "    </tr>\n",
       "    <tr>\n",
       "      <th>...</th>\n",
       "      <td>...</td>\n",
       "      <td>...</td>\n",
       "      <td>...</td>\n",
       "      <td>...</td>\n",
       "      <td>...</td>\n",
       "      <td>...</td>\n",
       "      <td>...</td>\n",
       "      <td>...</td>\n",
       "      <td>...</td>\n",
       "      <td>...</td>\n",
       "      <td>...</td>\n",
       "      <td>...</td>\n",
       "      <td>...</td>\n",
       "      <td>...</td>\n",
       "      <td>...</td>\n",
       "      <td>...</td>\n",
       "      <td>...</td>\n",
       "      <td>...</td>\n",
       "      <td>...</td>\n",
       "      <td>...</td>\n",
       "    </tr>\n",
       "    <tr>\n",
       "      <th>5512</th>\n",
       "      <td>15513286</td>\n",
       "      <td>2017년 1월 서울시본청_경제진흥본부_경제기획관_투자유치과 업무추진비 내역</td>\n",
       "      <td>http://opengov.seoul.go.kr/public/15513286</td>\n",
       "      <td>서울시본청</td>\n",
       "      <td>경제진흥본부</td>\n",
       "      <td>경제기획관</td>\n",
       "      <td>투자유치과</td>\n",
       "      <td>NaN</td>\n",
       "      <td>2017</td>\n",
       "      <td>1</td>\n",
       "      <td>NaN</td>\n",
       "      <td>NaN</td>\n",
       "      <td>NaN</td>\n",
       "      <td>경제진흥본부 투자유치과</td>\n",
       "      <td>2017-01-11 13:01</td>\n",
       "      <td>차이79                  종로구 새문안로5길</td>\n",
       "      <td>금융기관 보조금 지원계획수립관련    간담회 개최 비용지출</td>\n",
       "      <td>투자유치과장외5명</td>\n",
       "      <td>카드</td>\n",
       "      <td>27000</td>\n",
       "    </tr>\n",
       "    <tr>\n",
       "      <th>5513</th>\n",
       "      <td>15513286</td>\n",
       "      <td>2017년 1월 서울시본청_경제진흥본부_경제기획관_투자유치과 업무추진비 내역</td>\n",
       "      <td>http://opengov.seoul.go.kr/public/15513286</td>\n",
       "      <td>서울시본청</td>\n",
       "      <td>경제진흥본부</td>\n",
       "      <td>경제기획관</td>\n",
       "      <td>투자유치과</td>\n",
       "      <td>NaN</td>\n",
       "      <td>2017</td>\n",
       "      <td>1</td>\n",
       "      <td>NaN</td>\n",
       "      <td>NaN</td>\n",
       "      <td>NaN</td>\n",
       "      <td>경제진흥본부 투자유치과</td>\n",
       "      <td>2017-01-06 12:58</td>\n",
       "      <td>강가                     서울 중구 세종대로136</td>\n",
       "      <td>핀테크 산업지원시설 입주 관련 간담회 개최비용지출</td>\n",
       "      <td>금융협력관외6명</td>\n",
       "      <td>카드</td>\n",
       "      <td>70000</td>\n",
       "    </tr>\n",
       "    <tr>\n",
       "      <th>5514</th>\n",
       "      <td>15513286</td>\n",
       "      <td>2017년 1월 서울시본청_경제진흥본부_경제기획관_투자유치과 업무추진비 내역</td>\n",
       "      <td>http://opengov.seoul.go.kr/public/15513286</td>\n",
       "      <td>서울시본청</td>\n",
       "      <td>경제진흥본부</td>\n",
       "      <td>경제기획관</td>\n",
       "      <td>투자유치과</td>\n",
       "      <td>NaN</td>\n",
       "      <td>2017</td>\n",
       "      <td>1</td>\n",
       "      <td>NaN</td>\n",
       "      <td>NaN</td>\n",
       "      <td>NaN</td>\n",
       "      <td>경제진흥본부 투자유치과</td>\n",
       "      <td>2017-01-04 12:47</td>\n",
       "      <td>이복만두                  중구 무교동 27</td>\n",
       "      <td>F사 투자유치 협의를 위한 간담회 개최 비용지출</td>\n",
       "      <td>투자유치과장외4명</td>\n",
       "      <td>카드</td>\n",
       "      <td>57000</td>\n",
       "    </tr>\n",
       "    <tr>\n",
       "      <th>5515</th>\n",
       "      <td>15513286</td>\n",
       "      <td>2017년 1월 서울시본청_경제진흥본부_경제기획관_투자유치과 업무추진비 내역</td>\n",
       "      <td>http://opengov.seoul.go.kr/public/15513286</td>\n",
       "      <td>서울시본청</td>\n",
       "      <td>경제진흥본부</td>\n",
       "      <td>경제기획관</td>\n",
       "      <td>투자유치과</td>\n",
       "      <td>NaN</td>\n",
       "      <td>2017</td>\n",
       "      <td>1</td>\n",
       "      <td>NaN</td>\n",
       "      <td>NaN</td>\n",
       "      <td>NaN</td>\n",
       "      <td>경제진흥본부 투자유치과</td>\n",
       "      <td>2017-01-03 12:42</td>\n",
       "      <td>불고기브라더스                     중구 태평로 1가</td>\n",
       "      <td>핀테크사업 전략수립을 위한 간담회 개최비용지출</td>\n",
       "      <td>경제진흥본부장외10명</td>\n",
       "      <td>카드</td>\n",
       "      <td>152400</td>\n",
       "    </tr>\n",
       "    <tr>\n",
       "      <th>5516</th>\n",
       "      <td>15513286</td>\n",
       "      <td>2017년 1월 서울시본청_경제진흥본부_경제기획관_투자유치과 업무추진비 내역</td>\n",
       "      <td>http://opengov.seoul.go.kr/public/15513286</td>\n",
       "      <td>서울시본청</td>\n",
       "      <td>경제진흥본부</td>\n",
       "      <td>경제기획관</td>\n",
       "      <td>투자유치과</td>\n",
       "      <td>NaN</td>\n",
       "      <td>2017</td>\n",
       "      <td>1</td>\n",
       "      <td>NaN</td>\n",
       "      <td>NaN</td>\n",
       "      <td>NaN</td>\n",
       "      <td>경제진흥본부 투자유치과</td>\n",
       "      <td>2017-01-02 12:47</td>\n",
       "      <td>이화수                     서울 중구 다동길16</td>\n",
       "      <td>글로벌유수 타깃기업 발굴 용역 결과보고 간담회 개최 비용 지출</td>\n",
       "      <td>투자정책팀장외7명</td>\n",
       "      <td>카드</td>\n",
       "      <td>57000</td>\n",
       "    </tr>\n",
       "  </tbody>\n",
       "</table>\n",
       "<p>5517 rows × 20 columns</p>\n",
       "</div>"
      ],
      "text/plain": [
       "           nid                                       title  \\\n",
       "0     11430252                2017년 1월 장애인복지정책과 업무추진비 집행내역   \n",
       "1     11430252                2017년 1월 장애인복지정책과 업무추진비 집행내역   \n",
       "2     11430252                2017년 1월 장애인복지정책과 업무추진비 집행내역   \n",
       "3     11430252                2017년 1월 장애인복지정책과 업무추진비 집행내역   \n",
       "4     11430252                2017년 1월 장애인복지정책과 업무추진비 집행내역   \n",
       "...        ...                                         ...   \n",
       "5512  15513286  2017년 1월 서울시본청_경제진흥본부_경제기획관_투자유치과 업무추진비 내역   \n",
       "5513  15513286  2017년 1월 서울시본청_경제진흥본부_경제기획관_투자유치과 업무추진비 내역   \n",
       "5514  15513286  2017년 1월 서울시본청_경제진흥본부_경제기획관_투자유치과 업무추진비 내역   \n",
       "5515  15513286  2017년 1월 서울시본청_경제진흥본부_경제기획관_투자유치과 업무추진비 내역   \n",
       "5516  15513286  2017년 1월 서울시본청_경제진흥본부_경제기획관_투자유치과 업무추진비 내역   \n",
       "\n",
       "                                             url dept_nm_lvl_1 dept_nm_lvl_2  \\\n",
       "0     http://opengov.seoul.go.kr/public/11430252         서울시본청          복지본부   \n",
       "1     http://opengov.seoul.go.kr/public/11430252         서울시본청          복지본부   \n",
       "2     http://opengov.seoul.go.kr/public/11430252         서울시본청          복지본부   \n",
       "3     http://opengov.seoul.go.kr/public/11430252         서울시본청          복지본부   \n",
       "4     http://opengov.seoul.go.kr/public/11430252         서울시본청          복지본부   \n",
       "...                                          ...           ...           ...   \n",
       "5512  http://opengov.seoul.go.kr/public/15513286         서울시본청        경제진흥본부   \n",
       "5513  http://opengov.seoul.go.kr/public/15513286         서울시본청        경제진흥본부   \n",
       "5514  http://opengov.seoul.go.kr/public/15513286         서울시본청        경제진흥본부   \n",
       "5515  http://opengov.seoul.go.kr/public/15513286         서울시본청        경제진흥본부   \n",
       "5516  http://opengov.seoul.go.kr/public/15513286         서울시본청        경제진흥본부   \n",
       "\n",
       "     dept_nm_lvl_3 dept_nm_lvl_4 dept_nm_lvl_5  exec_yr  exec_month  \\\n",
       "0         장애인복지정책과           NaN           NaN     2017           1   \n",
       "1         장애인복지정책과           NaN           NaN     2017           1   \n",
       "2         장애인복지정책과           NaN           NaN     2017           1   \n",
       "3         장애인복지정책과           NaN           NaN     2017           1   \n",
       "4         장애인복지정책과           NaN           NaN     2017           1   \n",
       "...            ...           ...           ...      ...         ...   \n",
       "5512         경제기획관         투자유치과           NaN     2017           1   \n",
       "5513         경제기획관         투자유치과           NaN     2017           1   \n",
       "5514         경제기획관         투자유치과           NaN     2017           1   \n",
       "5515         경제기획관         투자유치과           NaN     2017           1   \n",
       "5516         경제기획관         투자유치과           NaN     2017           1   \n",
       "\n",
       "      expense_budget  expense_execution category   dept_nm_full  \\\n",
       "0                NaN                NaN      NaN  복지본부 장애인복지정책과   \n",
       "1                NaN                NaN      NaN  복지본부 장애인복지정책과   \n",
       "2                NaN                NaN      NaN  복지본부 장애인복지정책과   \n",
       "3                NaN                NaN      NaN  복지본부 장애인복지정책과   \n",
       "4                NaN                NaN      NaN  복지본부 장애인복지정책과   \n",
       "...              ...                ...      ...            ...   \n",
       "5512             NaN                NaN      NaN   경제진흥본부 투자유치과   \n",
       "5513             NaN                NaN      NaN   경제진흥본부 투자유치과   \n",
       "5514             NaN                NaN      NaN   경제진흥본부 투자유치과   \n",
       "5515             NaN                NaN      NaN   경제진흥본부 투자유치과   \n",
       "5516             NaN                NaN      NaN   경제진흥본부 투자유치과   \n",
       "\n",
       "               exec_dt                               exec_loc  \\\n",
       "0     2017-01-26 13:10                          동해일식 (중구 무교동)   \n",
       "1     2017-01-25 22:41                           김앤장 (중구 무교로)   \n",
       "2     2017-01-24 12:35                         왕왕생고기 (중구 을지로)   \n",
       "3     2017-01-24 12:23                        서울불고기 (중구 남대문로)   \n",
       "4     2017-01-23 15:10                                서울시청신매점   \n",
       "...                ...                                    ...   \n",
       "5512  2017-01-11 13:01       차이79                  종로구 새문안로5길   \n",
       "5513  2017-01-06 12:58   강가                     서울 중구 세종대로136   \n",
       "5514  2017-01-04 12:47        이복만두                  중구 무교동 27   \n",
       "5515  2017-01-03 12:42  불고기브라더스                     중구 태평로 1가   \n",
       "5516  2017-01-02 12:47    이화수                     서울 중구 다동길16   \n",
       "\n",
       "                            exec_purpose       target_nm payment_method  \\\n",
       "0                      기본소득과 장애인복지 논의간담회  장애인복지정책팀장 외 2명             카드   \n",
       "1                       장애인단체 활동지원 논의간담회  장애인복지정책과장 외 3명             카드   \n",
       "2                    장애인 기본돌봄 복지시책 논의간담회    장애인복지정책팀장외7명             카드   \n",
       "3                서울시일자리통합지원센터 운영개선 논의간담회    장애인복지정책과장외5명             카드   \n",
       "4                       부서운영에 필요한 음료수 구매      장애인복지정책과직원             카드   \n",
       "...                                  ...             ...            ...   \n",
       "5512    금융기관 보조금 지원계획수립관련    간담회 개최 비용지출       투자유치과장외5명             카드   \n",
       "5513         핀테크 산업지원시설 입주 관련 간담회 개최비용지출        금융협력관외6명             카드   \n",
       "5514          F사 투자유치 협의를 위한 간담회 개최 비용지출       투자유치과장외4명             카드   \n",
       "5515           핀테크사업 전략수립을 위한 간담회 개최비용지출     경제진흥본부장외10명             카드   \n",
       "5516  글로벌유수 타깃기업 발굴 용역 결과보고 간담회 개최 비용 지출       투자정책팀장외7명             카드   \n",
       "\n",
       "      exec_amount  \n",
       "0           76000  \n",
       "1          102000  \n",
       "2           80000  \n",
       "3          112000  \n",
       "4           16000  \n",
       "...           ...  \n",
       "5512        27000  \n",
       "5513        70000  \n",
       "5514        57000  \n",
       "5515       152400  \n",
       "5516        57000  \n",
       "\n",
       "[5517 rows x 20 columns]"
      ]
     },
     "execution_count": 127,
     "metadata": {},
     "output_type": "execute_result"
    }
   ],
   "source": [
    "pd.read_csv(\"../csv/2017/201701_expense_list.csv\")"
   ]
  },
  {
   "cell_type": "code",
   "execution_count": 128,
   "metadata": {},
   "outputs": [
    {
     "data": {
      "text/plain": [
       "['201702_expense_list.csv',\n",
       " '201709_expense_list.csv',\n",
       " '201712_expense_list.csv',\n",
       " '201706_expense_list.csv',\n",
       " '201703_expense_list.csv',\n",
       " '201708_expense_list.csv',\n",
       " '201707_expense_list.csv',\n",
       " '201704_expense_list.csv',\n",
       " '201710_expense_list.csv',\n",
       " '201701_expense_list.csv',\n",
       " '201705_expense_list.csv',\n",
       " '201711_expense_list.csv']"
      ]
     },
     "execution_count": 128,
     "metadata": {},
     "output_type": "execute_result"
    }
   ],
   "source": [
    "#파일목록\n",
    "files = os.listdir(\"../csv/2017/\")\n",
    "files"
   ]
  },
  {
   "cell_type": "markdown",
   "metadata": {},
   "source": [
    "Q.\n",
    "- 파일목록 출력\n",
    "- 파일목록 불러와서 concat()하나의 데이터프레임으로 결합"
   ]
  },
  {
   "cell_type": "code",
   "execution_count": 152,
   "metadata": {},
   "outputs": [
    {
     "ename": "FileNotFoundError",
     "evalue": "[Errno 2] No such file or directory: '../csv/2017/201801_expense_list.csv'",
     "output_type": "error",
     "traceback": [
      "\u001b[0;31m---------------------------------------------------------------------------\u001b[0m",
      "\u001b[0;31mFileNotFoundError\u001b[0m                         Traceback (most recent call last)",
      "\u001b[0;32m/var/folders/x3/lny9bbwx64b561c29r4y4z400000gn/T/ipykernel_4986/939360667.py\u001b[0m in \u001b[0;36m<module>\u001b[0;34m\u001b[0m\n\u001b[1;32m      2\u001b[0m \u001b[0;34m\u001b[0m\u001b[0m\n\u001b[1;32m      3\u001b[0m \u001b[0;32mfor\u001b[0m \u001b[0mi\u001b[0m \u001b[0;32min\u001b[0m \u001b[0mfiles\u001b[0m\u001b[0;34m:\u001b[0m\u001b[0;34m\u001b[0m\u001b[0;34m\u001b[0m\u001b[0m\n\u001b[0;32m----> 4\u001b[0;31m     \u001b[0mdf\u001b[0m \u001b[0;34m=\u001b[0m \u001b[0mpd\u001b[0m\u001b[0;34m.\u001b[0m\u001b[0mread_csv\u001b[0m\u001b[0;34m(\u001b[0m\u001b[0;34m\"../csv/2017/\"\u001b[0m\u001b[0;34m+\u001b[0m\u001b[0mi\u001b[0m\u001b[0;34m)\u001b[0m\u001b[0;34m\u001b[0m\u001b[0;34m\u001b[0m\u001b[0m\n\u001b[0m\u001b[1;32m      5\u001b[0m     \u001b[0mdf_2017\u001b[0m \u001b[0;34m=\u001b[0m \u001b[0mpd\u001b[0m\u001b[0;34m.\u001b[0m\u001b[0mconcat\u001b[0m\u001b[0;34m(\u001b[0m\u001b[0;34m[\u001b[0m\u001b[0mdf_2017\u001b[0m\u001b[0;34m,\u001b[0m \u001b[0mdf\u001b[0m\u001b[0;34m]\u001b[0m\u001b[0;34m,\u001b[0m \u001b[0maxis\u001b[0m \u001b[0;34m=\u001b[0m \u001b[0;36m0\u001b[0m\u001b[0;34m,\u001b[0m \u001b[0mignore_index\u001b[0m\u001b[0;34m=\u001b[0m\u001b[0;32mTrue\u001b[0m\u001b[0;34m)\u001b[0m\u001b[0;34m\u001b[0m\u001b[0;34m\u001b[0m\u001b[0m\n\u001b[1;32m      6\u001b[0m \u001b[0;34m\u001b[0m\u001b[0m\n",
      "\u001b[0;32m~/opt/anaconda3/lib/python3.8/site-packages/pandas/util/_decorators.py\u001b[0m in \u001b[0;36mwrapper\u001b[0;34m(*args, **kwargs)\u001b[0m\n\u001b[1;32m    309\u001b[0m                     \u001b[0mstacklevel\u001b[0m\u001b[0;34m=\u001b[0m\u001b[0mstacklevel\u001b[0m\u001b[0;34m,\u001b[0m\u001b[0;34m\u001b[0m\u001b[0;34m\u001b[0m\u001b[0m\n\u001b[1;32m    310\u001b[0m                 )\n\u001b[0;32m--> 311\u001b[0;31m             \u001b[0;32mreturn\u001b[0m \u001b[0mfunc\u001b[0m\u001b[0;34m(\u001b[0m\u001b[0;34m*\u001b[0m\u001b[0margs\u001b[0m\u001b[0;34m,\u001b[0m \u001b[0;34m**\u001b[0m\u001b[0mkwargs\u001b[0m\u001b[0;34m)\u001b[0m\u001b[0;34m\u001b[0m\u001b[0;34m\u001b[0m\u001b[0m\n\u001b[0m\u001b[1;32m    312\u001b[0m \u001b[0;34m\u001b[0m\u001b[0m\n\u001b[1;32m    313\u001b[0m         \u001b[0;32mreturn\u001b[0m \u001b[0mwrapper\u001b[0m\u001b[0;34m\u001b[0m\u001b[0;34m\u001b[0m\u001b[0m\n",
      "\u001b[0;32m~/opt/anaconda3/lib/python3.8/site-packages/pandas/io/parsers/readers.py\u001b[0m in \u001b[0;36mread_csv\u001b[0;34m(filepath_or_buffer, sep, delimiter, header, names, index_col, usecols, squeeze, prefix, mangle_dupe_cols, dtype, engine, converters, true_values, false_values, skipinitialspace, skiprows, skipfooter, nrows, na_values, keep_default_na, na_filter, verbose, skip_blank_lines, parse_dates, infer_datetime_format, keep_date_col, date_parser, dayfirst, cache_dates, iterator, chunksize, compression, thousands, decimal, lineterminator, quotechar, quoting, doublequote, escapechar, comment, encoding, encoding_errors, dialect, error_bad_lines, warn_bad_lines, on_bad_lines, delim_whitespace, low_memory, memory_map, float_precision, storage_options)\u001b[0m\n\u001b[1;32m    678\u001b[0m     \u001b[0mkwds\u001b[0m\u001b[0;34m.\u001b[0m\u001b[0mupdate\u001b[0m\u001b[0;34m(\u001b[0m\u001b[0mkwds_defaults\u001b[0m\u001b[0;34m)\u001b[0m\u001b[0;34m\u001b[0m\u001b[0;34m\u001b[0m\u001b[0m\n\u001b[1;32m    679\u001b[0m \u001b[0;34m\u001b[0m\u001b[0m\n\u001b[0;32m--> 680\u001b[0;31m     \u001b[0;32mreturn\u001b[0m \u001b[0m_read\u001b[0m\u001b[0;34m(\u001b[0m\u001b[0mfilepath_or_buffer\u001b[0m\u001b[0;34m,\u001b[0m \u001b[0mkwds\u001b[0m\u001b[0;34m)\u001b[0m\u001b[0;34m\u001b[0m\u001b[0;34m\u001b[0m\u001b[0m\n\u001b[0m\u001b[1;32m    681\u001b[0m \u001b[0;34m\u001b[0m\u001b[0m\n\u001b[1;32m    682\u001b[0m \u001b[0;34m\u001b[0m\u001b[0m\n",
      "\u001b[0;32m~/opt/anaconda3/lib/python3.8/site-packages/pandas/io/parsers/readers.py\u001b[0m in \u001b[0;36m_read\u001b[0;34m(filepath_or_buffer, kwds)\u001b[0m\n\u001b[1;32m    573\u001b[0m \u001b[0;34m\u001b[0m\u001b[0m\n\u001b[1;32m    574\u001b[0m     \u001b[0;31m# Create the parser.\u001b[0m\u001b[0;34m\u001b[0m\u001b[0;34m\u001b[0m\u001b[0;34m\u001b[0m\u001b[0m\n\u001b[0;32m--> 575\u001b[0;31m     \u001b[0mparser\u001b[0m \u001b[0;34m=\u001b[0m \u001b[0mTextFileReader\u001b[0m\u001b[0;34m(\u001b[0m\u001b[0mfilepath_or_buffer\u001b[0m\u001b[0;34m,\u001b[0m \u001b[0;34m**\u001b[0m\u001b[0mkwds\u001b[0m\u001b[0;34m)\u001b[0m\u001b[0;34m\u001b[0m\u001b[0;34m\u001b[0m\u001b[0m\n\u001b[0m\u001b[1;32m    576\u001b[0m \u001b[0;34m\u001b[0m\u001b[0m\n\u001b[1;32m    577\u001b[0m     \u001b[0;32mif\u001b[0m \u001b[0mchunksize\u001b[0m \u001b[0;32mor\u001b[0m \u001b[0miterator\u001b[0m\u001b[0;34m:\u001b[0m\u001b[0;34m\u001b[0m\u001b[0;34m\u001b[0m\u001b[0m\n",
      "\u001b[0;32m~/opt/anaconda3/lib/python3.8/site-packages/pandas/io/parsers/readers.py\u001b[0m in \u001b[0;36m__init__\u001b[0;34m(self, f, engine, **kwds)\u001b[0m\n\u001b[1;32m    932\u001b[0m \u001b[0;34m\u001b[0m\u001b[0m\n\u001b[1;32m    933\u001b[0m         \u001b[0mself\u001b[0m\u001b[0;34m.\u001b[0m\u001b[0mhandles\u001b[0m\u001b[0;34m:\u001b[0m \u001b[0mIOHandles\u001b[0m \u001b[0;34m|\u001b[0m \u001b[0;32mNone\u001b[0m \u001b[0;34m=\u001b[0m \u001b[0;32mNone\u001b[0m\u001b[0;34m\u001b[0m\u001b[0;34m\u001b[0m\u001b[0m\n\u001b[0;32m--> 934\u001b[0;31m         \u001b[0mself\u001b[0m\u001b[0;34m.\u001b[0m\u001b[0m_engine\u001b[0m \u001b[0;34m=\u001b[0m \u001b[0mself\u001b[0m\u001b[0;34m.\u001b[0m\u001b[0m_make_engine\u001b[0m\u001b[0;34m(\u001b[0m\u001b[0mf\u001b[0m\u001b[0;34m,\u001b[0m \u001b[0mself\u001b[0m\u001b[0;34m.\u001b[0m\u001b[0mengine\u001b[0m\u001b[0;34m)\u001b[0m\u001b[0;34m\u001b[0m\u001b[0;34m\u001b[0m\u001b[0m\n\u001b[0m\u001b[1;32m    935\u001b[0m \u001b[0;34m\u001b[0m\u001b[0m\n\u001b[1;32m    936\u001b[0m     \u001b[0;32mdef\u001b[0m \u001b[0mclose\u001b[0m\u001b[0;34m(\u001b[0m\u001b[0mself\u001b[0m\u001b[0;34m)\u001b[0m\u001b[0;34m:\u001b[0m\u001b[0;34m\u001b[0m\u001b[0;34m\u001b[0m\u001b[0m\n",
      "\u001b[0;32m~/opt/anaconda3/lib/python3.8/site-packages/pandas/io/parsers/readers.py\u001b[0m in \u001b[0;36m_make_engine\u001b[0;34m(self, f, engine)\u001b[0m\n\u001b[1;32m   1216\u001b[0m             \u001b[0;31m# \"Union[str, PathLike[str], ReadCsvBuffer[bytes], ReadCsvBuffer[str]]\"\u001b[0m\u001b[0;34m\u001b[0m\u001b[0;34m\u001b[0m\u001b[0;34m\u001b[0m\u001b[0m\n\u001b[1;32m   1217\u001b[0m             \u001b[0;31m# , \"str\", \"bool\", \"Any\", \"Any\", \"Any\", \"Any\", \"Any\"\u001b[0m\u001b[0;34m\u001b[0m\u001b[0;34m\u001b[0m\u001b[0;34m\u001b[0m\u001b[0m\n\u001b[0;32m-> 1218\u001b[0;31m             self.handles = get_handle(  # type: ignore[call-overload]\n\u001b[0m\u001b[1;32m   1219\u001b[0m                 \u001b[0mf\u001b[0m\u001b[0;34m,\u001b[0m\u001b[0;34m\u001b[0m\u001b[0;34m\u001b[0m\u001b[0m\n\u001b[1;32m   1220\u001b[0m                 \u001b[0mmode\u001b[0m\u001b[0;34m,\u001b[0m\u001b[0;34m\u001b[0m\u001b[0;34m\u001b[0m\u001b[0m\n",
      "\u001b[0;32m~/opt/anaconda3/lib/python3.8/site-packages/pandas/io/common.py\u001b[0m in \u001b[0;36mget_handle\u001b[0;34m(path_or_buf, mode, encoding, compression, memory_map, is_text, errors, storage_options)\u001b[0m\n\u001b[1;32m    784\u001b[0m         \u001b[0;32mif\u001b[0m \u001b[0mioargs\u001b[0m\u001b[0;34m.\u001b[0m\u001b[0mencoding\u001b[0m \u001b[0;32mand\u001b[0m \u001b[0;34m\"b\"\u001b[0m \u001b[0;32mnot\u001b[0m \u001b[0;32min\u001b[0m \u001b[0mioargs\u001b[0m\u001b[0;34m.\u001b[0m\u001b[0mmode\u001b[0m\u001b[0;34m:\u001b[0m\u001b[0;34m\u001b[0m\u001b[0;34m\u001b[0m\u001b[0m\n\u001b[1;32m    785\u001b[0m             \u001b[0;31m# Encoding\u001b[0m\u001b[0;34m\u001b[0m\u001b[0;34m\u001b[0m\u001b[0;34m\u001b[0m\u001b[0m\n\u001b[0;32m--> 786\u001b[0;31m             handle = open(\n\u001b[0m\u001b[1;32m    787\u001b[0m                 \u001b[0mhandle\u001b[0m\u001b[0;34m,\u001b[0m\u001b[0;34m\u001b[0m\u001b[0;34m\u001b[0m\u001b[0m\n\u001b[1;32m    788\u001b[0m                 \u001b[0mioargs\u001b[0m\u001b[0;34m.\u001b[0m\u001b[0mmode\u001b[0m\u001b[0;34m,\u001b[0m\u001b[0;34m\u001b[0m\u001b[0;34m\u001b[0m\u001b[0m\n",
      "\u001b[0;31mFileNotFoundError\u001b[0m: [Errno 2] No such file or directory: '../csv/2017/201801_expense_list.csv'"
     ]
    }
   ],
   "source": [
    "df_2017 = pd.DataFrame() #빈 데이터프레임 생성하여 여기다가 넣을 수 있도록 한다.\n",
    "\n",
    "for i in files:\n",
    "    df = pd.read_csv(\"../csv/2017/\"+i)\n",
    "    df_2017 = pd.concat([df_2017, df], axis = 0, ignore_index=True)\n",
    "\n",
    "# df_2017"
   ]
  },
  {
   "cell_type": "code",
   "execution_count": 153,
   "metadata": {},
   "outputs": [],
   "source": [
    "#파일목록\n",
    "files = os.listdir(\"../csv/2018/\")\n",
    "files[0]\n",
    "\n",
    "\n",
    "df_2018 = pd.DataFrame() #빈 데이터프레임 생성하여 여기다가 넣을 수 있도록 한다.\n",
    "\n",
    "for i in files:\n",
    "    df = pd.read_csv(\"../csv/2018/\"+i)\n",
    "    df_2018 = pd.concat([df_2018, df], axis = 0, ignore_index=True)\n",
    "\n",
    "# df_2018"
   ]
  },
  {
   "cell_type": "code",
   "execution_count": 131,
   "metadata": {},
   "outputs": [],
   "source": [
    "total_df = pd.concat([df_2017, df_2018], axis=0, ignore_index=True)\n",
    "# total_df"
   ]
  },
  {
   "cell_type": "markdown",
   "metadata": {},
   "source": [
    "# josn,xlsx 파일을 로드(2019Data)\n",
    "---"
   ]
  },
  {
   "cell_type": "markdown",
   "metadata": {},
   "source": [
    "- json"
   ]
  },
  {
   "cell_type": "code",
   "execution_count": null,
   "metadata": {},
   "outputs": [],
   "source": [
    "df_201901 = pd.read_json(\"../csv/2019/201901_expense_list.json\")\n",
    "df_201901"
   ]
  },
  {
   "cell_type": "markdown",
   "metadata": {},
   "source": [
    "- xlsx"
   ]
  },
  {
   "cell_type": "code",
   "execution_count": null,
   "metadata": {},
   "outputs": [],
   "source": [
    "# !pip install openpyxl\n",
    "\n",
    "import pandas as pd\n",
    "pd.read_excel(\"../csv/2020/202001_expense_list.xlsx\", engine =\"openpyxl\")"
   ]
  },
  {
   "cell_type": "markdown",
   "metadata": {},
   "source": [
    "## total_df : 연도, 월별 합계 시각화\n",
    "### ㄴ 방법 2가지. 하나는 기존 노가다 하나는 pivot_table\n",
    "---\n",
    "- 1. 컬럼의 이름 변경['nid', '제목', 'url', '부서레벨1', '부서레벨2', '부서레벨3', '부서레벨4', '부서레벨5', '집행연도', '집행일', '예산', '집행', '구분', '부서명', '집행일시', '집행장소', '집행목적', '대상인원', '결제방법', '집행금액']\n",
    "- 2. 컬럼 삭제 부서레벨3, 부서레벨4, 부서레벨5, 예산, 집행, 구분\n",
    "> - 3. 연도별 집행금액의 합 -> 바형그래프로 시각화\n",
    "> - 4. 연도, 월 별 집행금액 합계를 시각화 -> 바형그래프로 시각회"
   ]
  },
  {
   "cell_type": "code",
   "execution_count": 134,
   "metadata": {},
   "outputs": [],
   "source": [
    "total_df.columns = ['nid', '제목', 'url', '부서레벨1', '부서레벨2', '부서레벨3', '부서레벨4', '부서레벨5', '집행연도', '집행일', '예산', '집행', '구분', '부서명', '집행일시', '집행장소', '집행목적', '대상인원', '결제방법', '집행금액']"
   ]
  },
  {
   "cell_type": "code",
   "execution_count": 135,
   "metadata": {},
   "outputs": [],
   "source": [
    "total_df = total_df.drop([\"부서레벨3\", \"부서레벨5\", \"예산\", \"집행\", \"구분\"], axis=1)"
   ]
  },
  {
   "cell_type": "markdown",
   "metadata": {},
   "source": [
    "- 3\n"
   ]
  },
  {
   "cell_type": "code",
   "execution_count": 136,
   "metadata": {},
   "outputs": [],
   "source": [
    "y =total_df.groupby(\"집행연도\").sum()[\"집행금액\"]\n",
    "x = y.index"
   ]
  },
  {
   "cell_type": "markdown",
   "metadata": {},
   "source": [
    "### 1) 노가다 방법으로 연도월별 시각화"
   ]
  },
  {
   "cell_type": "code",
   "execution_count": 137,
   "metadata": {},
   "outputs": [],
   "source": [
    "from matplotlib import font_manager, rc\n",
    "import matplotlib.pyplot as plt\n",
    "import numpy as np"
   ]
  },
  {
   "cell_type": "code",
   "execution_count": 138,
   "metadata": {},
   "outputs": [
    {
     "data": {
      "text/plain": [
       "array([0, 1])"
      ]
     },
     "execution_count": 138,
     "metadata": {},
     "output_type": "execute_result"
    }
   ],
   "source": [
    "#인덱스 먼저 만들어주기\n",
    "index = np.arange(len(x))\n",
    "index"
   ]
  },
  {
   "cell_type": "code",
   "execution_count": 139,
   "metadata": {},
   "outputs": [
    {
     "data": {
      "image/png": "[encoded data removed]",
      "text/plain": [
       "<Figure size 432x288 with 1 Axes>"
      ]
     },
     "metadata": {
      "needs_background": "light"
     },
     "output_type": "display_data"
    }
   ],
   "source": [
    "bar_width = 0.1\n",
    "\n",
    "plt.bar(index, y, bar_width, color='r', label=\"Mean\")\n",
    "\n",
    "#인덱스 대체\n",
    "plt.xticks(index, x)\n",
    "plt.legend()\n",
    "\n",
    "plt.show()"
   ]
  },
  {
   "cell_type": "code",
   "execution_count": 140,
   "metadata": {},
   "outputs": [],
   "source": [
    "# 4. 연도, 월 별 집행금액 합계를 시각화 -> 바형그래프로 시각화"
   ]
  },
  {
   "cell_type": "code",
   "execution_count": 141,
   "metadata": {},
   "outputs": [],
   "source": [
    "total_df[\"집행일시\"] = pd.to_datetime(total_df[\"집행일시\"])\n",
    "total_df[\"집행월\"] = total_df[\"집행일시\"].dt.strftime(\"%m\")"
   ]
  },
  {
   "cell_type": "code",
   "execution_count": 142,
   "metadata": {},
   "outputs": [
    {
     "data": {
      "text/plain": [
       "array([ 0,  1,  2,  3,  4,  5,  6,  7,  8,  9, 10, 11, 12, 13, 14, 15, 16,\n",
       "       17, 18, 19, 20, 21, 22, 23])"
      ]
     },
     "execution_count": 142,
     "metadata": {},
     "output_type": "execute_result"
    }
   ],
   "source": [
    "y =total_df.groupby([\"집행연도\",\"집행월\"]).sum()[\"집행금액\"]\n",
    "x = y.index\n",
    "\n",
    "index = np.arange(len(x))\n",
    "index"
   ]
  },
  {
   "cell_type": "code",
   "execution_count": 143,
   "metadata": {},
   "outputs": [
    {
     "data": {
      "image/png": "[encoded data removed]",
      "text/plain": [
       "<Figure size 432x288 with 1 Axes>"
      ]
     },
     "metadata": {
      "needs_background": "light"
     },
     "output_type": "display_data"
    }
   ],
   "source": [
    "bar_width = 0.1\n",
    "\n",
    "plt.bar(index, y, bar_width, color='r', label=\"Mean\")\n",
    "\n",
    "plt.xticks(index, x)\n",
    "plt.legend()\n",
    "\n",
    "plt.show()"
   ]
  },
  {
   "cell_type": "markdown",
   "metadata": {},
   "source": [
    "## 2) pivot_table() 의 형태로 변경 시각화\n",
    "### ㄴ 피벗테이블을 통해서 plot시에 범례,x,y축 다 알아서 지정(개편함)\n",
    "#### ?.plot.bar() : 함수로 plot하면 인덱스 인식해서 plot 때 넣어줌\n",
    "---"
   ]
  },
  {
   "cell_type": "code",
   "execution_count": 144,
   "metadata": {},
   "outputs": [
    {
     "data": {
      "text/html": [
       "<div>\n",
       "<style scoped>\n",
       "    .dataframe tbody tr th:only-of-type {\n",
       "        vertical-align: middle;\n",
       "    }\n",
       "\n",
       "    .dataframe tbody tr th {\n",
       "        vertical-align: top;\n",
       "    }\n",
       "\n",
       "    .dataframe thead th {\n",
       "        text-align: right;\n",
       "    }\n",
       "</style>\n",
       "<table border=\"1\" class=\"dataframe\">\n",
       "  <thead>\n",
       "    <tr style=\"text-align: right;\">\n",
       "      <th></th>\n",
       "      <th>집행금액</th>\n",
       "    </tr>\n",
       "    <tr>\n",
       "      <th>집행연도</th>\n",
       "      <th></th>\n",
       "    </tr>\n",
       "  </thead>\n",
       "  <tbody>\n",
       "    <tr>\n",
       "      <th>2017</th>\n",
       "      <td>9076941387</td>\n",
       "    </tr>\n",
       "    <tr>\n",
       "      <th>2018</th>\n",
       "      <td>9937556542</td>\n",
       "    </tr>\n",
       "  </tbody>\n",
       "</table>\n",
       "</div>"
      ],
      "text/plain": [
       "            집행금액\n",
       "집행연도            \n",
       "2017  9076941387\n",
       "2018  9937556542"
      ]
     },
     "execution_count": 144,
     "metadata": {},
     "output_type": "execute_result"
    }
   ],
   "source": [
    "# total_df.groupby(\"집행연도\").sum()[\"집행금액\"]\n",
    "\"\"\"groupby대신 pivot_table을 사용하여 ~별 ~. 을 바로 구할 수 있음.\"\"\"\n",
    "\n",
    "month_total = pd.pivot_table(total_df, index=[\"집행연도\"], values=[\"집행금액\"], aggfunc='sum')\n",
    "month_total"
   ]
  },
  {
   "cell_type": "code",
   "execution_count": 145,
   "metadata": {},
   "outputs": [
    {
     "data": {
      "text/plain": [
       "<AxesSubplot:xlabel='집행연도'>"
      ]
     },
     "execution_count": 145,
     "metadata": {},
     "output_type": "execute_result"
    },
    {
     "data": {
      "image/png": "[encoded data removed]",
      "text/plain": [
       "<Figure size 432x288 with 1 Axes>"
      ]
     },
     "metadata": {
      "needs_background": "light"
     },
     "output_type": "display_data"
    }
   ],
   "source": [
    "rc('font', family='AppleGothic')\n",
    "plt.rcParams['axes.unicode_minus'] = False\n",
    "\n",
    "(month_total).plot.bar()\n",
    "# (month_total).plot.barh() #이거는 가로(horizion)로 plt\n",
    "# value 단위가 너무 커서 위에 단위를 적어줌"
   ]
  },
  {
   "cell_type": "code",
   "execution_count": null,
   "metadata": {},
   "outputs": [],
   "source": [
    "month_total = total_df.groupby([\"집행연도\", \"집행일\"]).sum()[\"집행금액\"]\n",
    "# month_total"
   ]
  },
  {
   "cell_type": "code",
   "execution_count": 147,
   "metadata": {},
   "outputs": [
    {
     "data": {
      "text/plain": [
       "<AxesSubplot:xlabel='집행연도,집행일'>"
      ]
     },
     "execution_count": 147,
     "metadata": {},
     "output_type": "execute_result"
    },
    {
     "data": {
      "image/png": "[encoded data removed]",
      "text/plain": [
       "<Figure size 432x288 with 1 Axes>"
      ]
     },
     "metadata": {
      "needs_background": "light"
     },
     "output_type": "display_data"
    }
   ],
   "source": [
    "month_total.plot.bar()"
   ]
  },
  {
   "cell_type": "code",
   "execution_count": 148,
   "metadata": {},
   "outputs": [
    {
     "data": {
      "text/html": [
       "<div>\n",
       "<style scoped>\n",
       "    .dataframe tbody tr th:only-of-type {\n",
       "        vertical-align: middle;\n",
       "    }\n",
       "\n",
       "    .dataframe tbody tr th {\n",
       "        vertical-align: top;\n",
       "    }\n",
       "\n",
       "    .dataframe thead tr th {\n",
       "        text-align: left;\n",
       "    }\n",
       "\n",
       "    .dataframe thead tr:last-of-type th {\n",
       "        text-align: right;\n",
       "    }\n",
       "</style>\n",
       "<table border=\"1\" class=\"dataframe\">\n",
       "  <thead>\n",
       "    <tr>\n",
       "      <th></th>\n",
       "      <th colspan=\"2\" halign=\"left\">집행금액</th>\n",
       "    </tr>\n",
       "    <tr>\n",
       "      <th>집행연도</th>\n",
       "      <th>2017</th>\n",
       "      <th>2018</th>\n",
       "    </tr>\n",
       "    <tr>\n",
       "      <th>집행일</th>\n",
       "      <th></th>\n",
       "      <th></th>\n",
       "    </tr>\n",
       "  </thead>\n",
       "  <tbody>\n",
       "    <tr>\n",
       "      <th>1</th>\n",
       "      <td>710368860</td>\n",
       "      <td>735587570</td>\n",
       "    </tr>\n",
       "    <tr>\n",
       "      <th>2</th>\n",
       "      <td>712679864</td>\n",
       "      <td>769360005</td>\n",
       "    </tr>\n",
       "    <tr>\n",
       "      <th>3</th>\n",
       "      <td>737250454</td>\n",
       "      <td>761059010</td>\n",
       "    </tr>\n",
       "    <tr>\n",
       "      <th>4</th>\n",
       "      <td>635265805</td>\n",
       "      <td>703781418</td>\n",
       "    </tr>\n",
       "    <tr>\n",
       "      <th>5</th>\n",
       "      <td>647582378</td>\n",
       "      <td>669044701</td>\n",
       "    </tr>\n",
       "    <tr>\n",
       "      <th>6</th>\n",
       "      <td>758257342</td>\n",
       "      <td>690652154</td>\n",
       "    </tr>\n",
       "    <tr>\n",
       "      <th>7</th>\n",
       "      <td>701604626</td>\n",
       "      <td>788926477</td>\n",
       "    </tr>\n",
       "    <tr>\n",
       "      <th>8</th>\n",
       "      <td>661174850</td>\n",
       "      <td>730290532</td>\n",
       "    </tr>\n",
       "    <tr>\n",
       "      <th>9</th>\n",
       "      <td>806170700</td>\n",
       "      <td>769404957</td>\n",
       "    </tr>\n",
       "    <tr>\n",
       "      <th>10</th>\n",
       "      <td>637219943</td>\n",
       "      <td>827022975</td>\n",
       "    </tr>\n",
       "    <tr>\n",
       "      <th>11</th>\n",
       "      <td>843619171</td>\n",
       "      <td>960310221</td>\n",
       "    </tr>\n",
       "    <tr>\n",
       "      <th>12</th>\n",
       "      <td>1225747394</td>\n",
       "      <td>1532116522</td>\n",
       "    </tr>\n",
       "  </tbody>\n",
       "</table>\n",
       "</div>"
      ],
      "text/plain": [
       "            집행금액            \n",
       "집행연도        2017        2018\n",
       "집행일                         \n",
       "1      710368860   735587570\n",
       "2      712679864   769360005\n",
       "3      737250454   761059010\n",
       "4      635265805   703781418\n",
       "5      647582378   669044701\n",
       "6      758257342   690652154\n",
       "7      701604626   788926477\n",
       "8      661174850   730290532\n",
       "9      806170700   769404957\n",
       "10     637219943   827022975\n",
       "11     843619171   960310221\n",
       "12    1225747394  1532116522"
      ]
     },
     "execution_count": 148,
     "metadata": {},
     "output_type": "execute_result"
    }
   ],
   "source": [
    "pivot_month = pd.pivot_table(total_df, index=[\"집행일\"], columns=[\"집행연도\"], values=[\"집행금액\"], aggfunc=\"sum\")\n",
    "pivot_month"
   ]
  },
  {
   "cell_type": "code",
   "execution_count": 149,
   "metadata": {},
   "outputs": [
    {
     "data": {
      "text/plain": [
       "<AxesSubplot:xlabel='집행일'>"
      ]
     },
     "execution_count": 149,
     "metadata": {},
     "output_type": "execute_result"
    },
    {
     "data": {
      "image/png": "[encoded data removed]",
      "text/plain": [
       "<Figure size 432x288 with 1 Axes>"
      ]
     },
     "metadata": {
      "needs_background": "light"
     },
     "output_type": "display_data"
    }
   ],
   "source": [
    "pivot_month.plot.bar()\n",
    "# pivot_month.plot.barh()"
   ]
  },
  {
   "cell_type": "markdown",
   "metadata": {},
   "source": [
    "## Q.\n",
    "---\n",
    "- 집행연도와 부서레벨1 별 집행 금액의 평균이 어떠한가 그래프로 표시"
   ]
  },
  {
   "cell_type": "code",
   "execution_count": 150,
   "metadata": {},
   "outputs": [
    {
     "data": {
      "text/html": [
       "<div>\n",
       "<style scoped>\n",
       "    .dataframe tbody tr th:only-of-type {\n",
       "        vertical-align: middle;\n",
       "    }\n",
       "\n",
       "    .dataframe tbody tr th {\n",
       "        vertical-align: top;\n",
       "    }\n",
       "\n",
       "    .dataframe thead tr th {\n",
       "        text-align: left;\n",
       "    }\n",
       "\n",
       "    .dataframe thead tr:last-of-type th {\n",
       "        text-align: right;\n",
       "    }\n",
       "</style>\n",
       "<table border=\"1\" class=\"dataframe\">\n",
       "  <thead>\n",
       "    <tr>\n",
       "      <th></th>\n",
       "      <th colspan=\"2\" halign=\"left\">집행금액</th>\n",
       "    </tr>\n",
       "    <tr>\n",
       "      <th>집행연도</th>\n",
       "      <th>2017</th>\n",
       "      <th>2018</th>\n",
       "    </tr>\n",
       "    <tr>\n",
       "      <th>부서레벨1</th>\n",
       "      <th></th>\n",
       "      <th></th>\n",
       "    </tr>\n",
       "  </thead>\n",
       "  <tbody>\n",
       "    <tr>\n",
       "      <th>사업소</th>\n",
       "      <td>120432.199322</td>\n",
       "      <td>124290.371469</td>\n",
       "    </tr>\n",
       "    <tr>\n",
       "      <th>서울시본청</th>\n",
       "      <td>119812.339642</td>\n",
       "      <td>130286.126921</td>\n",
       "    </tr>\n",
       "    <tr>\n",
       "      <th>소방재난본부(소방서)</th>\n",
       "      <td>215503.983578</td>\n",
       "      <td>226244.982045</td>\n",
       "    </tr>\n",
       "    <tr>\n",
       "      <th>의회사무처</th>\n",
       "      <td>101912.491923</td>\n",
       "      <td>104341.926548</td>\n",
       "    </tr>\n",
       "  </tbody>\n",
       "</table>\n",
       "</div>"
      ],
      "text/plain": [
       "                      집행금액               \n",
       "집행연도                  2017           2018\n",
       "부서레벨1                                    \n",
       "사업소          120432.199322  124290.371469\n",
       "서울시본청        119812.339642  130286.126921\n",
       "소방재난본부(소방서)  215503.983578  226244.982045\n",
       "의회사무처        101912.491923  104341.926548"
      ]
     },
     "execution_count": 150,
     "metadata": {},
     "output_type": "execute_result"
    }
   ],
   "source": [
    "pivot_level1 = pd.pivot_table(total_df, index=[\"부서레벨1\"], columns=[\"집행연도\"], values=[\"집행금액\"], aggfunc=\"mean\")\n",
    "pivot_level1"
   ]
  },
  {
   "cell_type": "code",
   "execution_count": 151,
   "metadata": {},
   "outputs": [
    {
     "data": {
      "text/plain": [
       "<AxesSubplot:ylabel='부서레벨1'>"
      ]
     },
     "execution_count": 151,
     "metadata": {},
     "output_type": "execute_result"
    },
    {
     "data": {
      "image/png": "[encoded data removed]",
      "text/plain": [
       "<Figure size 432x288 with 1 Axes>"
      ]
     },
     "metadata": {
      "needs_background": "light"
     },
     "output_type": "display_data"
    }
   ],
   "source": [
    "pivot_level1.plot.barh()"
   ]
  },
  {
   "cell_type": "code",
   "execution_count": null,
   "metadata": {},
   "outputs": [],
   "source": []
  }
 ],
 "metadata": {
  "kernelspec": {
   "display_name": "Python 3.8.5 ('base')",
   "language": "python",
   "name": "python3"
  },
  "language_info": {
   "codemirror_mode": {
    "name": "ipython",
    "version": 3
   },
   "file_extension": ".py",
   "mimetype": "text/x-python",
   "name": "python",
   "nbconvert_exporter": "python",
   "pygments_lexer": "ipython3",
   "version": "3.8.5"
  },
  "orig_nbformat": 4,
  "vscode": {
   "interpreter": {
    "hash": "c97f18ea1c0f4969cf594a5df9f14ba2a838cf106fc5300ddecce29d9d6f0c71"
   }
  }
 },
 "nbformat": 4,
 "nbformat_minor": 2
}
