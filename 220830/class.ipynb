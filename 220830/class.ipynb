{
 "cells": [
  {
   "cell_type": "markdown",
   "metadata": {},
   "source": [
    "# Class\n",
    "### - 함수와 변수를 함께, 붕어빵을 찍어내는 틀\n",
    "### - 서로 다른 변수를 각각의 함수에 넣어 다른 결과값을 얻을 수 있음\n",
    "---"
   ]
  },
  {
   "cell_type": "markdown",
   "metadata": {},
   "source": [
    "- 클래스 선언"
   ]
  },
  {
   "cell_type": "code",
   "execution_count": 4,
   "metadata": {},
   "outputs": [],
   "source": [
    "class Class_1():\n",
    "    def func_1(self):\n",
    "        print(\"class call\")"
   ]
  },
  {
   "cell_type": "markdown",
   "metadata": {},
   "source": [
    "- 클래스 생성"
   ]
  },
  {
   "cell_type": "code",
   "execution_count": 5,
   "metadata": {},
   "outputs": [],
   "source": [
    "x = Class_1()"
   ]
  },
  {
   "cell_type": "code",
   "execution_count": 6,
   "metadata": {},
   "outputs": [
    {
     "name": "stdout",
     "output_type": "stream",
     "text": [
      "class call\n"
     ]
    }
   ],
   "source": [
    "x.func_1()"
   ]
  },
  {
   "cell_type": "markdown",
   "metadata": {},
   "source": [
    "- \\__init__ 은 클래스 선언과 동시에 실행."
   ]
  },
  {
   "cell_type": "code",
   "execution_count": 23,
   "metadata": {},
   "outputs": [],
   "source": [
    "class Class_2():\n",
    "    def __init__(self, input_x, input_y):\n",
    "        self.x = input_x\n",
    "        self.y = input_y"
   ]
  },
  {
   "cell_type": "code",
   "execution_count": 24,
   "metadata": {},
   "outputs": [],
   "source": [
    "a = Class_2(\"test\",1)\n",
    "b = Class_2(\"test\", 2)"
   ]
  },
  {
   "cell_type": "code",
   "execution_count": 25,
   "metadata": {},
   "outputs": [
    {
     "name": "stdout",
     "output_type": "stream",
     "text": [
      "test 1\n",
      "test 2\n"
     ]
    }
   ],
   "source": [
    "print(a.x, a.y)\n",
    "print(b.x, b.y)"
   ]
  },
  {
   "cell_type": "code",
   "execution_count": 39,
   "metadata": {},
   "outputs": [],
   "source": [
    "class Class_3():\n",
    "    def __init__(self, input_x, input_y):\n",
    "        self.x = input_x\n",
    "        self.y = input_y\n",
    "    def add(self):\n",
    "        self.result = self.x + self.y\n",
    "        return self.result\n",
    "    def substract(self):\n",
    "        self.result = self.x - self.y\n",
    "        return self.result"
   ]
  },
  {
   "cell_type": "code",
   "execution_count": 40,
   "metadata": {},
   "outputs": [],
   "source": [
    "c = Class_3(10,4)"
   ]
  },
  {
   "cell_type": "code",
   "execution_count": 41,
   "metadata": {},
   "outputs": [
    {
     "name": "stdout",
     "output_type": "stream",
     "text": [
      "10\n",
      "4\n",
      "14\n",
      "6\n"
     ]
    }
   ],
   "source": [
    "\"\"\"클래스 변수나 클래스 함수를 사용할 땐 클래스명. + ()\"\"\"\n",
    "print(c.x)\n",
    "print(c.y)\n",
    "\n",
    "print(c.add())\n",
    "print(c.substract())"
   ]
  },
  {
   "cell_type": "code",
   "execution_count": 42,
   "metadata": {},
   "outputs": [],
   "source": [
    "d = Class_3(4,9)"
   ]
  },
  {
   "cell_type": "code",
   "execution_count": 43,
   "metadata": {},
   "outputs": [
    {
     "name": "stdout",
     "output_type": "stream",
     "text": [
      "14\n",
      "13\n",
      "6\n",
      "-5\n"
     ]
    }
   ],
   "source": [
    "print(c.add())\n",
    "print(d.add())\n",
    "\n",
    "print(c.substract())\n",
    "print(d.substract())"
   ]
  },
  {
   "cell_type": "markdown",
   "metadata": {},
   "source": [
    "- 클래스 변수\n",
    "- 클래스들은 각자 독립적인 변수들을 가지고 행동\n",
    "- 클래스 변수는 CLass_4를 생성한 모든 곳에서 공유해서 사용이 가능"
   ]
  },
  {
   "cell_type": "code",
   "execution_count": 61,
   "metadata": {},
   "outputs": [],
   "source": [
    "class Class_4():\n",
    "    list=[]     #list는 지역변수가 아닌 전역변수 느낌이라서 클래스끼리 공유가 가능한 변수이다.\n",
    "    \n",
    "    def __init__(self, input_name):\n",
    "        self.name = input_name\n",
    "    def add_list(self, input_phone):\n",
    "        self.list.append(input_phone)"
   ]
  },
  {
   "cell_type": "code",
   "execution_count": 57,
   "metadata": {},
   "outputs": [],
   "source": [
    "test = Class_4('kim')\n",
    "test2 = Class_4('Lee')\n",
    "\n",
    "test.add_list(\"01011111111\")\n",
    "test2.add_list(\"01022222222\")"
   ]
  },
  {
   "cell_type": "code",
   "execution_count": 58,
   "metadata": {},
   "outputs": [
    {
     "name": "stdout",
     "output_type": "stream",
     "text": [
      "kim\n",
      "Lee\n",
      "['01011111111', '01022222222']\n",
      "['01011111111', '01022222222']\n"
     ]
    }
   ],
   "source": [
    "print(test.name)\n",
    "print(test2.name)\n",
    "\n",
    "print(test.list)\n",
    "print(test2.list)"
   ]
  },
  {
   "cell_type": "markdown",
   "metadata": {},
   "source": [
    "## Q.\n",
    "\n",
    "> - name하나당 휴대폰의 번호는 하나씩 나와야하는데\n",
    "> - 2개씩 나오고 있는 상황\n",
    "> - 1개씩 나오도록 수정"
   ]
  },
  {
   "cell_type": "code",
   "execution_count": 63,
   "metadata": {},
   "outputs": [],
   "source": [
    "class Class_4():\n",
    "    def __init__(self, input_name):\n",
    "        self.name = input_name\n",
    "        self.list = []\n",
    "\n",
    "    def add_list(self, input_phone):\n",
    "        # self.list = []            <- 여기다가 list를 넣게되면 함수 호출 때마다 번호가 리셋이 되도록함\n",
    "        self.list.append(input_phone)"
   ]
  },
  {
   "cell_type": "code",
   "execution_count": 69,
   "metadata": {},
   "outputs": [],
   "source": [
    "a = Class_4('Ha')\n",
    "a.add_list(\"010-9413-1949\")\n",
    "\n",
    "b = Class_4('Sin')\n",
    "b.add_list(\"010-9233-7568\")"
   ]
  },
  {
   "cell_type": "code",
   "execution_count": 70,
   "metadata": {},
   "outputs": [
    {
     "name": "stdout",
     "output_type": "stream",
     "text": [
      "['010-9413-1949']\n"
     ]
    }
   ],
   "source": [
    "a.add_list(\"010-9413-1949\")\n",
    "print(a.list)"
   ]
  },
  {
   "cell_type": "markdown",
   "metadata": {},
   "source": [
    "## Q.\n",
    "> class 생성<br>\n",
    "> class 생성하는 과정에서 인자 값을 2개 (a,b) 받고<br>\n",
    "> 새로운 메서드(함수) 하나 생성<br>\n",
    "> 생성할 때 받은 a,b<br>\n",
    "> a와 b 사이의 값들의 합계를 출력하는 함수 생성"
   ]
  },
  {
   "cell_type": "code",
   "execution_count": 102,
   "metadata": {},
   "outputs": [],
   "source": [
    "np.read_csv(\"\")\n",
    "\n",
    "class Class_5():\n",
    "    def __init__(self, input_a, input_b):\n",
    "        self.a = input_a\n",
    "        self.b = input_b\n",
    "\n",
    "    def func_sum(self):\n",
    "        self.sum = 0\n",
    "        for i in range(min(self.a, self.b)+1, max(self.a, self.b), 1):\n",
    "            self.sum += i\n",
    "        return self.sum\n"
   ]
  },
  {
   "cell_type": "code",
   "execution_count": 103,
   "metadata": {},
   "outputs": [
    {
     "data": {
      "text/plain": [
       "9"
      ]
     },
     "execution_count": 103,
     "metadata": {},
     "output_type": "execute_result"
    }
   ],
   "source": [
    "test = Class_5(1, 5)\n",
    "test.func_sum1()"
   ]
  },
  {
   "cell_type": "code",
   "execution_count": 88,
   "metadata": {},
   "outputs": [],
   "source": [
    "\"\"\"\n",
    "클래스함수뒤에 (self)를 붙히는 이유는 np.read_csv처럼 자신(np)에 종속된 함수라는 것을 알리기 위함이다.\n",
    "안쓰면은 함수랑 다를게 없음\n",
    "함수의 상위개념이기 떄문에 self라는게 추가된다.\n",
    "\"\"\"\n",
    "\n",
    "\n",
    "class Class_5():\n",
    "    def __init__(self, input_a, input_b):\n",
    "        self.a = input_a\n",
    "        self.b = input_b\n",
    "\n",
    "    def func_sum(self):\n",
    "        self.sum = 0\n",
    "        for i in range(min(self.a, self.b)+1, max(self.a, self.b), 1):\n",
    "            self.sum += i\n",
    "        return self.sum\n",
    "\n",
    " "
   ]
  },
  {
   "cell_type": "code",
   "execution_count": 89,
   "metadata": {},
   "outputs": [
    {
     "name": "stdout",
     "output_type": "stream",
     "text": [
      "5\n",
      "1\n"
     ]
    }
   ],
   "source": [
    "a = Class_5(4,1)\n",
    "\n",
    "print(a.func_sum())\n",
    "print(a.b)"
   ]
  },
  {
   "cell_type": "code",
   "execution_count": null,
   "metadata": {},
   "outputs": [],
   "source": [
    "class Class_5():\n",
    "    def __init__(self, input_a, input_b):\n",
    "        self.a = input_a\n",
    "        self.b = input_b\n",
    "        self.sum = 0\n",
    "\n",
    "    def func_sum(self):\n",
    "        for i in range(min(self.a, self.b)+1, max(self.a, self.b), 1):\n",
    "            self.sum += i\n",
    "        return self.sum"
   ]
  }
 ],
 "metadata": {
  "kernelspec": {
   "display_name": "Python 3.8.5 ('base')",
   "language": "python",
   "name": "python3"
  },
  "language_info": {
   "codemirror_mode": {
    "name": "ipython",
    "version": 3
   },
   "file_extension": ".py",
   "mimetype": "text/x-python",
   "name": "python",
   "nbconvert_exporter": "python",
   "pygments_lexer": "ipython3",
   "version": "3.8.5"
  },
  "orig_nbformat": 4,
  "vscode": {
   "interpreter": {
    "hash": "c97f18ea1c0f4969cf594a5df9f14ba2a838cf106fc5300ddecce29d9d6f0c71"
   }
  }
 },
 "nbformat": 4,
 "nbformat_minor": 2
}
