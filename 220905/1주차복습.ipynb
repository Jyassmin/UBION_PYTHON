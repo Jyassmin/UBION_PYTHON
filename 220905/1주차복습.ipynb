{
 "cells": [
  {
   "cell_type": "markdown",
   "metadata": {},
   "source": [
    "# 1주차 복습\n",
    "---"
   ]
  },
  {
   "cell_type": "markdown",
   "metadata": {},
   "source": [
    "### Q. 연습문제 : input()\n",
    "- int(input()) 함수를 이용해서 유저에게서 입력 값을 받아오는 변수\n",
    "- 90,80,70,이외 점수 이상이면 \"A\",\"B\",\"C\",\"F\" 출력\n",
    "- 함수(사전입력), 변수input(사후입력)\n"
   ]
  },
  {
   "cell_type": "code",
   "execution_count": 13,
   "metadata": {},
   "outputs": [
    {
     "name": "stdout",
     "output_type": "stream",
     "text": [
      "B\n"
     ]
    }
   ],
   "source": [
    "#함수 입력\n",
    "\n",
    "def func_score(x):\n",
    "    if int(x)>90:\n",
    "        print(\"A\")\n",
    "    elif int(x)>80:\n",
    "        print(\"B\")\n",
    "    elif int(x)>70:\n",
    "        print(\"c\")\n",
    "    else:\n",
    "        print(\"F\")\n",
    "        \n",
    "func_score(83)\n"
   ]
  },
  {
   "cell_type": "code",
   "execution_count": 14,
   "metadata": {},
   "outputs": [
    {
     "name": "stdout",
     "output_type": "stream",
     "text": [
      "B\n"
     ]
    }
   ],
   "source": [
    "#input함수 입력\n",
    "\n",
    "score = int(input(\"점수를 입력하시오 : \"))\n",
    "\n",
    "if score >= 90:\n",
    "    print(\"A\")\n",
    "elif score >= 80:\n",
    "    print(\"B\")\n",
    "elif score >= 70:\n",
    "    print(\"c\")\n",
    "else:\n",
    "    print(\"F\")\n"
   ]
  },
  {
   "cell_type": "markdown",
   "metadata": {},
   "source": [
    "### Q. 연습문제 : while문으로 list의 원소 하나씩 출력"
   ]
  },
  {
   "cell_type": "code",
   "execution_count": 21,
   "metadata": {},
   "outputs": [
    {
     "name": "stdout",
     "output_type": "stream",
     "text": [
      "A\n",
      "B\n",
      "C\n",
      "D\n"
     ]
    }
   ],
   "source": [
    "List = [\"A\", \"B\", \"C\", \"D\"]\n",
    "i=0\n",
    "\n",
    "while i < len(List):\n",
    "    print(List[i])\n",
    "    i += 1"
   ]
  },
  {
   "cell_type": "markdown",
   "metadata": {},
   "source": [
    "### Q. 연습문제 : 반복문, continue, break\n",
    "- 반복문을 이용해서 1-100까지 반복\n",
    "- 25부터 45까지의 합계를 출력"
   ]
  },
  {
   "cell_type": "code",
   "execution_count": 25,
   "metadata": {},
   "outputs": [
    {
     "name": "stdout",
     "output_type": "stream",
     "text": [
      "735\n"
     ]
    }
   ],
   "source": [
    "# for문\n",
    "sum = 0\n",
    "\n",
    "for i in range(1, 100, 1):\n",
    "    if i < 25:\n",
    "#    if i < 25 and i <= 45\n",
    "        continue\n",
    "    elif i > 45:\n",
    "        break\n",
    "    \n",
    "    sum += i\n",
    "    \n",
    "print(sum)"
   ]
  },
  {
   "cell_type": "code",
   "execution_count": 26,
   "metadata": {},
   "outputs": [
    {
     "name": "stdout",
     "output_type": "stream",
     "text": [
      "756\n"
     ]
    }
   ],
   "source": [
    "# while문\n",
    "i = 1\n",
    "sum = 0\n",
    "\n",
    "while i <= 100:\n",
    "    if i < 25:\n",
    "        i += 1\n",
    "# while문은 i가 자동으로 증가하지 않기에 i+=1을 해줘야한다.\n",
    "        continue\n",
    "    elif i > 45:\n",
    "        break\n",
    "\n",
    "    i += 1\n",
    "    sum += i\n",
    "\n",
    "print(sum)"
   ]
  },
  {
   "cell_type": "markdown",
   "metadata": {},
   "source": [
    "### Q. 연습문제\n",
    "- 함수를 생성\n",
    "- 매개변수 x,y,z 3개\n",
    "- z가 참이면 x+y 리턴\n",
    "- z가 부정이면 x-y 리턴\n",
    "- z의 타입이 bool의 형태가 아니면 \"z의 타입은 bool의 형태여야 합니다\" 리턴"
   ]
  },
  {
   "cell_type": "code",
   "execution_count": 33,
   "metadata": {},
   "outputs": [
    {
     "data": {
      "text/plain": [
       "3"
      ]
     },
     "execution_count": 33,
     "metadata": {},
     "output_type": "execute_result"
    }
   ],
   "source": [
    "def func_bool(x, y, z):\n",
    "    if type(z) == bool:\n",
    "        if z == True:\n",
    "            return x+y\n",
    "        elif z == False:\n",
    "            return x-y\n",
    "    \n",
    "    else:\n",
    "        print(\"z의 타입은 bool의 형태여야 합니다\")\n",
    "        \n",
    "func_bool(2, 1, True)"
   ]
  },
  {
   "cell_type": "markdown",
   "metadata": {},
   "source": [
    "## Class\n",
    "---\n",
    "- 이를 위한 매개변수 self가 추가된다. 모든 줄에 존재하니 함수명에 혹은 변수 명에 잘 넣기(첫줄제외)\n",
    "- class명의 첫글자는 보통 대문자."
   ]
  },
  {
   "cell_type": "code",
   "execution_count": 3,
   "metadata": {},
   "outputs": [],
   "source": [
    "class Class_1():    #붕어빵 틀 이름\n",
    "    def __init__(self):\n",
    "        self.result = \"Class생성되었습니다.\"\n",
    "        \n",
    "    def output(self):\n",
    "        return self.result"
   ]
  },
  {
   "cell_type": "code",
   "execution_count": 4,
   "metadata": {},
   "outputs": [
    {
     "name": "stdout",
     "output_type": "stream",
     "text": [
      "Class생성되었습니다.\n"
     ]
    }
   ],
   "source": [
    "class_a = Class_1()     #붕어빵 틀에 찍어내기\n",
    "print(class_a.output())"
   ]
  },
  {
   "cell_type": "code",
   "execution_count": 6,
   "metadata": {},
   "outputs": [],
   "source": [
    "#변수와 함수가 존재하는 클래스 선언\n",
    "class Class_2():\n",
    "    def __init__(self,x,y):\n",
    "        self.x = x\n",
    "        self.y = y\n",
    "    def output(self):\n",
    "        self.result = self.x + self.y\n",
    "        return self.result"
   ]
  },
  {
   "cell_type": "code",
   "execution_count": 7,
   "metadata": {},
   "outputs": [
    {
     "name": "stdout",
     "output_type": "stream",
     "text": [
      "9\n",
      "13\n"
     ]
    }
   ],
   "source": [
    "class_b = Class_2(5,4)\n",
    "class_c = Class_2(10,3)\n",
    "\n",
    "print(class_b.output())\n",
    "print(class_c.output())"
   ]
  },
  {
   "cell_type": "markdown",
   "metadata": {},
   "source": [
    "### Q. 연습문제 : class\n",
    "- Class 선언\n",
    "- init 함수에는 self를 제외한 2개의 매개변수 x,y\n",
    "- init 함수를 제외한 2개의 함수를 생성\n",
    "- 1번 함수에서는 x와 y의 곱을 리턴\n",
    "- 2번 함수에서는 x와 y의 나눗셈을 리턴"
   ]
  },
  {
   "cell_type": "code",
   "execution_count": 9,
   "metadata": {},
   "outputs": [],
   "source": [
    "class Class_q():\n",
    "    def __init__(self, x, y):\n",
    "        self.x = x\n",
    "        self.y = y\n",
    "    def supply(self):\n",
    "        return self.x * self.y\n",
    "    def divided(self):\n",
    "        return self.x / self.y"
   ]
  },
  {
   "cell_type": "code",
   "execution_count": 11,
   "metadata": {},
   "outputs": [
    {
     "name": "stdout",
     "output_type": "stream",
     "text": [
      "20\n",
      "5.0\n"
     ]
    }
   ],
   "source": [
    "class_d = Class_q(10,2)\n",
    "print(class_d.supply())\n",
    "print(class_d.divided())"
   ]
  },
  {
   "cell_type": "markdown",
   "metadata": {},
   "source": [
    "# DATAFRAME\n",
    "---\n",
    "데이터 프레임 -> 스리즈 -> 문자열화 -> 대문자로 변환"
   ]
  },
  {
   "cell_type": "code",
   "execution_count": 17,
   "metadata": {},
   "outputs": [
    {
     "data": {
      "text/plain": [
       "<bound method StringMethods.upper of <pandas.core.strings.accessor.StringMethods object at 0x7fa340fbb160>>"
      ]
     },
     "execution_count": 17,
     "metadata": {},
     "output_type": "execute_result"
    }
   ],
   "source": [
    "import pandas as pd\n",
    "df = pd.read_csv(\"../csv/uriage.csv\")\n",
    "\n",
    "df #데이터 프레임\n",
    "df[\"item_name\"]     #데이터 스리즈\n",
    "df[\"item_name\"].str     #데이터 문자열화\n",
    "df[\"item_name\"].str.upper       #데이터 대문자로\n"
   ]
  },
  {
   "cell_type": "markdown",
   "metadata": {},
   "source": [
    "- 양쪽공백제거 : strip()\n",
    "- 좌공백, 우공백제거 : lstrip(), rstrip()\n",
    "- 공백전체 제거 : replace(\" \", \"\")\n",
    "### - 스리즈 전체를 공백제거할 때는 **apply + (람다 or 함수)** 사용"
   ]
  },
  {
   "cell_type": "code",
   "execution_count": 23,
   "metadata": {},
   "outputs": [
    {
     "data": {
      "text/plain": [
       "0       상품A\n",
       "1       상품S\n",
       "2       상품a\n",
       "3       상품Z\n",
       "4       상품a\n",
       "       ... \n",
       "2994    상품Y\n",
       "2995    상품M\n",
       "2996    상품Q\n",
       "2997    상품H\n",
       "2998    상품D\n",
       "Name: item_name, Length: 2999, dtype: object"
      ]
     },
     "execution_count": 23,
     "metadata": {},
     "output_type": "execute_result"
    }
   ],
   "source": [
    "df[\"item_name\"].apply(lambda x : x.replace(\" \", \"\"))\n",
    "\n",
    "#or\n",
    "\n",
    "def change(x):\n",
    "    return x.replace(\" \",\"\")\n",
    "\n",
    "df[\"item_name\"].apply(change)"
   ]
  },
  {
   "cell_type": "markdown",
   "metadata": {},
   "source": [
    "### Class : 공백제거, 대문자변경\n",
    "- 1.init함수에서는 : 파일 경로를 매개변수를 이용하여 값을 받아오는 작업\n",
    "- 2.함수 생성 -> 공백제거, 대문자로 변환 리턴 -> 이 함수에서 필요한 매개변수 \"특정 컬럼\"\n",
    "- 3.데이터프레임을 리턴\n",
    "> \"_\"언더바로 시작하는 이름의 의미는 \"입력받는 값이다.\""
   ]
  },
  {
   "cell_type": "code",
   "execution_count": 29,
   "metadata": {},
   "outputs": [],
   "source": [
    "class Class_4():\n",
    "    def __init__(self, _path):\n",
    "        self.df = pd.read_csv(_path)\n",
    "\n",
    "    def change(self, _column):\n",
    "        #공백제거,대문자화\n",
    "        self.df[_column] = self.df[_column].str.replace(\" \", \"\")\n",
    "        self.df[_column] = self.df[_column].str.upper()\n",
    "        return self.df\n",
    "\n",
    "    def review(self):\n",
    "        return self.df"
   ]
  },
  {
   "cell_type": "code",
   "execution_count": null,
   "metadata": {},
   "outputs": [],
   "source": [
    "class_df = Class_4(\"../csv/uriage.csv\")\n",
    "# class_df.review()\n",
    "\n",
    "\"\"\"item_name컬럼의 공백,대문자화가 진행됌\"\"\"\n",
    "class_df.change(\"item_name\")"
   ]
  },
  {
   "cell_type": "code",
   "execution_count": null,
   "metadata": {},
   "outputs": [],
   "source": []
  },
  {
   "cell_type": "markdown",
   "metadata": {},
   "source": [
    "> ### *****위 클래스를 mod1.py파일에<br> 저장해서 불러와서 클래스 생성!**\n",
    " - \"__init__.py\" 파일에 있는 클래스안 함수를 추가하여 아래 수행\n",
    " - 공백제외,대문자변환 change함수\n",
    " - 시계열로 바꾸는 type_datetime함수\n",
    " - 시계열자료에서 년월일을 뽑아 각각의 컬럼으로 추가하는 add_timedata"
   ]
  },
  {
   "cell_type": "code",
   "execution_count": 55,
   "metadata": {},
   "outputs": [
    {
     "data": {
      "text/plain": [
       "<module 'mod2' from '/Users/kyle/UBION/220905/mod2/__init__.py'>"
      ]
     },
     "execution_count": 55,
     "metadata": {},
     "output_type": "execute_result"
    }
   ],
   "source": [
    "import mod2 #같은 폴더에 있는 mod2폴더를 로드 -> 그 폴더 안에 정의된 class가져옴\n",
    "import imp #파일이 수정되는 것을 캐치\n",
    "imp.reload(mod2) #최신화파일 캐치"
   ]
  },
  {
   "cell_type": "code",
   "execution_count": 56,
   "metadata": {},
   "outputs": [],
   "source": [
    "#mod\n",
    "class_df_2 = mod2.Class_df(\"../csv/uriage.csv\")"
   ]
  },
  {
   "cell_type": "code",
   "execution_count": 57,
   "metadata": {},
   "outputs": [
    {
     "data": {
      "text/html": [
       "<div>\n",
       "<style scoped>\n",
       "    .dataframe tbody tr th:only-of-type {\n",
       "        vertical-align: middle;\n",
       "    }\n",
       "\n",
       "    .dataframe tbody tr th {\n",
       "        vertical-align: top;\n",
       "    }\n",
       "\n",
       "    .dataframe thead th {\n",
       "        text-align: right;\n",
       "    }\n",
       "</style>\n",
       "<table border=\"1\" class=\"dataframe\">\n",
       "  <thead>\n",
       "    <tr style=\"text-align: right;\">\n",
       "      <th></th>\n",
       "      <th>purchase_date</th>\n",
       "      <th>item_name</th>\n",
       "      <th>item_price</th>\n",
       "      <th>customer_name</th>\n",
       "    </tr>\n",
       "  </thead>\n",
       "  <tbody>\n",
       "    <tr>\n",
       "      <th>0</th>\n",
       "      <td>2019-06-13 18:02</td>\n",
       "      <td>상품A</td>\n",
       "      <td>100.0</td>\n",
       "      <td>김가온</td>\n",
       "    </tr>\n",
       "    <tr>\n",
       "      <th>1</th>\n",
       "      <td>2019-07-13 13:05</td>\n",
       "      <td>상품S</td>\n",
       "      <td>NaN</td>\n",
       "      <td>김우찬</td>\n",
       "    </tr>\n",
       "    <tr>\n",
       "      <th>2</th>\n",
       "      <td>2019-05-11 19:42</td>\n",
       "      <td>상품A</td>\n",
       "      <td>NaN</td>\n",
       "      <td>김유찬</td>\n",
       "    </tr>\n",
       "    <tr>\n",
       "      <th>3</th>\n",
       "      <td>2019-02-12 23:40</td>\n",
       "      <td>상품Z</td>\n",
       "      <td>2600.0</td>\n",
       "      <td>김재현</td>\n",
       "    </tr>\n",
       "    <tr>\n",
       "      <th>4</th>\n",
       "      <td>2019-04-22 3:09</td>\n",
       "      <td>상품A</td>\n",
       "      <td>NaN</td>\n",
       "      <td>김강현</td>\n",
       "    </tr>\n",
       "    <tr>\n",
       "      <th>...</th>\n",
       "      <td>...</td>\n",
       "      <td>...</td>\n",
       "      <td>...</td>\n",
       "      <td>...</td>\n",
       "    </tr>\n",
       "    <tr>\n",
       "      <th>2994</th>\n",
       "      <td>2019-02-15 2:56</td>\n",
       "      <td>상품Y</td>\n",
       "      <td>2500.0</td>\n",
       "      <td>김정민</td>\n",
       "    </tr>\n",
       "    <tr>\n",
       "      <th>2995</th>\n",
       "      <td>2019-06-22 4:03</td>\n",
       "      <td>상품M</td>\n",
       "      <td>1300.0</td>\n",
       "      <td>김재원</td>\n",
       "    </tr>\n",
       "    <tr>\n",
       "      <th>2996</th>\n",
       "      <td>2019-03-29 11:14</td>\n",
       "      <td>상품Q</td>\n",
       "      <td>NaN</td>\n",
       "      <td>김지율</td>\n",
       "    </tr>\n",
       "    <tr>\n",
       "      <th>2997</th>\n",
       "      <td>2019-07-14 12:56</td>\n",
       "      <td>상품H</td>\n",
       "      <td>NaN</td>\n",
       "      <td>김승주</td>\n",
       "    </tr>\n",
       "    <tr>\n",
       "      <th>2998</th>\n",
       "      <td>2019-07-21 0:31</td>\n",
       "      <td>상품D</td>\n",
       "      <td>400.0</td>\n",
       "      <td>정준기</td>\n",
       "    </tr>\n",
       "  </tbody>\n",
       "</table>\n",
       "<p>2999 rows × 4 columns</p>\n",
       "</div>"
      ],
      "text/plain": [
       "         purchase_date item_name  item_price customer_name\n",
       "0     2019-06-13 18:02       상품A       100.0           김가온\n",
       "1     2019-07-13 13:05       상품S         NaN           김우찬\n",
       "2     2019-05-11 19:42       상품A         NaN           김유찬\n",
       "3     2019-02-12 23:40       상품Z      2600.0           김재현\n",
       "4      2019-04-22 3:09       상품A         NaN           김강현\n",
       "...                ...       ...         ...           ...\n",
       "2994   2019-02-15 2:56       상품Y      2500.0           김정민\n",
       "2995   2019-06-22 4:03       상품M      1300.0           김재원\n",
       "2996  2019-03-29 11:14       상품Q         NaN           김지율\n",
       "2997  2019-07-14 12:56       상품H         NaN           김승주\n",
       "2998   2019-07-21 0:31       상품D       400.0           정준기\n",
       "\n",
       "[2999 rows x 4 columns]"
      ]
     },
     "execution_count": 57,
     "metadata": {},
     "output_type": "execute_result"
    }
   ],
   "source": [
    "# class_df_2.review()\n",
    "class_df_2.change(\"item_name\")"
   ]
  },
  {
   "cell_type": "code",
   "execution_count": 58,
   "metadata": {},
   "outputs": [
    {
     "data": {
      "text/html": [
       "<div>\n",
       "<style scoped>\n",
       "    .dataframe tbody tr th:only-of-type {\n",
       "        vertical-align: middle;\n",
       "    }\n",
       "\n",
       "    .dataframe tbody tr th {\n",
       "        vertical-align: top;\n",
       "    }\n",
       "\n",
       "    .dataframe thead th {\n",
       "        text-align: right;\n",
       "    }\n",
       "</style>\n",
       "<table border=\"1\" class=\"dataframe\">\n",
       "  <thead>\n",
       "    <tr style=\"text-align: right;\">\n",
       "      <th></th>\n",
       "      <th>purchase_date</th>\n",
       "      <th>item_name</th>\n",
       "      <th>item_price</th>\n",
       "      <th>customer_name</th>\n",
       "    </tr>\n",
       "  </thead>\n",
       "  <tbody>\n",
       "    <tr>\n",
       "      <th>0</th>\n",
       "      <td>2019-06-13 18:02:00</td>\n",
       "      <td>상품A</td>\n",
       "      <td>100.0</td>\n",
       "      <td>김가온</td>\n",
       "    </tr>\n",
       "    <tr>\n",
       "      <th>1</th>\n",
       "      <td>2019-07-13 13:05:00</td>\n",
       "      <td>상품S</td>\n",
       "      <td>NaN</td>\n",
       "      <td>김우찬</td>\n",
       "    </tr>\n",
       "    <tr>\n",
       "      <th>2</th>\n",
       "      <td>2019-05-11 19:42:00</td>\n",
       "      <td>상품A</td>\n",
       "      <td>NaN</td>\n",
       "      <td>김유찬</td>\n",
       "    </tr>\n",
       "    <tr>\n",
       "      <th>3</th>\n",
       "      <td>2019-02-12 23:40:00</td>\n",
       "      <td>상품Z</td>\n",
       "      <td>2600.0</td>\n",
       "      <td>김재현</td>\n",
       "    </tr>\n",
       "    <tr>\n",
       "      <th>4</th>\n",
       "      <td>2019-04-22 03:09:00</td>\n",
       "      <td>상품A</td>\n",
       "      <td>NaN</td>\n",
       "      <td>김강현</td>\n",
       "    </tr>\n",
       "    <tr>\n",
       "      <th>...</th>\n",
       "      <td>...</td>\n",
       "      <td>...</td>\n",
       "      <td>...</td>\n",
       "      <td>...</td>\n",
       "    </tr>\n",
       "    <tr>\n",
       "      <th>2994</th>\n",
       "      <td>2019-02-15 02:56:00</td>\n",
       "      <td>상품Y</td>\n",
       "      <td>2500.0</td>\n",
       "      <td>김정민</td>\n",
       "    </tr>\n",
       "    <tr>\n",
       "      <th>2995</th>\n",
       "      <td>2019-06-22 04:03:00</td>\n",
       "      <td>상품M</td>\n",
       "      <td>1300.0</td>\n",
       "      <td>김재원</td>\n",
       "    </tr>\n",
       "    <tr>\n",
       "      <th>2996</th>\n",
       "      <td>2019-03-29 11:14:00</td>\n",
       "      <td>상품Q</td>\n",
       "      <td>NaN</td>\n",
       "      <td>김지율</td>\n",
       "    </tr>\n",
       "    <tr>\n",
       "      <th>2997</th>\n",
       "      <td>2019-07-14 12:56:00</td>\n",
       "      <td>상품H</td>\n",
       "      <td>NaN</td>\n",
       "      <td>김승주</td>\n",
       "    </tr>\n",
       "    <tr>\n",
       "      <th>2998</th>\n",
       "      <td>2019-07-21 00:31:00</td>\n",
       "      <td>상품D</td>\n",
       "      <td>400.0</td>\n",
       "      <td>정준기</td>\n",
       "    </tr>\n",
       "  </tbody>\n",
       "</table>\n",
       "<p>2999 rows × 4 columns</p>\n",
       "</div>"
      ],
      "text/plain": [
       "           purchase_date item_name  item_price customer_name\n",
       "0    2019-06-13 18:02:00       상품A       100.0           김가온\n",
       "1    2019-07-13 13:05:00       상품S         NaN           김우찬\n",
       "2    2019-05-11 19:42:00       상품A         NaN           김유찬\n",
       "3    2019-02-12 23:40:00       상품Z      2600.0           김재현\n",
       "4    2019-04-22 03:09:00       상품A         NaN           김강현\n",
       "...                  ...       ...         ...           ...\n",
       "2994 2019-02-15 02:56:00       상품Y      2500.0           김정민\n",
       "2995 2019-06-22 04:03:00       상품M      1300.0           김재원\n",
       "2996 2019-03-29 11:14:00       상품Q         NaN           김지율\n",
       "2997 2019-07-14 12:56:00       상품H         NaN           김승주\n",
       "2998 2019-07-21 00:31:00       상품D       400.0           정준기\n",
       "\n",
       "[2999 rows x 4 columns]"
      ]
     },
     "execution_count": 58,
     "metadata": {},
     "output_type": "execute_result"
    }
   ],
   "source": [
    "class_df_2.type_datetime(\"purchase_date\")"
   ]
  },
  {
   "cell_type": "code",
   "execution_count": 59,
   "metadata": {},
   "outputs": [],
   "source": [
    "class_df_2.add_timecolumns(\"purchase_date\")"
   ]
  },
  {
   "cell_type": "code",
   "execution_count": 64,
   "metadata": {},
   "outputs": [
    {
     "data": {
      "text/html": [
       "<div>\n",
       "<style scoped>\n",
       "    .dataframe tbody tr th:only-of-type {\n",
       "        vertical-align: middle;\n",
       "    }\n",
       "\n",
       "    .dataframe tbody tr th {\n",
       "        vertical-align: top;\n",
       "    }\n",
       "\n",
       "    .dataframe thead th {\n",
       "        text-align: right;\n",
       "    }\n",
       "</style>\n",
       "<table border=\"1\" class=\"dataframe\">\n",
       "  <thead>\n",
       "    <tr style=\"text-align: right;\">\n",
       "      <th></th>\n",
       "      <th>Region</th>\n",
       "      <th>Country</th>\n",
       "      <th>Item Type</th>\n",
       "      <th>Sales Channel</th>\n",
       "      <th>Order Priority</th>\n",
       "      <th>Order Date</th>\n",
       "      <th>Order ID</th>\n",
       "      <th>Ship Date</th>\n",
       "      <th>Units Sold</th>\n",
       "      <th>Unit Price</th>\n",
       "      <th>Unit Cost</th>\n",
       "      <th>Total Revenue</th>\n",
       "      <th>Total Cost</th>\n",
       "      <th>Total Profit</th>\n",
       "    </tr>\n",
       "  </thead>\n",
       "  <tbody>\n",
       "    <tr>\n",
       "      <th>0</th>\n",
       "      <td>Sub-Saharan Africa</td>\n",
       "      <td>Chad</td>\n",
       "      <td>Office Supplies</td>\n",
       "      <td>Online</td>\n",
       "      <td>L</td>\n",
       "      <td>1/27/2011</td>\n",
       "      <td>292494523</td>\n",
       "      <td>2/12/2011</td>\n",
       "      <td>4484</td>\n",
       "      <td>651.21</td>\n",
       "      <td>524.96</td>\n",
       "      <td>2920025.64</td>\n",
       "      <td>2353920.64</td>\n",
       "      <td>566105.00</td>\n",
       "    </tr>\n",
       "    <tr>\n",
       "      <th>1</th>\n",
       "      <td>Europe</td>\n",
       "      <td>Latvia</td>\n",
       "      <td>Beverages</td>\n",
       "      <td>Online</td>\n",
       "      <td>C</td>\n",
       "      <td>12/28/2015</td>\n",
       "      <td>361825549</td>\n",
       "      <td>1/23/2016</td>\n",
       "      <td>1075</td>\n",
       "      <td>47.45</td>\n",
       "      <td>31.79</td>\n",
       "      <td>51008.75</td>\n",
       "      <td>34174.25</td>\n",
       "      <td>16834.50</td>\n",
       "    </tr>\n",
       "    <tr>\n",
       "      <th>2</th>\n",
       "      <td>Middle East and North Africa</td>\n",
       "      <td>Pakistan</td>\n",
       "      <td>Vegetables</td>\n",
       "      <td>Offline</td>\n",
       "      <td>C</td>\n",
       "      <td>1/13/2011</td>\n",
       "      <td>141515767</td>\n",
       "      <td>2/1/2011</td>\n",
       "      <td>6515</td>\n",
       "      <td>154.06</td>\n",
       "      <td>90.93</td>\n",
       "      <td>1003700.90</td>\n",
       "      <td>592408.95</td>\n",
       "      <td>411291.95</td>\n",
       "    </tr>\n",
       "    <tr>\n",
       "      <th>3</th>\n",
       "      <td>Sub-Saharan Africa</td>\n",
       "      <td>Democratic Republic of the Congo</td>\n",
       "      <td>Household</td>\n",
       "      <td>Online</td>\n",
       "      <td>C</td>\n",
       "      <td>9/11/2012</td>\n",
       "      <td>500364005</td>\n",
       "      <td>10/6/2012</td>\n",
       "      <td>7683</td>\n",
       "      <td>668.27</td>\n",
       "      <td>502.54</td>\n",
       "      <td>5134318.41</td>\n",
       "      <td>3861014.82</td>\n",
       "      <td>1273303.59</td>\n",
       "    </tr>\n",
       "    <tr>\n",
       "      <th>4</th>\n",
       "      <td>Europe</td>\n",
       "      <td>Czech Republic</td>\n",
       "      <td>Beverages</td>\n",
       "      <td>Online</td>\n",
       "      <td>C</td>\n",
       "      <td>10/27/2015</td>\n",
       "      <td>127481591</td>\n",
       "      <td>12/5/2015</td>\n",
       "      <td>3491</td>\n",
       "      <td>47.45</td>\n",
       "      <td>31.79</td>\n",
       "      <td>165647.95</td>\n",
       "      <td>110978.89</td>\n",
       "      <td>54669.06</td>\n",
       "    </tr>\n",
       "    <tr>\n",
       "      <th>...</th>\n",
       "      <td>...</td>\n",
       "      <td>...</td>\n",
       "      <td>...</td>\n",
       "      <td>...</td>\n",
       "      <td>...</td>\n",
       "      <td>...</td>\n",
       "      <td>...</td>\n",
       "      <td>...</td>\n",
       "      <td>...</td>\n",
       "      <td>...</td>\n",
       "      <td>...</td>\n",
       "      <td>...</td>\n",
       "      <td>...</td>\n",
       "      <td>...</td>\n",
       "    </tr>\n",
       "    <tr>\n",
       "      <th>9995</th>\n",
       "      <td>Asia</td>\n",
       "      <td>Laos</td>\n",
       "      <td>Beverages</td>\n",
       "      <td>Online</td>\n",
       "      <td>H</td>\n",
       "      <td>7/15/2014</td>\n",
       "      <td>199342048</td>\n",
       "      <td>7/31/2014</td>\n",
       "      <td>8597</td>\n",
       "      <td>47.45</td>\n",
       "      <td>31.79</td>\n",
       "      <td>407927.65</td>\n",
       "      <td>273298.63</td>\n",
       "      <td>134629.02</td>\n",
       "    </tr>\n",
       "    <tr>\n",
       "      <th>9996</th>\n",
       "      <td>Europe</td>\n",
       "      <td>Liechtenstein</td>\n",
       "      <td>Cosmetics</td>\n",
       "      <td>Online</td>\n",
       "      <td>C</td>\n",
       "      <td>10/27/2012</td>\n",
       "      <td>763044106</td>\n",
       "      <td>11/1/2012</td>\n",
       "      <td>562</td>\n",
       "      <td>437.20</td>\n",
       "      <td>263.33</td>\n",
       "      <td>245706.40</td>\n",
       "      <td>147991.46</td>\n",
       "      <td>97714.94</td>\n",
       "    </tr>\n",
       "    <tr>\n",
       "      <th>9997</th>\n",
       "      <td>Sub-Saharan Africa</td>\n",
       "      <td>Democratic Republic of the Congo</td>\n",
       "      <td>Vegetables</td>\n",
       "      <td>Offline</td>\n",
       "      <td>M</td>\n",
       "      <td>2/14/2013</td>\n",
       "      <td>848579967</td>\n",
       "      <td>3/20/2013</td>\n",
       "      <td>2524</td>\n",
       "      <td>154.06</td>\n",
       "      <td>90.93</td>\n",
       "      <td>388847.44</td>\n",
       "      <td>229507.32</td>\n",
       "      <td>159340.12</td>\n",
       "    </tr>\n",
       "    <tr>\n",
       "      <th>9998</th>\n",
       "      <td>Sub-Saharan Africa</td>\n",
       "      <td>South Africa</td>\n",
       "      <td>Meat</td>\n",
       "      <td>Online</td>\n",
       "      <td>L</td>\n",
       "      <td>2/19/2017</td>\n",
       "      <td>298185956</td>\n",
       "      <td>2/22/2017</td>\n",
       "      <td>8706</td>\n",
       "      <td>421.89</td>\n",
       "      <td>364.69</td>\n",
       "      <td>3672974.34</td>\n",
       "      <td>3174991.14</td>\n",
       "      <td>497983.20</td>\n",
       "    </tr>\n",
       "    <tr>\n",
       "      <th>9999</th>\n",
       "      <td>Asia</td>\n",
       "      <td>Mongolia</td>\n",
       "      <td>Snacks</td>\n",
       "      <td>Offline</td>\n",
       "      <td>M</td>\n",
       "      <td>4/12/2016</td>\n",
       "      <td>824410903</td>\n",
       "      <td>4/16/2016</td>\n",
       "      <td>361</td>\n",
       "      <td>152.58</td>\n",
       "      <td>97.44</td>\n",
       "      <td>55081.38</td>\n",
       "      <td>35175.84</td>\n",
       "      <td>19905.54</td>\n",
       "    </tr>\n",
       "  </tbody>\n",
       "</table>\n",
       "<p>10000 rows × 14 columns</p>\n",
       "</div>"
      ],
      "text/plain": [
       "                            Region                           Country  \\\n",
       "0               Sub-Saharan Africa                              Chad   \n",
       "1                           Europe                            Latvia   \n",
       "2     Middle East and North Africa                          Pakistan   \n",
       "3               Sub-Saharan Africa  Democratic Republic of the Congo   \n",
       "4                           Europe                    Czech Republic   \n",
       "...                            ...                               ...   \n",
       "9995                          Asia                              Laos   \n",
       "9996                        Europe                     Liechtenstein   \n",
       "9997            Sub-Saharan Africa  Democratic Republic of the Congo   \n",
       "9998            Sub-Saharan Africa                      South Africa   \n",
       "9999                          Asia                          Mongolia   \n",
       "\n",
       "            Item Type Sales Channel Order Priority  Order Date   Order ID  \\\n",
       "0     Office Supplies        Online              L   1/27/2011  292494523   \n",
       "1           Beverages        Online              C  12/28/2015  361825549   \n",
       "2          Vegetables       Offline              C   1/13/2011  141515767   \n",
       "3           Household        Online              C   9/11/2012  500364005   \n",
       "4           Beverages        Online              C  10/27/2015  127481591   \n",
       "...               ...           ...            ...         ...        ...   \n",
       "9995        Beverages        Online              H   7/15/2014  199342048   \n",
       "9996        Cosmetics        Online              C  10/27/2012  763044106   \n",
       "9997       Vegetables       Offline              M   2/14/2013  848579967   \n",
       "9998             Meat        Online              L   2/19/2017  298185956   \n",
       "9999           Snacks       Offline              M   4/12/2016  824410903   \n",
       "\n",
       "      Ship Date  Units Sold  Unit Price  Unit Cost  Total Revenue  Total Cost  \\\n",
       "0     2/12/2011        4484      651.21     524.96     2920025.64  2353920.64   \n",
       "1     1/23/2016        1075       47.45      31.79       51008.75    34174.25   \n",
       "2      2/1/2011        6515      154.06      90.93     1003700.90   592408.95   \n",
       "3     10/6/2012        7683      668.27     502.54     5134318.41  3861014.82   \n",
       "4     12/5/2015        3491       47.45      31.79      165647.95   110978.89   \n",
       "...         ...         ...         ...        ...            ...         ...   \n",
       "9995  7/31/2014        8597       47.45      31.79      407927.65   273298.63   \n",
       "9996  11/1/2012         562      437.20     263.33      245706.40   147991.46   \n",
       "9997  3/20/2013        2524      154.06      90.93      388847.44   229507.32   \n",
       "9998  2/22/2017        8706      421.89     364.69     3672974.34  3174991.14   \n",
       "9999  4/16/2016         361      152.58      97.44       55081.38    35175.84   \n",
       "\n",
       "      Total Profit  \n",
       "0        566105.00  \n",
       "1         16834.50  \n",
       "2        411291.95  \n",
       "3       1273303.59  \n",
       "4         54669.06  \n",
       "...            ...  \n",
       "9995     134629.02  \n",
       "9996      97714.94  \n",
       "9997     159340.12  \n",
       "9998     497983.20  \n",
       "9999      19905.54  \n",
       "\n",
       "[10000 rows x 14 columns]"
      ]
     },
     "execution_count": 64,
     "metadata": {},
     "output_type": "execute_result"
    }
   ],
   "source": [
    "class_df_3 = mod2.Class_df(\"../csv/Sales Records.csv\")\n",
    "class_df_3.review()"
   ]
  },
  {
   "cell_type": "code",
   "execution_count": null,
   "metadata": {},
   "outputs": [],
   "source": []
  }
 ],
 "metadata": {
  "kernelspec": {
   "display_name": "Python 3.8.5 ('base')",
   "language": "python",
   "name": "python3"
  },
  "language_info": {
   "codemirror_mode": {
    "name": "ipython",
    "version": 3
   },
   "file_extension": ".py",
   "mimetype": "text/x-python",
   "name": "python",
   "nbconvert_exporter": "python",
   "pygments_lexer": "ipython3",
   "version": "3.8.5"
  },
  "orig_nbformat": 4,
  "vscode": {
   "interpreter": {
    "hash": "c97f18ea1c0f4969cf594a5df9f14ba2a838cf106fc5300ddecce29d9d6f0c71"
   }
  }
 },
 "nbformat": 4,
 "nbformat_minor": 2
}
