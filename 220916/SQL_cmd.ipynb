{
 "cells": [
  {
   "cell_type": "markdown",
   "metadata": {},
   "source": [
    "# SQL\n",
    "---"
   ]
  },
  {
   "cell_type": "code",
   "execution_count": null,
   "metadata": {},
   "outputs": [],
   "source": [
    "\"\"\"\n",
    "CRUD\n",
    "\n",
    "Create\n",
    "Alter\n",
    "Drop (Table or DB이름)\n",
    "Insert into (테이블이름) valuse (data1, data2,,) : 테이블에 새로운 값 추가\n",
    "Update (테이블이름) set (수정내용) where (조건)\n",
    "Delete from (테이블이름) where (조건)   - Drop은 전체삭제, 얘는 데이터삭제\n",
    "Select (필드) from (테이블이름) where (조건)\n",
    "\n",
    "WHERE절 : {컬럼} = {값};  / {컬럼} IN {값}\n",
    "JOIN : 여러 테이블의 컬럼을 조합하여 하나로 보여줌. \n",
    "        MYSQL에선 Left, Right조인으로 Full만들 수 있음.(파이선 Merge에서도 사용)\n",
    "    >   Select A.컬1, A.컬2, B.컬1, B.컬2\n",
    "        From A LEFT JOIN B\n",
    "        ON A.key = B.key\n",
    "ORDER BY : Select * from (테이블명) order by (컬럼명) asc/desc\n",
    "GROUP BY : 특정 컬럼을 기준으로 그룹화\n",
    "    ㄴ HAVING : 그룹화한 결과에 조건을 건다.\n",
    "    >     Select * from (테이블명) group by (그룹화할 컬럼)\n",
    "    >응용: Select * from (테이블명) where (조건) group by (그룹화할 컬럼) having (조건) order by (컬럼)\n",
    "\n",
    "\"\"\""
   ]
  },
  {
   "cell_type": "code",
   "execution_count": null,
   "metadata": {},
   "outputs": [],
   "source": [
    "\"\"\"\n",
    "mysql -u root -p\n",
    "create database ubion;\n",
    "use ubion;\n",
    "\n",
    "/opt/homebrew/var/mysql/JMMacui-MacBookAir.local.pid\n",
    "\"\"\""
   ]
  },
  {
   "cell_type": "code",
   "execution_count": null,
   "metadata": {},
   "outputs": [],
   "source": [
    "\"\"\"\n",
    "[테이블 생성]\n",
    "mysql> create table DEPT (\n",
    "    -> \n",
    "    -> DEPTNO int primary key,\n",
    "    -> DNAME varchar(32),\n",
    "    -> LOC varchar(32)\n",
    "    -> );\n",
    "\n",
    "[값 삽입]\n",
    "mysql> insert into DEPT values (10, \"accounting\", \"new york\"),\n",
    "    -> (20, \"research\",\"dallas\"), (40, \"operations\", \"boston\");\n",
    "    -> insert into DEPT values (30, \"SALES\", \"CHICAGO\");\n",
    "\"\"\""
   ]
  },
  {
   "cell_type": "code",
   "execution_count": null,
   "metadata": {},
   "outputs": [],
   "source": [
    "[테이블 생성]\n",
    "mysql> create table EMP (\n",
    "    -> \n",
    "    -> EMPNO int primary key,\n",
    "    ->  ENAME varchar(16),\n",
    "    ->  JOB varchar(16),\n",
    "    ->  MGR int,\n",
    "    ->  HIREDATE int,\n",
    "    ->  SAL int,\n",
    "    ->  COMM int,\n",
    "    ->  DEPTNO int\n",
    "    -> );\n",
    "    \n",
    "[EMP의 EMPNO컬럼 이름을 EMPNO_reaname으로 바꾸려면]\n",
    "> alter table EMP rename column EMPNO to EMPNO_rename;\n",
    "> alter table EMP change column EMPNO EMPNO_rename int;\n",
    "\n",
    "[value삽입]\n",
    "mysql> insert into EMP values (1111, \"Kim\", \"CEO\", 1234, 20200101, 1000, NULL, 10),\n",
    "    -> (2222, \"Lee\", \"salesman\", 2222, 20200503. 300, NULL, 20),\n",
    "    -> (3333,\"Choi\", \"manager\", 3333, 20200303, 400, NULL, 30),\n",
    "    -> (4444, \"Park\", \"analyst\", 4444, 20200705, 200, NULL, 40);"
   ]
  },
  {
   "cell_type": "code",
   "execution_count": null,
   "metadata": {},
   "outputs": [],
   "source": [
    "[값 삭제]\n",
    "DELETE * from EMP where\n",
    "\n",
    "[테이블 구조확인] - desc\n",
    "> DESC EMP\n",
    "\n",
    "[테이블 내부확인]\n",
    "> select * from EMP\n",
    "\n",
    "[조건 조회]\n",
    "> select * from EMP where SAL > 300;\n",
    "> select * from EMP where SAL in (300, 1000);\n",
    "\n",
    "[이름으로 필터링] - like\n",
    "> select * from EMP where ENAME like \"%K%\"; : 가운데에 K가 있는 행 출력\n",
    "> select * from EMP where ENAME like \"%K\"; : 맨 뒤에 K가 있는 행 출력"
   ]
  },
  {
   "cell_type": "markdown",
   "metadata": {},
   "source": [
    "mysql> insert into EMP values (9999, \"Seo\", \"manager\", 1111, 20200101, 500, 200, 50);\n",
    "Query OK, 1 row affected (0.01 sec)\n",
    "\n",
    "mysql> select * from EMP;\n",
    "+-------+-------+----------+------+----------+------+------+--------+\n",
    "| EMPNO | ENAME | JOB      | MGR  | HIREDATE | SAL  | COMM | DEPTNO |\n",
    "+-------+-------+----------+------+----------+------+------+--------+\n",
    "|  1111 | Kim   | CEO      | 1234 | 20200101 | 1000 | NULL |     10 |\n",
    "|  2222 | Lee   | salesman | 2222 | 20200503 |  300 | NULL |     20 |\n",
    "|  3333 | Choi  | manager  | 3333 | 20200303 |  400 | NULL |     30 |\n",
    "|  4444 | Park  | analyst  | 4444 | 20200705 |  200 | NULL |     40 |\n",
    "|  9999 | Seo   | manager  | 1111 | 20200101 |  500 |  200 |     50 |\n",
    "+-------+-------+----------+------+----------+------+------+--------+\n",
    "\n",
    "mysql> select * from DEPT;\n",
    "+--------+------------+----------+\n",
    "| DEPTNO | DNAME      | LOC      |\n",
    "+--------+------------+----------+\n",
    "|     10 | accounting | new york |\n",
    "|     20 | research   | dallas   |\n",
    "|     30 | SALES      | CHICAGO  |\n",
    "|     40 | operations | boston   |\n",
    "+--------+------------+----------+\n",
    "4 rows in set (0.00 sec)\n"
   ]
  },
  {
   "cell_type": "markdown",
   "metadata": {},
   "source": [
    "[left join]\n",
    ">   select EMP.EMPNO, EMP.ENAME, EMP.JOB, EMP.DEPTNO, DEPT.DEPTNO, DEPT.DNAME, DEPT.LOC\n",
    "    from EMP left join DEPT\n",
    "    on EMP.DEPTNO = DEPT.DEPTNO;\n",
    "\n",
    "\"\"\"\n",
    "+-------+----------+--------+--------+------------+----------+\n",
    "| ENAME | JOB      | DEPTNO | DEPTNO | DNAME      | LOC      |\n",
    "+-------+----------+--------+--------+------------+----------+\n",
    "| Kim   | CEO      |     10 |     10 | accounting | new york |\n",
    "| Lee   | salesman |     20 |     20 | research   | dallas   |\n",
    "| Choi  | manager  |     30 |     30 | SALES      | CHICAGO  |\n",
    "| Park  | analyst  |     40 |     40 | operations | boston   |\n",
    "| Seo   | manager  |     50 |   NULL | NULL       | NULL     |\n",
    "+-------+----------+--------+--------+------------+----------+\n",
    "\"\"\"\n",
    "\n",
    "DEPTNO를 기준으로 EMP 왼쪽쪼인을 했을 때,\n",
    "EMP.DEPTNO에는 50이 살아있고, DEPT.DEPTNO에는 50대신에 NULL이 뜬다.\n",
    "따라서 NULL을 안띄우게 할려면,\n",
    "select를 할 때의 조건대상 컬럼이 더 넓은 테이블로 컬럼을 출력한다.(여기선 EMP에 50인 데이터가 하나 더 있다.)"
   ]
  },
  {
   "cell_type": "code",
   "execution_count": null,
   "metadata": {},
   "outputs": [],
   "source": []
  },
  {
   "cell_type": "code",
   "execution_count": null,
   "metadata": {},
   "outputs": [],
   "source": []
  },
  {
   "cell_type": "code",
   "execution_count": null,
   "metadata": {},
   "outputs": [],
   "source": []
  },
  {
   "cell_type": "markdown",
   "metadata": {},
   "source": []
  }
 ],
 "metadata": {
  "kernelspec": {
   "display_name": "Python 3.9.6 64-bit",
   "language": "python",
   "name": "python3"
  },
  "language_info": {
   "name": "python",
   "version": "3.9.6"
  },
  "orig_nbformat": 4,
  "vscode": {
   "interpreter": {
    "hash": "31f2aee4e71d21fbe5cf8b01ff0e069b9275f58929596ceb00d14d90e3e16cd6"
   }
  }
 },
 "nbformat": 4,
 "nbformat_minor": 2
}
