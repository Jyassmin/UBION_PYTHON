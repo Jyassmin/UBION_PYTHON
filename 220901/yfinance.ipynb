{
 "cells": [
  {
   "cell_type": "markdown",
   "metadata": {},
   "source": [
    "# yfinance\n",
    "---"
   ]
  },
  {
   "cell_type": "markdown",
   "metadata": {},
   "source": [
    "## Q.\n",
    "- 각자 한종목의 데이터를 선택\n",
    "- open, close, high, low 컬럼의 값들을 소수점 2번자리까지 반올림 유지\n",
    "- NaN 값이 존재하면, 이를 시가로 변경\n",
    "- 파생변수 등락폭(종가-시가) 생성\n",
    "- 등락율(등락폭 / 시가 * 100) 파생변수 생성\n",
    "- 시가 / 종가 / 등락폭 / 볼륨 데이터를 시각화하여 표시 subplot 4개의 그래프 생성"
   ]
  },
  {
   "cell_type": "code",
   "execution_count": 223,
   "metadata": {},
   "outputs": [],
   "source": [
    "import yfinance as yf\n",
    "import pandas as pd"
   ]
  },
  {
   "cell_type": "code",
   "execution_count": 224,
   "metadata": {},
   "outputs": [
    {
     "name": "stdout",
     "output_type": "stream",
     "text": [
      "[*********************100%***********************]  1 of 1 completed\n"
     ]
    }
   ],
   "source": [
    "df_ks = yf.download('003490.KS', start='2019-01-01', end='2020-01-01')\n",
    "df_ks_copy = df_ks"
   ]
  },
  {
   "cell_type": "code",
   "execution_count": 225,
   "metadata": {},
   "outputs": [
    {
     "data": {
      "text/html": [
       "<div>\n",
       "<style scoped>\n",
       "    .dataframe tbody tr th:only-of-type {\n",
       "        vertical-align: middle;\n",
       "    }\n",
       "\n",
       "    .dataframe tbody tr th {\n",
       "        vertical-align: top;\n",
       "    }\n",
       "\n",
       "    .dataframe thead th {\n",
       "        text-align: right;\n",
       "    }\n",
       "</style>\n",
       "<table border=\"1\" class=\"dataframe\">\n",
       "  <thead>\n",
       "    <tr style=\"text-align: right;\">\n",
       "      <th></th>\n",
       "      <th>Open</th>\n",
       "      <th>High</th>\n",
       "      <th>Low</th>\n",
       "      <th>Close</th>\n",
       "      <th>Adj Close</th>\n",
       "      <th>Volume</th>\n",
       "    </tr>\n",
       "    <tr>\n",
       "      <th>Date</th>\n",
       "      <th></th>\n",
       "      <th></th>\n",
       "      <th></th>\n",
       "      <th></th>\n",
       "      <th></th>\n",
       "      <th></th>\n",
       "    </tr>\n",
       "  </thead>\n",
       "  <tbody>\n",
       "    <tr>\n",
       "      <th>2019-01-02</th>\n",
       "      <td>32950.0</td>\n",
       "      <td>32950.0</td>\n",
       "      <td>32050.0</td>\n",
       "      <td>32400.0</td>\n",
       "      <td>32400.0</td>\n",
       "      <td>349580</td>\n",
       "    </tr>\n",
       "    <tr>\n",
       "      <th>2019-01-03</th>\n",
       "      <td>32700.0</td>\n",
       "      <td>32950.0</td>\n",
       "      <td>31650.0</td>\n",
       "      <td>31800.0</td>\n",
       "      <td>31800.0</td>\n",
       "      <td>464995</td>\n",
       "    </tr>\n",
       "    <tr>\n",
       "      <th>2019-01-04</th>\n",
       "      <td>31650.0</td>\n",
       "      <td>32450.0</td>\n",
       "      <td>31300.0</td>\n",
       "      <td>32350.0</td>\n",
       "      <td>32350.0</td>\n",
       "      <td>424001</td>\n",
       "    </tr>\n",
       "    <tr>\n",
       "      <th>2019-01-07</th>\n",
       "      <td>32600.0</td>\n",
       "      <td>33500.0</td>\n",
       "      <td>32300.0</td>\n",
       "      <td>33500.0</td>\n",
       "      <td>33500.0</td>\n",
       "      <td>619120</td>\n",
       "    </tr>\n",
       "    <tr>\n",
       "      <th>2019-01-08</th>\n",
       "      <td>33550.0</td>\n",
       "      <td>34050.0</td>\n",
       "      <td>32900.0</td>\n",
       "      <td>33900.0</td>\n",
       "      <td>33900.0</td>\n",
       "      <td>515749</td>\n",
       "    </tr>\n",
       "    <tr>\n",
       "      <th>...</th>\n",
       "      <td>...</td>\n",
       "      <td>...</td>\n",
       "      <td>...</td>\n",
       "      <td>...</td>\n",
       "      <td>...</td>\n",
       "      <td>...</td>\n",
       "    </tr>\n",
       "    <tr>\n",
       "      <th>2019-12-23</th>\n",
       "      <td>27800.0</td>\n",
       "      <td>29700.0</td>\n",
       "      <td>27200.0</td>\n",
       "      <td>29100.0</td>\n",
       "      <td>29100.0</td>\n",
       "      <td>1847155</td>\n",
       "    </tr>\n",
       "    <tr>\n",
       "      <th>2019-12-24</th>\n",
       "      <td>29150.0</td>\n",
       "      <td>29800.0</td>\n",
       "      <td>27750.0</td>\n",
       "      <td>28000.0</td>\n",
       "      <td>28000.0</td>\n",
       "      <td>1066768</td>\n",
       "    </tr>\n",
       "    <tr>\n",
       "      <th>2019-12-26</th>\n",
       "      <td>27600.0</td>\n",
       "      <td>28200.0</td>\n",
       "      <td>27600.0</td>\n",
       "      <td>27900.0</td>\n",
       "      <td>27900.0</td>\n",
       "      <td>352610</td>\n",
       "    </tr>\n",
       "    <tr>\n",
       "      <th>2019-12-27</th>\n",
       "      <td>27550.0</td>\n",
       "      <td>28450.0</td>\n",
       "      <td>27250.0</td>\n",
       "      <td>28300.0</td>\n",
       "      <td>28300.0</td>\n",
       "      <td>470749</td>\n",
       "    </tr>\n",
       "    <tr>\n",
       "      <th>2019-12-30</th>\n",
       "      <td>28750.0</td>\n",
       "      <td>28850.0</td>\n",
       "      <td>28300.0</td>\n",
       "      <td>28500.0</td>\n",
       "      <td>28500.0</td>\n",
       "      <td>428087</td>\n",
       "    </tr>\n",
       "  </tbody>\n",
       "</table>\n",
       "<p>246 rows × 6 columns</p>\n",
       "</div>"
      ],
      "text/plain": [
       "               Open     High      Low    Close  Adj Close   Volume\n",
       "Date                                                              \n",
       "2019-01-02  32950.0  32950.0  32050.0  32400.0    32400.0   349580\n",
       "2019-01-03  32700.0  32950.0  31650.0  31800.0    31800.0   464995\n",
       "2019-01-04  31650.0  32450.0  31300.0  32350.0    32350.0   424001\n",
       "2019-01-07  32600.0  33500.0  32300.0  33500.0    33500.0   619120\n",
       "2019-01-08  33550.0  34050.0  32900.0  33900.0    33900.0   515749\n",
       "...             ...      ...      ...      ...        ...      ...\n",
       "2019-12-23  27800.0  29700.0  27200.0  29100.0    29100.0  1847155\n",
       "2019-12-24  29150.0  29800.0  27750.0  28000.0    28000.0  1066768\n",
       "2019-12-26  27600.0  28200.0  27600.0  27900.0    27900.0   352610\n",
       "2019-12-27  27550.0  28450.0  27250.0  28300.0    28300.0   470749\n",
       "2019-12-30  28750.0  28850.0  28300.0  28500.0    28500.0   428087\n",
       "\n",
       "[246 rows x 6 columns]"
      ]
     },
     "execution_count": 225,
     "metadata": {},
     "output_type": "execute_result"
    }
   ],
   "source": [
    "df_ks_copy"
   ]
  },
  {
   "cell_type": "code",
   "execution_count": 226,
   "metadata": {},
   "outputs": [],
   "source": [
    "df_ks_copy[\"월\"] = df_ks_copy[\"Open\"]\n",
    "df_ks_copy[\"월\"] = pd.to_datetime(df_ks_copy.index, format=\"%Y-%m-%d %H:%M:%S\").month.to_list()\n",
    "df_ks_copy[\"월\"] = df_ks_copy[\"월\"].astype(\"str\") + \"월\""
   ]
  },
  {
   "cell_type": "code",
   "execution_count": 227,
   "metadata": {},
   "outputs": [
    {
     "data": {
      "text/html": [
       "<div>\n",
       "<style scoped>\n",
       "    .dataframe tbody tr th:only-of-type {\n",
       "        vertical-align: middle;\n",
       "    }\n",
       "\n",
       "    .dataframe tbody tr th {\n",
       "        vertical-align: top;\n",
       "    }\n",
       "\n",
       "    .dataframe thead th {\n",
       "        text-align: right;\n",
       "    }\n",
       "</style>\n",
       "<table border=\"1\" class=\"dataframe\">\n",
       "  <thead>\n",
       "    <tr style=\"text-align: right;\">\n",
       "      <th></th>\n",
       "      <th>Open</th>\n",
       "      <th>High</th>\n",
       "      <th>Low</th>\n",
       "      <th>Close</th>\n",
       "      <th>Adj Close</th>\n",
       "      <th>Volume</th>\n",
       "      <th>월</th>\n",
       "    </tr>\n",
       "    <tr>\n",
       "      <th>Date</th>\n",
       "      <th></th>\n",
       "      <th></th>\n",
       "      <th></th>\n",
       "      <th></th>\n",
       "      <th></th>\n",
       "      <th></th>\n",
       "      <th></th>\n",
       "    </tr>\n",
       "  </thead>\n",
       "  <tbody>\n",
       "    <tr>\n",
       "      <th>2019-01-02</th>\n",
       "      <td>32950.0</td>\n",
       "      <td>32950.0</td>\n",
       "      <td>32050.0</td>\n",
       "      <td>32400.0</td>\n",
       "      <td>32400.0</td>\n",
       "      <td>349580</td>\n",
       "      <td>1월</td>\n",
       "    </tr>\n",
       "    <tr>\n",
       "      <th>2019-01-03</th>\n",
       "      <td>32700.0</td>\n",
       "      <td>32950.0</td>\n",
       "      <td>31650.0</td>\n",
       "      <td>31800.0</td>\n",
       "      <td>31800.0</td>\n",
       "      <td>464995</td>\n",
       "      <td>1월</td>\n",
       "    </tr>\n",
       "    <tr>\n",
       "      <th>2019-01-04</th>\n",
       "      <td>31650.0</td>\n",
       "      <td>32450.0</td>\n",
       "      <td>31300.0</td>\n",
       "      <td>32350.0</td>\n",
       "      <td>32350.0</td>\n",
       "      <td>424001</td>\n",
       "      <td>1월</td>\n",
       "    </tr>\n",
       "    <tr>\n",
       "      <th>2019-01-07</th>\n",
       "      <td>32600.0</td>\n",
       "      <td>33500.0</td>\n",
       "      <td>32300.0</td>\n",
       "      <td>33500.0</td>\n",
       "      <td>33500.0</td>\n",
       "      <td>619120</td>\n",
       "      <td>1월</td>\n",
       "    </tr>\n",
       "    <tr>\n",
       "      <th>2019-01-08</th>\n",
       "      <td>33550.0</td>\n",
       "      <td>34050.0</td>\n",
       "      <td>32900.0</td>\n",
       "      <td>33900.0</td>\n",
       "      <td>33900.0</td>\n",
       "      <td>515749</td>\n",
       "      <td>1월</td>\n",
       "    </tr>\n",
       "    <tr>\n",
       "      <th>...</th>\n",
       "      <td>...</td>\n",
       "      <td>...</td>\n",
       "      <td>...</td>\n",
       "      <td>...</td>\n",
       "      <td>...</td>\n",
       "      <td>...</td>\n",
       "      <td>...</td>\n",
       "    </tr>\n",
       "    <tr>\n",
       "      <th>2019-12-23</th>\n",
       "      <td>27800.0</td>\n",
       "      <td>29700.0</td>\n",
       "      <td>27200.0</td>\n",
       "      <td>29100.0</td>\n",
       "      <td>29100.0</td>\n",
       "      <td>1847155</td>\n",
       "      <td>12월</td>\n",
       "    </tr>\n",
       "    <tr>\n",
       "      <th>2019-12-24</th>\n",
       "      <td>29150.0</td>\n",
       "      <td>29800.0</td>\n",
       "      <td>27750.0</td>\n",
       "      <td>28000.0</td>\n",
       "      <td>28000.0</td>\n",
       "      <td>1066768</td>\n",
       "      <td>12월</td>\n",
       "    </tr>\n",
       "    <tr>\n",
       "      <th>2019-12-26</th>\n",
       "      <td>27600.0</td>\n",
       "      <td>28200.0</td>\n",
       "      <td>27600.0</td>\n",
       "      <td>27900.0</td>\n",
       "      <td>27900.0</td>\n",
       "      <td>352610</td>\n",
       "      <td>12월</td>\n",
       "    </tr>\n",
       "    <tr>\n",
       "      <th>2019-12-27</th>\n",
       "      <td>27550.0</td>\n",
       "      <td>28450.0</td>\n",
       "      <td>27250.0</td>\n",
       "      <td>28300.0</td>\n",
       "      <td>28300.0</td>\n",
       "      <td>470749</td>\n",
       "      <td>12월</td>\n",
       "    </tr>\n",
       "    <tr>\n",
       "      <th>2019-12-30</th>\n",
       "      <td>28750.0</td>\n",
       "      <td>28850.0</td>\n",
       "      <td>28300.0</td>\n",
       "      <td>28500.0</td>\n",
       "      <td>28500.0</td>\n",
       "      <td>428087</td>\n",
       "      <td>12월</td>\n",
       "    </tr>\n",
       "  </tbody>\n",
       "</table>\n",
       "<p>246 rows × 7 columns</p>\n",
       "</div>"
      ],
      "text/plain": [
       "               Open     High      Low    Close  Adj Close   Volume    월\n",
       "Date                                                                   \n",
       "2019-01-02  32950.0  32950.0  32050.0  32400.0    32400.0   349580   1월\n",
       "2019-01-03  32700.0  32950.0  31650.0  31800.0    31800.0   464995   1월\n",
       "2019-01-04  31650.0  32450.0  31300.0  32350.0    32350.0   424001   1월\n",
       "2019-01-07  32600.0  33500.0  32300.0  33500.0    33500.0   619120   1월\n",
       "2019-01-08  33550.0  34050.0  32900.0  33900.0    33900.0   515749   1월\n",
       "...             ...      ...      ...      ...        ...      ...  ...\n",
       "2019-12-23  27800.0  29700.0  27200.0  29100.0    29100.0  1847155  12월\n",
       "2019-12-24  29150.0  29800.0  27750.0  28000.0    28000.0  1066768  12월\n",
       "2019-12-26  27600.0  28200.0  27600.0  27900.0    27900.0   352610  12월\n",
       "2019-12-27  27550.0  28450.0  27250.0  28300.0    28300.0   470749  12월\n",
       "2019-12-30  28750.0  28850.0  28300.0  28500.0    28500.0   428087  12월\n",
       "\n",
       "[246 rows x 7 columns]"
      ]
     },
     "execution_count": 227,
     "metadata": {},
     "output_type": "execute_result"
    }
   ],
   "source": [
    "df_ks_copy"
   ]
  },
  {
   "cell_type": "code",
   "execution_count": 228,
   "metadata": {},
   "outputs": [],
   "source": [
    "# df_ks_copy[[\"open\", \"High\", \"Low\", \"Close\"]] = round(df_ks_copy[[\"open\", \"High\", \"Low\", \"Close\"]],2)\n",
    "\n",
    "df_ks_copy[\"Open\"] = round(df_ks_copy[\"Open\"],2)\n",
    "df_ks_copy[\"High\"] = round(df_ks_copy[\"High\"],2)\n",
    "df_ks_copy[\"Low\"] = round(df_ks_copy[\"Low\"],2)\n",
    "df_ks_copy[\"Close\"] = round(df_ks_copy[\"Close\"],2)"
   ]
  },
  {
   "cell_type": "code",
   "execution_count": 229,
   "metadata": {},
   "outputs": [
    {
     "data": {
      "text/plain": [
       "Open         0\n",
       "High         0\n",
       "Low          0\n",
       "Close        0\n",
       "Adj Close    0\n",
       "Volume       0\n",
       "월            0\n",
       "dtype: int64"
      ]
     },
     "execution_count": 229,
     "metadata": {},
     "output_type": "execute_result"
    }
   ],
   "source": [
    "df_ks_copy.isna().sum()\n",
    "#Nan값 없음 확인"
   ]
  },
  {
   "cell_type": "code",
   "execution_count": 230,
   "metadata": {},
   "outputs": [],
   "source": [
    "#등락폭 파생변수 생성\n",
    "df_ks_copy[\"등락폭\"] = df_ks_copy[\"Close\"] - df_ks_copy[\"Open\"]\n"
   ]
  },
  {
   "cell_type": "code",
   "execution_count": 231,
   "metadata": {},
   "outputs": [],
   "source": [
    "#등략률 파생변수 생성\n",
    "df_ks_copy[\"등락률\"] = df_ks_copy[\"등락폭\"] / df_ks_copy[\"Open\"] * 100"
   ]
  },
  {
   "cell_type": "markdown",
   "metadata": {},
   "source": [
    "## plot"
   ]
  },
  {
   "cell_type": "code",
   "execution_count": 232,
   "metadata": {},
   "outputs": [],
   "source": [
    "# pip install matplotlib\n",
    "import matplotlib.pyplot as plt\n",
    "from matplotlib import font_manager, rc"
   ]
  },
  {
   "cell_type": "code",
   "execution_count": 233,
   "metadata": {},
   "outputs": [],
   "source": [
    "# #시가 / 종가 / 등락폭 / 볼륨\n",
    "# # x = df_ks_copy.index.to_list()\n",
    "# y1 = df_ks_copy[\"Open\"].to_list()\n",
    "# y2 = df_ks_copy[\"Close\"].to_list()\n",
    "# y3 = df_ks_copy[\"등락폭\"].to_list()\n",
    "# y4 = df_ks_copy[\"Volume\"].to_list()\n",
    "\n",
    "#시가 / 종가 / 등락폭 / 볼륨\n",
    "x = df_ks_copy.index.to_list()\n",
    "y1 = df_ks_copy.groupby(\"월\").mean()[\"Open\"]\n",
    "y2 = df_ks_copy.groupby(\"월\").mean()[\"Close\"]\n",
    "y3 = df_ks_copy.groupby(\"월\").mean()[\"등락폭\"]\n",
    "y4 = df_ks_copy.groupby(\"월\").mean()[\"Volume\"]"
   ]
  },
  {
   "cell_type": "code",
   "execution_count": 234,
   "metadata": {},
   "outputs": [
    {
     "data": {
      "image/png": "[encoded data removed]",
      "text/plain": [
       "<Figure size 432x288 with 4 Axes>"
      ]
     },
     "metadata": {
      "needs_background": "light"
     },
     "output_type": "display_data"
    }
   ],
   "source": [
    "# subplot(a,b,c) -> a행, b열로 공간을 나눈 뒤 c번째 공간을 쓰자.\n",
    "plt.subplot(2,2,1)\n",
    "plt.plot(y1)\n",
    "\n",
    "plt.subplot(2,2,2)\n",
    "plt.plot(y2)\n",
    "\n",
    "plt.subplot(2,2,3)\n",
    "plt.plot(y3)\n",
    "\n",
    "plt.subplot(2,2,4)\n",
    "plt.plot(y4)\n",
    "\n",
    "rc('font', family='AppleGothic')\n",
    "plt.rcParams['axes.unicode_minus'] = False\n",
    "\n",
    "# plt.plot(x,y, \"--r\")    # \"--r\"은 점선\n",
    "# plt.plot(x, [4,2,6,4], \"oy\")    # \"oy\"는 노랑점\n",
    "# plt.xlabel(\"Class\")\n",
    "# plt.ylabel(\"Count\")\n",
    "plt.title(\"대한항공\")  #제목\n",
    "# plt.legend([\"시가\",\"종가\",\"등락폭\",\"볼륨\"], loc=1)    #legend는 범례추가. loc는 위치지정\n",
    "plt.show()"
   ]
  },
  {
   "cell_type": "code",
   "execution_count": null,
   "metadata": {},
   "outputs": [],
   "source": []
  },
  {
   "cell_type": "markdown",
   "metadata": {},
   "source": [
    "# uriage.csv\n",
    "- 파일로드\n",
    "- purchase_date 컬럼을 시계열 데이털 변경\n",
    "- item_name 컬럼의 값들을 다 대문자 변경\n",
    "- item_name 컬럼의 값들의 공백 다 삭제(좌우 띄어쓰기 전부 삭제)\n",
    "- item_name을 기준으로 오름차순 정렬\n",
    "- 인덱스 재지정\n",
    "- 결측치의 값을 확인"
   ]
  },
  {
   "cell_type": "code",
   "execution_count": 235,
   "metadata": {},
   "outputs": [
    {
     "data": {
      "text/html": [
       "<div>\n",
       "<style scoped>\n",
       "    .dataframe tbody tr th:only-of-type {\n",
       "        vertical-align: middle;\n",
       "    }\n",
       "\n",
       "    .dataframe tbody tr th {\n",
       "        vertical-align: top;\n",
       "    }\n",
       "\n",
       "    .dataframe thead th {\n",
       "        text-align: right;\n",
       "    }\n",
       "</style>\n",
       "<table border=\"1\" class=\"dataframe\">\n",
       "  <thead>\n",
       "    <tr style=\"text-align: right;\">\n",
       "      <th></th>\n",
       "      <th>purchase_date</th>\n",
       "      <th>item_name</th>\n",
       "      <th>item_price</th>\n",
       "      <th>customer_name</th>\n",
       "    </tr>\n",
       "  </thead>\n",
       "  <tbody>\n",
       "    <tr>\n",
       "      <th>0</th>\n",
       "      <td>2019-06-13 18:02</td>\n",
       "      <td>상품A</td>\n",
       "      <td>100.0</td>\n",
       "      <td>김가온</td>\n",
       "    </tr>\n",
       "    <tr>\n",
       "      <th>1</th>\n",
       "      <td>2019-07-13 13:05</td>\n",
       "      <td>상 품 S</td>\n",
       "      <td>NaN</td>\n",
       "      <td>김우찬</td>\n",
       "    </tr>\n",
       "    <tr>\n",
       "      <th>2</th>\n",
       "      <td>2019-05-11 19:42</td>\n",
       "      <td>상 품 a</td>\n",
       "      <td>NaN</td>\n",
       "      <td>김유찬</td>\n",
       "    </tr>\n",
       "    <tr>\n",
       "      <th>3</th>\n",
       "      <td>2019-02-12 23:40</td>\n",
       "      <td>상품Z</td>\n",
       "      <td>2600.0</td>\n",
       "      <td>김재현</td>\n",
       "    </tr>\n",
       "    <tr>\n",
       "      <th>4</th>\n",
       "      <td>2019-04-22 3:09</td>\n",
       "      <td>상품a</td>\n",
       "      <td>NaN</td>\n",
       "      <td>김강현</td>\n",
       "    </tr>\n",
       "    <tr>\n",
       "      <th>...</th>\n",
       "      <td>...</td>\n",
       "      <td>...</td>\n",
       "      <td>...</td>\n",
       "      <td>...</td>\n",
       "    </tr>\n",
       "    <tr>\n",
       "      <th>2994</th>\n",
       "      <td>2019-02-15 2:56</td>\n",
       "      <td>상품Y</td>\n",
       "      <td>2500.0</td>\n",
       "      <td>김정민</td>\n",
       "    </tr>\n",
       "    <tr>\n",
       "      <th>2995</th>\n",
       "      <td>2019-06-22 4:03</td>\n",
       "      <td>상품M</td>\n",
       "      <td>1300.0</td>\n",
       "      <td>김재원</td>\n",
       "    </tr>\n",
       "    <tr>\n",
       "      <th>2996</th>\n",
       "      <td>2019-03-29 11:14</td>\n",
       "      <td>상품Q</td>\n",
       "      <td>NaN</td>\n",
       "      <td>김지율</td>\n",
       "    </tr>\n",
       "    <tr>\n",
       "      <th>2997</th>\n",
       "      <td>2019-07-14 12:56</td>\n",
       "      <td>상품H</td>\n",
       "      <td>NaN</td>\n",
       "      <td>김승주</td>\n",
       "    </tr>\n",
       "    <tr>\n",
       "      <th>2998</th>\n",
       "      <td>2019-07-21 0:31</td>\n",
       "      <td>상품D</td>\n",
       "      <td>400.0</td>\n",
       "      <td>정준기</td>\n",
       "    </tr>\n",
       "  </tbody>\n",
       "</table>\n",
       "<p>2999 rows × 4 columns</p>\n",
       "</div>"
      ],
      "text/plain": [
       "         purchase_date item_name  item_price customer_name\n",
       "0     2019-06-13 18:02       상품A       100.0           김가온\n",
       "1     2019-07-13 13:05     상 품 S         NaN           김우찬\n",
       "2     2019-05-11 19:42     상 품 a         NaN           김유찬\n",
       "3     2019-02-12 23:40       상품Z      2600.0           김재현\n",
       "4      2019-04-22 3:09       상품a         NaN           김강현\n",
       "...                ...       ...         ...           ...\n",
       "2994   2019-02-15 2:56       상품Y      2500.0           김정민\n",
       "2995   2019-06-22 4:03       상품M      1300.0           김재원\n",
       "2996  2019-03-29 11:14       상품Q         NaN           김지율\n",
       "2997  2019-07-14 12:56       상품H         NaN           김승주\n",
       "2998   2019-07-21 0:31       상품D       400.0           정준기\n",
       "\n",
       "[2999 rows x 4 columns]"
      ]
     },
     "execution_count": 235,
     "metadata": {},
     "output_type": "execute_result"
    }
   ],
   "source": [
    "df_uriage = pd.read_csv(\"../csv/uriage.csv\")\n",
    "df_uriage"
   ]
  },
  {
   "cell_type": "code",
   "execution_count": 236,
   "metadata": {},
   "outputs": [],
   "source": [
    "df_uriage[\"purchase_date\"] = pd.to_datetime(df_uriage[\"purchase_date\"])"
   ]
  },
  {
   "cell_type": "code",
   "execution_count": 237,
   "metadata": {},
   "outputs": [
    {
     "data": {
      "text/html": [
       "<div>\n",
       "<style scoped>\n",
       "    .dataframe tbody tr th:only-of-type {\n",
       "        vertical-align: middle;\n",
       "    }\n",
       "\n",
       "    .dataframe tbody tr th {\n",
       "        vertical-align: top;\n",
       "    }\n",
       "\n",
       "    .dataframe thead th {\n",
       "        text-align: right;\n",
       "    }\n",
       "</style>\n",
       "<table border=\"1\" class=\"dataframe\">\n",
       "  <thead>\n",
       "    <tr style=\"text-align: right;\">\n",
       "      <th></th>\n",
       "      <th>purchase_date</th>\n",
       "      <th>item_name</th>\n",
       "      <th>item_price</th>\n",
       "      <th>customer_name</th>\n",
       "    </tr>\n",
       "  </thead>\n",
       "  <tbody>\n",
       "    <tr>\n",
       "      <th>0</th>\n",
       "      <td>2019-06-13 18:02:00</td>\n",
       "      <td>상품A</td>\n",
       "      <td>100.0</td>\n",
       "      <td>김가온</td>\n",
       "    </tr>\n",
       "    <tr>\n",
       "      <th>1</th>\n",
       "      <td>2019-07-13 13:05:00</td>\n",
       "      <td>상 품 S</td>\n",
       "      <td>NaN</td>\n",
       "      <td>김우찬</td>\n",
       "    </tr>\n",
       "    <tr>\n",
       "      <th>2</th>\n",
       "      <td>2019-05-11 19:42:00</td>\n",
       "      <td>상 품 a</td>\n",
       "      <td>NaN</td>\n",
       "      <td>김유찬</td>\n",
       "    </tr>\n",
       "    <tr>\n",
       "      <th>3</th>\n",
       "      <td>2019-02-12 23:40:00</td>\n",
       "      <td>상품Z</td>\n",
       "      <td>2600.0</td>\n",
       "      <td>김재현</td>\n",
       "    </tr>\n",
       "    <tr>\n",
       "      <th>4</th>\n",
       "      <td>2019-04-22 03:09:00</td>\n",
       "      <td>상품a</td>\n",
       "      <td>NaN</td>\n",
       "      <td>김강현</td>\n",
       "    </tr>\n",
       "    <tr>\n",
       "      <th>...</th>\n",
       "      <td>...</td>\n",
       "      <td>...</td>\n",
       "      <td>...</td>\n",
       "      <td>...</td>\n",
       "    </tr>\n",
       "    <tr>\n",
       "      <th>2994</th>\n",
       "      <td>2019-02-15 02:56:00</td>\n",
       "      <td>상품Y</td>\n",
       "      <td>2500.0</td>\n",
       "      <td>김정민</td>\n",
       "    </tr>\n",
       "    <tr>\n",
       "      <th>2995</th>\n",
       "      <td>2019-06-22 04:03:00</td>\n",
       "      <td>상품M</td>\n",
       "      <td>1300.0</td>\n",
       "      <td>김재원</td>\n",
       "    </tr>\n",
       "    <tr>\n",
       "      <th>2996</th>\n",
       "      <td>2019-03-29 11:14:00</td>\n",
       "      <td>상품Q</td>\n",
       "      <td>NaN</td>\n",
       "      <td>김지율</td>\n",
       "    </tr>\n",
       "    <tr>\n",
       "      <th>2997</th>\n",
       "      <td>2019-07-14 12:56:00</td>\n",
       "      <td>상품H</td>\n",
       "      <td>NaN</td>\n",
       "      <td>김승주</td>\n",
       "    </tr>\n",
       "    <tr>\n",
       "      <th>2998</th>\n",
       "      <td>2019-07-21 00:31:00</td>\n",
       "      <td>상품D</td>\n",
       "      <td>400.0</td>\n",
       "      <td>정준기</td>\n",
       "    </tr>\n",
       "  </tbody>\n",
       "</table>\n",
       "<p>2999 rows × 4 columns</p>\n",
       "</div>"
      ],
      "text/plain": [
       "           purchase_date item_name  item_price customer_name\n",
       "0    2019-06-13 18:02:00       상품A       100.0           김가온\n",
       "1    2019-07-13 13:05:00     상 품 S         NaN           김우찬\n",
       "2    2019-05-11 19:42:00     상 품 a         NaN           김유찬\n",
       "3    2019-02-12 23:40:00       상품Z      2600.0           김재현\n",
       "4    2019-04-22 03:09:00       상품a         NaN           김강현\n",
       "...                  ...       ...         ...           ...\n",
       "2994 2019-02-15 02:56:00       상품Y      2500.0           김정민\n",
       "2995 2019-06-22 04:03:00       상품M      1300.0           김재원\n",
       "2996 2019-03-29 11:14:00       상품Q         NaN           김지율\n",
       "2997 2019-07-14 12:56:00       상품H         NaN           김승주\n",
       "2998 2019-07-21 00:31:00       상품D       400.0           정준기\n",
       "\n",
       "[2999 rows x 4 columns]"
      ]
     },
     "execution_count": 237,
     "metadata": {},
     "output_type": "execute_result"
    }
   ],
   "source": [
    "df_uriage"
   ]
  },
  {
   "cell_type": "code",
   "execution_count": 238,
   "metadata": {},
   "outputs": [],
   "source": [
    "df_uriage[\"item_name\"] = df_uriage[\"item_name\"].str.upper()"
   ]
  },
  {
   "cell_type": "code",
   "execution_count": 239,
   "metadata": {},
   "outputs": [
    {
     "data": {
      "text/plain": [
       "0         상품A\n",
       "1       상 품 S\n",
       "2       상 품 A\n",
       "3         상품Z\n",
       "4         상품A\n",
       "        ...  \n",
       "2994      상품Y\n",
       "2995      상품M\n",
       "2996      상품Q\n",
       "2997      상품H\n",
       "2998      상품D\n",
       "Name: item_name, Length: 2999, dtype: object"
      ]
     },
     "execution_count": 239,
     "metadata": {},
     "output_type": "execute_result"
    }
   ],
   "source": [
    "df_uriage[\"item_name\"].replace(\" \", \"\")"
   ]
  },
  {
   "cell_type": "code",
   "execution_count": 240,
   "metadata": {},
   "outputs": [],
   "source": [
    "def Reple(x):\n",
    "        return x.replace(\" \", \"\")\n",
    "\n",
    "df_uriage[\"item_name\"] = df_uriage[\"item_name\"].apply(Reple)"
   ]
  },
  {
   "cell_type": "code",
   "execution_count": 241,
   "metadata": {},
   "outputs": [],
   "source": [
    "df_uriage.sort_values([\"item_name\"],ascending=True, inplace=True)"
   ]
  },
  {
   "cell_type": "code",
   "execution_count": 242,
   "metadata": {},
   "outputs": [],
   "source": [
    "df_uriage = df_uriage.reset_index()"
   ]
  },
  {
   "cell_type": "code",
   "execution_count": 243,
   "metadata": {},
   "outputs": [
    {
     "data": {
      "text/plain": [
       "index              0\n",
       "purchase_date      0\n",
       "item_name          0\n",
       "item_price       387\n",
       "customer_name      0\n",
       "dtype: int64"
      ]
     },
     "execution_count": 243,
     "metadata": {},
     "output_type": "execute_result"
    }
   ],
   "source": [
    "df_uriage.isna().sum()"
   ]
  },
  {
   "cell_type": "markdown",
   "metadata": {},
   "source": [
    "## Q.\n",
    "## 결측치의 값에 해당하는 item_name들의 item_price의 값으로 치환\n",
    "---"
   ]
  },
  {
   "cell_type": "code",
   "execution_count": 244,
   "metadata": {},
   "outputs": [
    {
     "data": {
      "text/html": [
       "<div>\n",
       "<style scoped>\n",
       "    .dataframe tbody tr th:only-of-type {\n",
       "        vertical-align: middle;\n",
       "    }\n",
       "\n",
       "    .dataframe tbody tr th {\n",
       "        vertical-align: top;\n",
       "    }\n",
       "\n",
       "    .dataframe thead th {\n",
       "        text-align: right;\n",
       "    }\n",
       "</style>\n",
       "<table border=\"1\" class=\"dataframe\">\n",
       "  <thead>\n",
       "    <tr style=\"text-align: right;\">\n",
       "      <th></th>\n",
       "      <th>index</th>\n",
       "      <th>purchase_date</th>\n",
       "      <th>item_name</th>\n",
       "      <th>item_price</th>\n",
       "      <th>customer_name</th>\n",
       "    </tr>\n",
       "  </thead>\n",
       "  <tbody>\n",
       "    <tr>\n",
       "      <th>0</th>\n",
       "      <td>0</td>\n",
       "      <td>2019-06-13 18:02:00</td>\n",
       "      <td>상품A</td>\n",
       "      <td>100.0</td>\n",
       "      <td>김가온</td>\n",
       "    </tr>\n",
       "    <tr>\n",
       "      <th>1</th>\n",
       "      <td>1748</td>\n",
       "      <td>2019-05-19 20:22:00</td>\n",
       "      <td>상품A</td>\n",
       "      <td>100.0</td>\n",
       "      <td>김시훈</td>\n",
       "    </tr>\n",
       "    <tr>\n",
       "      <th>2</th>\n",
       "      <td>223</td>\n",
       "      <td>2019-06-25 08:13:00</td>\n",
       "      <td>상품A</td>\n",
       "      <td>100.0</td>\n",
       "      <td>김유진</td>\n",
       "    </tr>\n",
       "    <tr>\n",
       "      <th>3</th>\n",
       "      <td>1742</td>\n",
       "      <td>2019-06-13 16:03:00</td>\n",
       "      <td>상품A</td>\n",
       "      <td>100.0</td>\n",
       "      <td>김건희</td>\n",
       "    </tr>\n",
       "    <tr>\n",
       "      <th>4</th>\n",
       "      <td>1738</td>\n",
       "      <td>2019-02-10 00:28:00</td>\n",
       "      <td>상품A</td>\n",
       "      <td>100.0</td>\n",
       "      <td>김하랑</td>\n",
       "    </tr>\n",
       "    <tr>\n",
       "      <th>...</th>\n",
       "      <td>...</td>\n",
       "      <td>...</td>\n",
       "      <td>...</td>\n",
       "      <td>...</td>\n",
       "      <td>...</td>\n",
       "    </tr>\n",
       "    <tr>\n",
       "      <th>2994</th>\n",
       "      <td>2880</td>\n",
       "      <td>2019-04-22 00:36:00</td>\n",
       "      <td>상품Y</td>\n",
       "      <td>NaN</td>\n",
       "      <td>김동욱</td>\n",
       "    </tr>\n",
       "    <tr>\n",
       "      <th>2995</th>\n",
       "      <td>2881</td>\n",
       "      <td>2019-04-30 14:21:00</td>\n",
       "      <td>상품Y</td>\n",
       "      <td>NaN</td>\n",
       "      <td>김하준</td>\n",
       "    </tr>\n",
       "    <tr>\n",
       "      <th>2996</th>\n",
       "      <td>1525</td>\n",
       "      <td>2019-01-24 10:27:00</td>\n",
       "      <td>상품Y</td>\n",
       "      <td>2500.0</td>\n",
       "      <td>김범준</td>\n",
       "    </tr>\n",
       "    <tr>\n",
       "      <th>2997</th>\n",
       "      <td>1361</td>\n",
       "      <td>2019-05-28 13:45:00</td>\n",
       "      <td>상품Y</td>\n",
       "      <td>2500.0</td>\n",
       "      <td>김수현</td>\n",
       "    </tr>\n",
       "    <tr>\n",
       "      <th>2998</th>\n",
       "      <td>3</td>\n",
       "      <td>2019-02-12 23:40:00</td>\n",
       "      <td>상품Z</td>\n",
       "      <td>2600.0</td>\n",
       "      <td>김재현</td>\n",
       "    </tr>\n",
       "  </tbody>\n",
       "</table>\n",
       "<p>2999 rows × 5 columns</p>\n",
       "</div>"
      ],
      "text/plain": [
       "      index       purchase_date item_name  item_price customer_name\n",
       "0         0 2019-06-13 18:02:00       상품A       100.0           김가온\n",
       "1      1748 2019-05-19 20:22:00       상품A       100.0           김시훈\n",
       "2       223 2019-06-25 08:13:00       상품A       100.0           김유진\n",
       "3      1742 2019-06-13 16:03:00       상품A       100.0           김건희\n",
       "4      1738 2019-02-10 00:28:00       상품A       100.0           김하랑\n",
       "...     ...                 ...       ...         ...           ...\n",
       "2994   2880 2019-04-22 00:36:00       상품Y         NaN           김동욱\n",
       "2995   2881 2019-04-30 14:21:00       상품Y         NaN           김하준\n",
       "2996   1525 2019-01-24 10:27:00       상품Y      2500.0           김범준\n",
       "2997   1361 2019-05-28 13:45:00       상품Y      2500.0           김수현\n",
       "2998      3 2019-02-12 23:40:00       상품Z      2600.0           김재현\n",
       "\n",
       "[2999 rows x 5 columns]"
      ]
     },
     "execution_count": 244,
     "metadata": {},
     "output_type": "execute_result"
    }
   ],
   "source": [
    "df_uriage"
   ]
  },
  {
   "cell_type": "code",
   "execution_count": 245,
   "metadata": {},
   "outputs": [
    {
     "data": {
      "text/plain": [
       "0       False\n",
       "1       False\n",
       "2       False\n",
       "3       False\n",
       "4       False\n",
       "        ...  \n",
       "2994     True\n",
       "2995     True\n",
       "2996    False\n",
       "2997    False\n",
       "2998    False\n",
       "Name: item_price, Length: 2999, dtype: bool"
      ]
     },
     "execution_count": 245,
     "metadata": {},
     "output_type": "execute_result"
    }
   ],
   "source": [
    "fig_null = df_uriage[\"item_price\"].isna()\n",
    "fig_null"
   ]
  },
  {
   "cell_type": "code",
   "execution_count": 246,
   "metadata": {},
   "outputs": [
    {
     "data": {
      "text/plain": [
       "array(['상품A', '상품B', '상품C', '상품D', '상품E', '상품F', '상품G', '상품H', '상품I',\n",
       "       '상품J', '상품K', '상품L', '상품M', '상품N', '상품O', '상품P', '상품Q', '상품R',\n",
       "       '상품S', '상품T', '상품U', '상품V', '상품W', '상품X', '상품Y'], dtype=object)"
      ]
     },
     "execution_count": 246,
     "metadata": {},
     "output_type": "execute_result"
    }
   ],
   "source": [
    "# df_uriage.loc[fig_null] #\n",
    "name_list = df_uriage.loc[fig_null, 'item_name'].unique()\n",
    "name_list"
   ]
  },
  {
   "cell_type": "markdown",
   "metadata": {},
   "source": [
    "- '~'연산자 -> 부정\n",
    "- ~False = True, ~True = False"
   ]
  },
  {
   "cell_type": "code",
   "execution_count": 247,
   "metadata": {},
   "outputs": [
    {
     "data": {
      "text/plain": [
       "100.0"
      ]
     },
     "execution_count": 247,
     "metadata": {},
     "output_type": "execute_result"
    }
   ],
   "source": [
    "df_uriage.loc[(~fig_null) & (df_uriage[\"item_name\"] == '상품A'), \"item_price\"].max()\n",
    "\n",
    "# ~fig_nill은 결측치가 아닌 정상값."
   ]
  },
  {
   "cell_type": "code",
   "execution_count": 248,
   "metadata": {},
   "outputs": [],
   "source": [
    "for name in list(name_list):\n",
    "    price = df_uriage.loc[(~fig_null) & (df_uriage[\"item_name\"] == name), \"item_price\"].mean()\n",
    "    df_uriage.loc[(fig_null) & (df_uriage[\"item_name\"] == name), \"item_price\"] = price\n"
   ]
  },
  {
   "cell_type": "code",
   "execution_count": 249,
   "metadata": {},
   "outputs": [
    {
     "data": {
      "text/plain": [
       "index            0\n",
       "purchase_date    0\n",
       "item_name        0\n",
       "item_price       0\n",
       "customer_name    0\n",
       "dtype: int64"
      ]
     },
     "execution_count": 249,
     "metadata": {},
     "output_type": "execute_result"
    }
   ],
   "source": [
    "df_uriage.isna().sum()"
   ]
  },
  {
   "cell_type": "code",
   "execution_count": null,
   "metadata": {},
   "outputs": [],
   "source": []
  },
  {
   "cell_type": "code",
   "execution_count": null,
   "metadata": {},
   "outputs": [],
   "source": []
  }
 ],
 "metadata": {
  "kernelspec": {
   "display_name": "Python 3.8.5 ('base')",
   "language": "python",
   "name": "python3"
  },
  "language_info": {
   "codemirror_mode": {
    "name": "ipython",
    "version": 3
   },
   "file_extension": ".py",
   "mimetype": "text/x-python",
   "name": "python",
   "nbconvert_exporter": "python",
   "pygments_lexer": "ipython3",
   "version": "3.8.5"
  },
  "orig_nbformat": 4,
  "vscode": {
   "interpreter": {
    "hash": "c97f18ea1c0f4969cf594a5df9f14ba2a838cf106fc5300ddecce29d9d6f0c71"
   }
  }
 },
 "nbformat": 4,
 "nbformat_minor": 2
}
